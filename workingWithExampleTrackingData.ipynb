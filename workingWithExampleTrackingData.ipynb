{
  "nbformat": 4,
  "nbformat_minor": 0,
  "metadata": {
    "colab": {
      "provenance": [],
      "gpuType": "T4",
      "authorship_tag": "ABX9TyN7bUgG1reEFcvdyK7MBsmN",
      "include_colab_link": true
    },
    "kernelspec": {
      "name": "python3",
      "display_name": "Python 3"
    },
    "language_info": {
      "name": "python"
    },
    "accelerator": "GPU"
  },
  "cells": [
    {
      "cell_type": "markdown",
      "metadata": {
        "id": "view-in-github",
        "colab_type": "text"
      },
      "source": [
        "<a href=\"https://colab.research.google.com/github/AeroEng16/FootballAnalysis/blob/main/workingWithExampleTrackingData.ipynb\" target=\"_parent\"><img src=\"https://colab.research.google.com/assets/colab-badge.svg\" alt=\"Open In Colab\"/></a>"
      ]
    },
    {
      "cell_type": "code",
      "execution_count": null,
      "metadata": {
        "id": "3ZL1lKTYzFhL",
        "outputId": "5fec7ae3-f76b-4add-99f8-b45e624943e8",
        "colab": {
          "base_uri": "https://localhost:8080/",
          "height": 35
        }
      },
      "outputs": [
        {
          "output_type": "execute_result",
          "data": {
            "text/plain": [
              "''"
            ],
            "application/vnd.google.colaboratory.intrinsic+json": {
              "type": "string"
            }
          },
          "metadata": {},
          "execution_count": 5
        }
      ],
      "source": [
        "import requests\n",
        "import re\n",
        "import json\n",
        "import datetime\n",
        "import pandas as pd\n",
        "from PIL import Image, ImageDraw\n",
        "from io import BytesIO\n",
        "import yaml\n",
        "import os\n",
        ";"
      ]
    },
    {
      "cell_type": "code",
      "source": [
        "import requests\n",
        "import json\n",
        "\n",
        "url = \"https://raw.githubusercontent.com/SkillCorner/opendata/master/data/matches/2068/match_data.json\"\n",
        "\n",
        "resp = requests.get(url)\n",
        "data = json.loads(resp.text)\n",
        "print(data[\"ball\"][\"trackable_object\"])\n"
      ],
      "metadata": {
        "id": "gUn6s2PEnAY_",
        "outputId": "07a3e092-d435-46a0-ee9a-29d475cad00f",
        "colab": {
          "base_uri": "https://localhost:8080/"
        }
      },
      "execution_count": 11,
      "outputs": [
        {
          "output_type": "stream",
          "name": "stdout",
          "text": [
            "55\n"
          ]
        }
      ]
    }
  ]
}