{
  "nbformat": 4,
  "nbformat_minor": 0,
  "metadata": {
    "colab": {
      "provenance": [],
      "gpuType": "T4",
      "authorship_tag": "ABX9TyNnbSEM62LlWd99Mi+E6bBk",
      "include_colab_link": true
    },
    "kernelspec": {
      "name": "python3",
      "display_name": "Python 3"
    },
    "language_info": {
      "name": "python"
    },
    "accelerator": "GPU"
  },
  "cells": [
    {
      "cell_type": "markdown",
      "metadata": {
        "id": "view-in-github",
        "colab_type": "text"
      },
      "source": [
        "<a href=\"https://colab.research.google.com/github/AeroEng16/FootballAnalysis/blob/main/workingWithExampleTrackingData.ipynb\" target=\"_parent\"><img src=\"https://colab.research.google.com/assets/colab-badge.svg\" alt=\"Open In Colab\"/></a>"
      ]
    },
    {
      "cell_type": "code",
      "execution_count": 2,
      "metadata": {
        "id": "3ZL1lKTYzFhL",
        "outputId": "30ace351-7d30-4854-9a08-674fa89e5a86",
        "colab": {
          "base_uri": "https://localhost:8080/",
          "height": 35
        }
      },
      "outputs": [
        {
          "output_type": "execute_result",
          "data": {
            "text/plain": [
              "''"
            ],
            "application/vnd.google.colaboratory.intrinsic+json": {
              "type": "string"
            }
          },
          "metadata": {},
          "execution_count": 2
        }
      ],
      "source": [
        "import requests\n",
        "import re\n",
        "import json\n",
        "import datetime\n",
        "import pandas as pd\n",
        "from PIL import Image, ImageDraw\n",
        "from io import BytesIO\n",
        "import yaml\n",
        "import os\n",
        ";"
      ]
    },
    {
      "cell_type": "code",
      "source": [
        "import requests\n",
        "import json\n",
        "\n",
        "url = \"https://raw.githubusercontent.com/SkillCorner/opendata/master/data/matches/2068/match_data.json\"\n",
        "\n",
        "respKeys = requests.get(url)\n",
        "matchKeyData = json.loads(respKeys.text)\n",
        "\n",
        "url = \"https://raw.githubusercontent.com/SkillCorner/opendata/master/data/matches/2068/structured_data.json\"\n",
        "respTrack = requests.get(url)\n",
        "matchTrackingData = json.loads(respTrack.text)\n"
      ],
      "metadata": {
        "id": "gUn6s2PEnAY_"
      },
      "execution_count": 42,
      "outputs": []
    },
    {
      "cell_type": "code",
      "source": [
        "## Filter json to ignore unimportant items\n",
        "\n",
        "filteredMatchTrackingData = [x for x in matchTrackingData if len(x['data'])!=0]\n"
      ],
      "metadata": {
        "id": "966pROd3ts6z"
      },
      "execution_count": 43,
      "outputs": []
    },
    {
      "cell_type": "code",
      "source": [
        "filteredMatchTrackingData[0]"
      ],
      "metadata": {
        "id": "LGZRwDL7KC6-",
        "outputId": "c32df7e5-f592-4c6d-d6f8-c4bc9317a8bc",
        "colab": {
          "base_uri": "https://localhost:8080/"
        }
      },
      "execution_count": 44,
      "outputs": [
        {
          "output_type": "execute_result",
          "data": {
            "text/plain": [
              "{'possession': {'trackable_object': None, 'group': None},\n",
              " 'frame': 925,\n",
              " 'data': [{'y': 9.49613021669,\n",
              "   'x': -0.720135315543,\n",
              "   'trackable_object': 11180,\n",
              "   'track_id': 4},\n",
              "  {'y': -3.52297115326,\n",
              "   'x': -8.8917736553,\n",
              "   'group_name': 'home team',\n",
              "   'track_id': 2},\n",
              "  {'y': 2.39001041935,\n",
              "   'x': -8.97501019069,\n",
              "   'trackable_object': 2296,\n",
              "   'track_id': 1}],\n",
              " 'period': None,\n",
              " 'time': None}"
            ]
          },
          "metadata": {},
          "execution_count": 44
        }
      ]
    },
    {
      "cell_type": "code",
      "source": [
        "#HOW TO SPLIT THIS SO ROW FOR EACH TRACKED OBJECT IN EACH FRAME\n",
        "\n",
        "filteredMatchTrackingData[0:2]\n",
        "flattenedMatchTrackingData = [[dict({i:x[i] for i in x if i!='data'},**dataDict) for dataDict in x['data']] for x in filteredMatchTrackingData]\n",
        "flattenedMatchTrackingData[0]"
      ],
      "metadata": {
        "id": "IcM_HgrHHs4M",
        "outputId": "8459c09e-69c2-4df3-aa4f-05334e82fe1d",
        "colab": {
          "base_uri": "https://localhost:8080/"
        }
      },
      "execution_count": 49,
      "outputs": [
        {
          "output_type": "execute_result",
          "data": {
            "text/plain": [
              "[{'possession': {'trackable_object': None, 'group': None},\n",
              "  'frame': 925,\n",
              "  'period': None,\n",
              "  'time': None,\n",
              "  'y': 9.49613021669,\n",
              "  'x': -0.720135315543,\n",
              "  'trackable_object': 11180,\n",
              "  'track_id': 4},\n",
              " {'possession': {'trackable_object': None, 'group': None},\n",
              "  'frame': 925,\n",
              "  'period': None,\n",
              "  'time': None,\n",
              "  'y': -3.52297115326,\n",
              "  'x': -8.8917736553,\n",
              "  'group_name': 'home team',\n",
              "  'track_id': 2},\n",
              " {'possession': {'trackable_object': None, 'group': None},\n",
              "  'frame': 925,\n",
              "  'period': None,\n",
              "  'time': None,\n",
              "  'y': 2.39001041935,\n",
              "  'x': -8.97501019069,\n",
              "  'trackable_object': 2296,\n",
              "  'track_id': 1}]"
            ]
          },
          "metadata": {},
          "execution_count": 49
        }
      ]
    },
    {
      "cell_type": "code",
      "source": [
        "df = pd.json_normalize(filteredMatchTrackingData)\n",
        "#df = df[(df[\"time\"].notnull()) &(df[\"possession.trackable_object\"].notnull()) ]\n",
        "df.head()\n",
        "\n",
        "#tmp = df.explode('data').explode('data').reset_index(drop=True)\n",
        "#df[df[\"possession.trackable_object\"]==55]\n",
        "df.iloc[3001].data"
      ],
      "metadata": {
        "colab": {
          "base_uri": "https://localhost:8080/"
        },
        "id": "OM4co1QlpKTZ",
        "outputId": "a3c7523a-a8e9-43e5-ebc2-60b61aaa9456"
      },
      "execution_count": 18,
      "outputs": [
        {
          "output_type": "execute_result",
          "data": {
            "text/plain": [
              "[{'y': 14.2053502244,\n",
              "  'x': -26.7061755848,\n",
              "  'z': 5.8048803859e-16,\n",
              "  'trackable_object': 55,\n",
              "  'track_id': -288},\n",
              " {'y': -13.5357949847,\n",
              "  'x': -13.6650258019,\n",
              "  'trackable_object': 520,\n",
              "  'track_id': 1053},\n",
              " {'y': 24.3611250378,\n",
              "  'x': -19.057749067,\n",
              "  'trackable_object': 5521,\n",
              "  'track_id': 1050},\n",
              " {'y': 11.4915895462,\n",
              "  'x': -19.805973053,\n",
              "  'trackable_object': 9279,\n",
              "  'track_id': 1051},\n",
              " {'y': -2.10776426679,\n",
              "  'x': -34.2178691682,\n",
              "  'trackable_object': 2715,\n",
              "  'track_id': 1061},\n",
              " {'y': -2.97872119858,\n",
              "  'x': -32.2139518374,\n",
              "  'trackable_object': 2083,\n",
              "  'track_id': 1059},\n",
              " {'y': 26.1600681487,\n",
              "  'x': -32.493447985,\n",
              "  'trackable_object': 9500,\n",
              "  'track_id': 1040},\n",
              " {'y': 7.20008529936,\n",
              "  'x': -28.1270612081,\n",
              "  'trackable_object': 8514,\n",
              "  'track_id': 1043},\n",
              " {'y': -5.40961108889,\n",
              "  'x': -18.0313909621,\n",
              "  'trackable_object': 12801,\n",
              "  'track_id': 1049},\n",
              " {'y': 9.34962404342,\n",
              "  'x': -25.8149958111,\n",
              "  'trackable_object': 6717,\n",
              "  'track_id': 1063},\n",
              " {'y': 8.56900519416,\n",
              "  'x': -30.4934175582,\n",
              "  'trackable_object': 7648,\n",
              "  'track_id': 1056},\n",
              " {'y': -5.68592630114,\n",
              "  'x': -23.0994895753,\n",
              "  'trackable_object': 1372,\n",
              "  'track_id': 1035},\n",
              " {'y': 21.1094697316,\n",
              "  'x': -32.9275225685,\n",
              "  'trackable_object': 6024,\n",
              "  'track_id': 1012},\n",
              " {'y': -6.60498176302,\n",
              "  'x': -33.0218075344,\n",
              "  'trackable_object': 2296,\n",
              "  'track_id': 1023},\n",
              " {'y': -4.31412568546,\n",
              "  'x': -28.0900033315,\n",
              "  'trackable_object': 11180,\n",
              "  'track_id': 1013},\n",
              " {'y': 14.2536270959,\n",
              "  'x': -25.819917588,\n",
              "  'trackable_object': 3343,\n",
              "  'track_id': 1038},\n",
              " {'y': -1.50378862449,\n",
              "  'x': -26.7321328663,\n",
              "  'trackable_object': 8052,\n",
              "  'track_id': 1009},\n",
              " {'y': 6.75757946287,\n",
              "  'x': -26.8421340216,\n",
              "  'trackable_object': 11305,\n",
              "  'track_id': 1021},\n",
              " {'y': 4.96812132427,\n",
              "  'x': -17.2424734206,\n",
              "  'trackable_object': 7680,\n",
              "  'track_id': 1045},\n",
              " {'y': 4.68753465017,\n",
              "  'x': -32.3112231663,\n",
              "  'trackable_object': 9982,\n",
              "  'track_id': 999}]"
            ]
          },
          "metadata": {},
          "execution_count": 18
        }
      ]
    }
  ]
}