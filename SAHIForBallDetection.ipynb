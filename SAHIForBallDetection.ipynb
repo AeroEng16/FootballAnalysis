{
  "cells": [
    {
      "cell_type": "markdown",
      "metadata": {
        "colab_type": "text",
        "id": "view-in-github"
      },
      "source": [
        "<a href=\"https://colab.research.google.com/github/AeroEng16/FootballAnalysis/blob/main/SAHIForBallDetection.ipynb\" target=\"_parent\"><img src=\"https://colab.research.google.com/assets/colab-badge.svg\" alt=\"Open In Colab\"/></a>"
      ]
    },
    {
      "cell_type": "markdown",
      "metadata": {
        "id": "T7JlKSKPRjwE"
      },
      "source": [
        "# SAHI"
      ]
    },
    {
      "cell_type": "code",
      "execution_count": 2,
      "metadata": {},
      "outputs": [
        {
          "name": "stdout",
          "output_type": "stream",
          "text": [
            "Read a new frame:  True\n",
            "Read a new frame:  True\n",
            "Read a new frame:  True\n",
            "Read a new frame:  True\n",
            "Read a new frame:  True\n",
            "Read a new frame:  True\n",
            "Read a new frame:  True\n",
            "Read a new frame:  True\n",
            "Read a new frame:  True\n",
            "Read a new frame:  True\n",
            "Read a new frame:  True\n",
            "Read a new frame:  True\n",
            "Read a new frame:  True\n",
            "Read a new frame:  True\n",
            "Read a new frame:  True\n",
            "Read a new frame:  True\n",
            "Read a new frame:  True\n",
            "Read a new frame:  True\n",
            "Read a new frame:  True\n",
            "Read a new frame:  True\n",
            "Read a new frame:  True\n",
            "Read a new frame:  True\n",
            "Read a new frame:  True\n",
            "Read a new frame:  True\n",
            "Read a new frame:  True\n",
            "Read a new frame:  True\n",
            "Read a new frame:  True\n",
            "Read a new frame:  True\n",
            "Read a new frame:  True\n",
            "Read a new frame:  True\n",
            "Read a new frame:  True\n",
            "Read a new frame:  True\n",
            "Read a new frame:  True\n",
            "Read a new frame:  True\n",
            "Read a new frame:  True\n",
            "Read a new frame:  True\n",
            "Read a new frame:  True\n",
            "Read a new frame:  True\n",
            "Read a new frame:  True\n",
            "Read a new frame:  True\n",
            "Read a new frame:  True\n",
            "Read a new frame:  True\n",
            "Read a new frame:  True\n",
            "Read a new frame:  True\n",
            "Read a new frame:  True\n",
            "Read a new frame:  True\n",
            "Read a new frame:  True\n",
            "Read a new frame:  True\n",
            "Read a new frame:  True\n",
            "Read a new frame:  True\n",
            "Read a new frame:  True\n",
            "Read a new frame:  True\n",
            "Read a new frame:  True\n",
            "Read a new frame:  True\n",
            "Read a new frame:  True\n",
            "Read a new frame:  True\n",
            "Read a new frame:  True\n",
            "Read a new frame:  True\n",
            "Read a new frame:  True\n",
            "Read a new frame:  True\n",
            "Read a new frame:  True\n",
            "Read a new frame:  True\n",
            "Read a new frame:  True\n",
            "Read a new frame:  True\n",
            "Read a new frame:  True\n",
            "Read a new frame:  True\n",
            "Read a new frame:  True\n",
            "Read a new frame:  True\n",
            "Read a new frame:  True\n",
            "Read a new frame:  True\n",
            "Read a new frame:  True\n",
            "Read a new frame:  True\n",
            "Read a new frame:  True\n",
            "Read a new frame:  True\n",
            "Read a new frame:  True\n",
            "Read a new frame:  True\n",
            "Read a new frame:  True\n",
            "Read a new frame:  True\n",
            "Read a new frame:  True\n",
            "Read a new frame:  True\n",
            "Read a new frame:  True\n",
            "Read a new frame:  True\n",
            "Read a new frame:  True\n",
            "Read a new frame:  True\n",
            "Read a new frame:  True\n",
            "Read a new frame:  True\n",
            "Read a new frame:  True\n",
            "Read a new frame:  True\n",
            "Read a new frame:  True\n",
            "Read a new frame:  True\n",
            "Read a new frame:  True\n",
            "Read a new frame:  True\n",
            "Read a new frame:  True\n",
            "Read a new frame:  True\n",
            "Read a new frame:  True\n",
            "Read a new frame:  True\n",
            "Read a new frame:  True\n",
            "Read a new frame:  True\n",
            "Read a new frame:  True\n",
            "Read a new frame:  True\n",
            "Read a new frame:  True\n",
            "Read a new frame:  True\n",
            "Read a new frame:  True\n",
            "Read a new frame:  True\n",
            "Read a new frame:  True\n",
            "Read a new frame:  True\n",
            "Read a new frame:  True\n",
            "Read a new frame:  True\n",
            "Read a new frame:  True\n",
            "Read a new frame:  True\n",
            "Read a new frame:  True\n",
            "Read a new frame:  True\n",
            "Read a new frame:  True\n",
            "Read a new frame:  True\n",
            "Read a new frame:  True\n",
            "Read a new frame:  True\n",
            "Read a new frame:  True\n",
            "Read a new frame:  True\n",
            "Read a new frame:  True\n",
            "Read a new frame:  True\n",
            "Read a new frame:  True\n",
            "Read a new frame:  True\n",
            "Read a new frame:  True\n",
            "Read a new frame:  True\n",
            "Read a new frame:  True\n",
            "Read a new frame:  True\n",
            "Read a new frame:  True\n",
            "Read a new frame:  True\n",
            "Read a new frame:  True\n",
            "Read a new frame:  True\n",
            "Read a new frame:  True\n",
            "Read a new frame:  True\n",
            "Read a new frame:  True\n",
            "Read a new frame:  True\n",
            "Read a new frame:  True\n",
            "Read a new frame:  True\n",
            "Read a new frame:  True\n",
            "Read a new frame:  True\n",
            "Read a new frame:  True\n",
            "Read a new frame:  True\n",
            "Read a new frame:  True\n",
            "Read a new frame:  True\n",
            "Read a new frame:  True\n",
            "Read a new frame:  True\n",
            "Read a new frame:  True\n",
            "Read a new frame:  True\n",
            "Read a new frame:  True\n",
            "Read a new frame:  True\n",
            "Read a new frame:  True\n",
            "Read a new frame:  True\n",
            "Read a new frame:  True\n",
            "Read a new frame:  True\n",
            "Read a new frame:  True\n",
            "Read a new frame:  True\n",
            "Read a new frame:  True\n",
            "Read a new frame:  True\n",
            "Read a new frame:  True\n",
            "Read a new frame:  True\n",
            "Read a new frame:  True\n",
            "Read a new frame:  True\n",
            "Read a new frame:  True\n",
            "Read a new frame:  True\n",
            "Read a new frame:  True\n",
            "Read a new frame:  True\n",
            "Read a new frame:  True\n",
            "Read a new frame:  True\n",
            "Read a new frame:  True\n",
            "Read a new frame:  True\n",
            "Read a new frame:  True\n",
            "Read a new frame:  True\n",
            "Read a new frame:  True\n",
            "Read a new frame:  True\n",
            "Read a new frame:  True\n",
            "Read a new frame:  True\n",
            "Read a new frame:  True\n",
            "Read a new frame:  True\n",
            "Read a new frame:  True\n",
            "Read a new frame:  True\n",
            "Read a new frame:  True\n",
            "Read a new frame:  True\n",
            "Read a new frame:  True\n",
            "Read a new frame:  True\n",
            "Read a new frame:  True\n",
            "Read a new frame:  True\n",
            "Read a new frame:  True\n",
            "Read a new frame:  True\n",
            "Read a new frame:  True\n",
            "Read a new frame:  True\n",
            "Read a new frame:  True\n",
            "Read a new frame:  True\n",
            "Read a new frame:  True\n",
            "Read a new frame:  True\n",
            "Read a new frame:  True\n",
            "Read a new frame:  True\n",
            "Read a new frame:  True\n",
            "Read a new frame:  True\n",
            "Read a new frame:  True\n",
            "Read a new frame:  True\n",
            "Read a new frame:  True\n",
            "Read a new frame:  True\n",
            "Read a new frame:  True\n",
            "Read a new frame:  True\n",
            "Read a new frame:  True\n",
            "Read a new frame:  True\n",
            "Read a new frame:  True\n",
            "Read a new frame:  True\n",
            "Read a new frame:  True\n",
            "Read a new frame:  True\n",
            "Read a new frame:  True\n",
            "Read a new frame:  True\n",
            "Read a new frame:  True\n",
            "Read a new frame:  True\n",
            "Read a new frame:  True\n",
            "Read a new frame:  True\n",
            "Read a new frame:  True\n",
            "Read a new frame:  True\n",
            "Read a new frame:  True\n",
            "Read a new frame:  True\n",
            "Read a new frame:  True\n",
            "Read a new frame:  True\n",
            "Read a new frame:  True\n",
            "Read a new frame:  True\n",
            "Read a new frame:  True\n",
            "Read a new frame:  True\n",
            "Read a new frame:  True\n",
            "Read a new frame:  True\n",
            "Read a new frame:  True\n",
            "Read a new frame:  True\n",
            "Read a new frame:  True\n",
            "Read a new frame:  True\n",
            "Read a new frame:  True\n",
            "Read a new frame:  True\n",
            "Read a new frame:  True\n",
            "Read a new frame:  True\n",
            "Read a new frame:  True\n",
            "Read a new frame:  True\n",
            "Read a new frame:  True\n",
            "Read a new frame:  True\n",
            "Read a new frame:  True\n",
            "Read a new frame:  True\n",
            "Read a new frame:  True\n",
            "Read a new frame:  True\n",
            "Read a new frame:  True\n",
            "Read a new frame:  True\n",
            "Read a new frame:  True\n",
            "Read a new frame:  True\n",
            "Read a new frame:  True\n",
            "Read a new frame:  True\n",
            "Read a new frame:  True\n",
            "Read a new frame:  True\n",
            "Read a new frame:  True\n",
            "Read a new frame:  True\n",
            "Read a new frame:  True\n",
            "Read a new frame:  True\n",
            "Read a new frame:  True\n",
            "Read a new frame:  True\n",
            "Read a new frame:  True\n",
            "Read a new frame:  True\n",
            "Read a new frame:  True\n",
            "Read a new frame:  True\n",
            "Read a new frame:  True\n",
            "Read a new frame:  True\n",
            "Read a new frame:  True\n",
            "Read a new frame:  True\n",
            "Read a new frame:  True\n",
            "Read a new frame:  True\n",
            "Read a new frame:  True\n",
            "Read a new frame:  True\n",
            "Read a new frame:  True\n",
            "Read a new frame:  True\n",
            "Read a new frame:  True\n",
            "Read a new frame:  True\n",
            "Read a new frame:  True\n",
            "Read a new frame:  True\n",
            "Read a new frame:  True\n",
            "Read a new frame:  True\n",
            "Read a new frame:  True\n",
            "Read a new frame:  True\n",
            "Read a new frame:  True\n",
            "Read a new frame:  True\n",
            "Read a new frame:  True\n",
            "Read a new frame:  True\n",
            "Read a new frame:  True\n",
            "Read a new frame:  True\n",
            "Read a new frame:  True\n",
            "Read a new frame:  True\n",
            "Read a new frame:  True\n",
            "Read a new frame:  True\n",
            "Read a new frame:  True\n",
            "Read a new frame:  True\n",
            "Read a new frame:  True\n",
            "Read a new frame:  True\n",
            "Read a new frame:  True\n",
            "Read a new frame:  True\n",
            "Read a new frame:  True\n",
            "Read a new frame:  True\n",
            "Read a new frame:  True\n",
            "Read a new frame:  True\n",
            "Read a new frame:  True\n",
            "Read a new frame:  True\n",
            "Read a new frame:  True\n",
            "Read a new frame:  True\n",
            "Read a new frame:  True\n",
            "Read a new frame:  True\n",
            "Read a new frame:  True\n",
            "Read a new frame:  True\n",
            "Read a new frame:  True\n",
            "Read a new frame:  True\n",
            "Read a new frame:  True\n",
            "Read a new frame:  True\n",
            "Read a new frame:  True\n",
            "Read a new frame:  True\n",
            "Read a new frame:  True\n",
            "Read a new frame:  True\n",
            "Read a new frame:  True\n",
            "Read a new frame:  True\n",
            "Read a new frame:  True\n",
            "Read a new frame:  True\n",
            "Read a new frame:  True\n",
            "Read a new frame:  True\n",
            "Read a new frame:  True\n",
            "Read a new frame:  True\n",
            "Read a new frame:  True\n",
            "Read a new frame:  True\n",
            "Read a new frame:  True\n",
            "Read a new frame:  True\n",
            "Read a new frame:  True\n",
            "Read a new frame:  True\n",
            "Read a new frame:  True\n",
            "Read a new frame:  True\n",
            "Read a new frame:  True\n",
            "Read a new frame:  True\n",
            "Read a new frame:  True\n",
            "Read a new frame:  True\n",
            "Read a new frame:  True\n",
            "Read a new frame:  True\n",
            "Read a new frame:  True\n",
            "Read a new frame:  True\n",
            "Read a new frame:  True\n",
            "Read a new frame:  True\n",
            "Read a new frame:  True\n",
            "Read a new frame:  True\n",
            "Read a new frame:  True\n",
            "Read a new frame:  True\n",
            "Read a new frame:  True\n",
            "Read a new frame:  True\n",
            "Read a new frame:  True\n",
            "Read a new frame:  True\n",
            "Read a new frame:  True\n",
            "Read a new frame:  True\n",
            "Read a new frame:  True\n",
            "Read a new frame:  True\n",
            "Read a new frame:  True\n",
            "Read a new frame:  True\n",
            "Read a new frame:  True\n",
            "Read a new frame:  True\n",
            "Read a new frame:  True\n",
            "Read a new frame:  True\n",
            "Read a new frame:  True\n",
            "Read a new frame:  True\n",
            "Read a new frame:  True\n",
            "Read a new frame:  True\n",
            "Read a new frame:  True\n",
            "Read a new frame:  True\n",
            "Read a new frame:  True\n",
            "Read a new frame:  True\n",
            "Read a new frame:  True\n",
            "Read a new frame:  True\n",
            "Read a new frame:  True\n",
            "Read a new frame:  True\n",
            "Read a new frame:  True\n",
            "Read a new frame:  True\n",
            "Read a new frame:  True\n",
            "Read a new frame:  True\n",
            "Read a new frame:  True\n",
            "Read a new frame:  True\n",
            "Read a new frame:  True\n",
            "Read a new frame:  True\n",
            "Read a new frame:  True\n",
            "Read a new frame:  True\n",
            "Read a new frame:  True\n",
            "Read a new frame:  True\n",
            "Read a new frame:  True\n",
            "Read a new frame:  True\n",
            "Read a new frame:  True\n",
            "Read a new frame:  True\n",
            "Read a new frame:  True\n",
            "Read a new frame:  True\n",
            "Read a new frame:  True\n",
            "Read a new frame:  True\n",
            "Read a new frame:  True\n",
            "Read a new frame:  True\n",
            "Read a new frame:  True\n",
            "Read a new frame:  True\n",
            "Read a new frame:  True\n",
            "Read a new frame:  True\n",
            "Read a new frame:  True\n",
            "Read a new frame:  True\n",
            "Read a new frame:  True\n",
            "Read a new frame:  True\n",
            "Read a new frame:  True\n",
            "Read a new frame:  True\n",
            "Read a new frame:  True\n",
            "Read a new frame:  True\n",
            "Read a new frame:  True\n",
            "Read a new frame:  True\n",
            "Read a new frame:  True\n",
            "Read a new frame:  True\n",
            "Read a new frame:  True\n",
            "Read a new frame:  True\n",
            "Read a new frame:  True\n",
            "Read a new frame:  True\n",
            "Read a new frame:  True\n",
            "Read a new frame:  True\n",
            "Read a new frame:  True\n",
            "Read a new frame:  True\n",
            "Read a new frame:  True\n",
            "Read a new frame:  True\n",
            "Read a new frame:  True\n",
            "Read a new frame:  True\n",
            "Read a new frame:  True\n",
            "Read a new frame:  True\n",
            "Read a new frame:  True\n",
            "Read a new frame:  True\n",
            "Read a new frame:  True\n",
            "Read a new frame:  True\n",
            "Read a new frame:  True\n",
            "Read a new frame:  True\n",
            "Read a new frame:  True\n",
            "Read a new frame:  True\n",
            "Read a new frame:  True\n",
            "Read a new frame:  True\n",
            "Read a new frame:  True\n",
            "Read a new frame:  True\n",
            "Read a new frame:  True\n",
            "Read a new frame:  True\n",
            "Read a new frame:  True\n",
            "Read a new frame:  True\n",
            "Read a new frame:  True\n",
            "Read a new frame:  True\n",
            "Read a new frame:  True\n",
            "Read a new frame:  True\n",
            "Read a new frame:  True\n",
            "Read a new frame:  True\n",
            "Read a new frame:  True\n",
            "Read a new frame:  True\n",
            "Read a new frame:  True\n",
            "Read a new frame:  True\n",
            "Read a new frame:  True\n",
            "Read a new frame:  True\n",
            "Read a new frame:  True\n",
            "Read a new frame:  True\n",
            "Read a new frame:  True\n",
            "Read a new frame:  True\n",
            "Read a new frame:  True\n",
            "Read a new frame:  True\n",
            "Read a new frame:  True\n",
            "Read a new frame:  True\n",
            "Read a new frame:  True\n",
            "Read a new frame:  True\n",
            "Read a new frame:  True\n",
            "Read a new frame:  True\n",
            "Read a new frame:  True\n",
            "Read a new frame:  True\n",
            "Read a new frame:  True\n",
            "Read a new frame:  True\n",
            "Read a new frame:  True\n",
            "Read a new frame:  True\n",
            "Read a new frame:  True\n",
            "Read a new frame:  True\n",
            "Read a new frame:  True\n",
            "Read a new frame:  True\n",
            "Read a new frame:  True\n",
            "Read a new frame:  True\n",
            "Read a new frame:  True\n",
            "Read a new frame:  True\n",
            "Read a new frame:  True\n",
            "Read a new frame:  True\n",
            "Read a new frame:  True\n",
            "Read a new frame:  True\n",
            "Read a new frame:  True\n",
            "Read a new frame:  True\n",
            "Read a new frame:  True\n",
            "Read a new frame:  True\n",
            "Read a new frame:  True\n",
            "Read a new frame:  True\n",
            "Read a new frame:  True\n",
            "Read a new frame:  True\n",
            "Read a new frame:  True\n",
            "Read a new frame:  True\n",
            "Read a new frame:  True\n",
            "Read a new frame:  True\n",
            "Read a new frame:  True\n",
            "Read a new frame:  True\n",
            "Read a new frame:  True\n",
            "Read a new frame:  True\n",
            "Read a new frame:  True\n",
            "Read a new frame:  True\n",
            "Read a new frame:  True\n",
            "Read a new frame:  True\n",
            "Read a new frame:  True\n",
            "Read a new frame:  True\n",
            "Read a new frame:  True\n",
            "Read a new frame:  True\n",
            "Read a new frame:  True\n",
            "Read a new frame:  True\n",
            "Read a new frame:  True\n",
            "Read a new frame:  True\n",
            "Read a new frame:  True\n",
            "Read a new frame:  True\n",
            "Read a new frame:  True\n",
            "Read a new frame:  True\n",
            "Read a new frame:  True\n",
            "Read a new frame:  True\n",
            "Read a new frame:  True\n",
            "Read a new frame:  True\n",
            "Read a new frame:  True\n",
            "Read a new frame:  True\n",
            "Read a new frame:  True\n",
            "Read a new frame:  True\n",
            "Read a new frame:  True\n",
            "Read a new frame:  True\n",
            "Read a new frame:  True\n",
            "Read a new frame:  True\n",
            "Read a new frame:  True\n",
            "Read a new frame:  True\n",
            "Read a new frame:  True\n",
            "Read a new frame:  True\n",
            "Read a new frame:  True\n",
            "Read a new frame:  True\n",
            "Read a new frame:  True\n",
            "Read a new frame:  True\n",
            "Read a new frame:  True\n",
            "Read a new frame:  True\n",
            "Read a new frame:  True\n",
            "Read a new frame:  True\n",
            "Read a new frame:  True\n",
            "Read a new frame:  True\n",
            "Read a new frame:  True\n",
            "Read a new frame:  True\n",
            "Read a new frame:  True\n",
            "Read a new frame:  True\n",
            "Read a new frame:  True\n",
            "Read a new frame:  True\n",
            "Read a new frame:  True\n",
            "Read a new frame:  True\n",
            "Read a new frame:  True\n",
            "Read a new frame:  True\n",
            "Read a new frame:  True\n",
            "Read a new frame:  True\n",
            "Read a new frame:  True\n",
            "Read a new frame:  True\n",
            "Read a new frame:  True\n",
            "Read a new frame:  True\n",
            "Read a new frame:  True\n",
            "Read a new frame:  True\n",
            "Read a new frame:  True\n",
            "Read a new frame:  True\n",
            "Read a new frame:  True\n",
            "Read a new frame:  True\n",
            "Read a new frame:  True\n",
            "Read a new frame:  True\n",
            "Read a new frame:  True\n",
            "Read a new frame:  True\n",
            "Read a new frame:  True\n",
            "Read a new frame:  True\n",
            "Read a new frame:  True\n",
            "Read a new frame:  True\n",
            "Read a new frame:  True\n",
            "Read a new frame:  True\n",
            "Read a new frame:  True\n",
            "Read a new frame:  True\n",
            "Read a new frame:  True\n",
            "Read a new frame:  True\n",
            "Read a new frame:  True\n",
            "Read a new frame:  True\n",
            "Read a new frame:  True\n",
            "Read a new frame:  True\n",
            "Read a new frame:  True\n",
            "Read a new frame:  True\n",
            "Read a new frame:  True\n",
            "Read a new frame:  True\n",
            "Read a new frame:  True\n",
            "Read a new frame:  True\n",
            "Read a new frame:  True\n",
            "Read a new frame:  True\n",
            "Read a new frame:  True\n",
            "Read a new frame:  True\n",
            "Read a new frame:  True\n",
            "Read a new frame:  True\n",
            "Read a new frame:  True\n",
            "Read a new frame:  True\n",
            "Read a new frame:  True\n",
            "Read a new frame:  True\n",
            "Read a new frame:  True\n",
            "Read a new frame:  True\n",
            "Read a new frame:  True\n",
            "Read a new frame:  True\n",
            "Read a new frame:  True\n",
            "Read a new frame:  True\n",
            "Read a new frame:  True\n",
            "Read a new frame:  True\n",
            "Read a new frame:  True\n",
            "Read a new frame:  True\n",
            "Read a new frame:  True\n",
            "Read a new frame:  True\n",
            "Read a new frame:  True\n",
            "Read a new frame:  True\n",
            "Read a new frame:  True\n",
            "Read a new frame:  True\n",
            "Read a new frame:  True\n",
            "Read a new frame:  True\n",
            "Read a new frame:  True\n",
            "Read a new frame:  True\n",
            "Read a new frame:  True\n",
            "Read a new frame:  True\n",
            "Read a new frame:  True\n",
            "Read a new frame:  True\n",
            "Read a new frame:  True\n",
            "Read a new frame:  True\n",
            "Read a new frame:  True\n",
            "Read a new frame:  True\n",
            "Read a new frame:  True\n",
            "Read a new frame:  True\n",
            "Read a new frame:  True\n",
            "Read a new frame:  True\n",
            "Read a new frame:  True\n",
            "Read a new frame:  True\n",
            "Read a new frame:  True\n",
            "Read a new frame:  True\n",
            "Read a new frame:  True\n",
            "Read a new frame:  True\n",
            "Read a new frame:  True\n",
            "Read a new frame:  True\n",
            "Read a new frame:  True\n",
            "Read a new frame:  True\n",
            "Read a new frame:  True\n",
            "Read a new frame:  True\n",
            "Read a new frame:  True\n",
            "Read a new frame:  True\n",
            "Read a new frame:  True\n",
            "Read a new frame:  True\n",
            "Read a new frame:  True\n",
            "Read a new frame:  True\n",
            "Read a new frame:  True\n",
            "Read a new frame:  True\n",
            "Read a new frame:  True\n",
            "Read a new frame:  True\n",
            "Read a new frame:  True\n",
            "Read a new frame:  True\n",
            "Read a new frame:  True\n",
            "Read a new frame:  True\n",
            "Read a new frame:  True\n",
            "Read a new frame:  True\n",
            "Read a new frame:  True\n",
            "Read a new frame:  True\n",
            "Read a new frame:  True\n",
            "Read a new frame:  True\n",
            "Read a new frame:  True\n",
            "Read a new frame:  True\n",
            "Read a new frame:  True\n",
            "Read a new frame:  True\n",
            "Read a new frame:  True\n",
            "Read a new frame:  True\n",
            "Read a new frame:  True\n",
            "Read a new frame:  True\n",
            "Read a new frame:  True\n",
            "Read a new frame:  True\n",
            "Read a new frame:  True\n",
            "Read a new frame:  True\n",
            "Read a new frame:  True\n",
            "Read a new frame:  True\n",
            "Read a new frame:  True\n",
            "Read a new frame:  True\n",
            "Read a new frame:  True\n",
            "Read a new frame:  True\n",
            "Read a new frame:  True\n",
            "Read a new frame:  True\n",
            "Read a new frame:  True\n",
            "Read a new frame:  True\n",
            "Read a new frame:  True\n",
            "Read a new frame:  True\n",
            "Read a new frame:  True\n",
            "Read a new frame:  True\n",
            "Read a new frame:  True\n",
            "Read a new frame:  True\n",
            "Read a new frame:  True\n",
            "Read a new frame:  True\n",
            "Read a new frame:  True\n",
            "Read a new frame:  True\n",
            "Read a new frame:  True\n",
            "Read a new frame:  True\n",
            "Read a new frame:  True\n",
            "Read a new frame:  True\n",
            "Read a new frame:  True\n",
            "Read a new frame:  True\n",
            "Read a new frame:  True\n",
            "Read a new frame:  True\n",
            "Read a new frame:  True\n",
            "Read a new frame:  True\n",
            "Read a new frame:  True\n",
            "Read a new frame:  True\n",
            "Read a new frame:  True\n",
            "Read a new frame:  True\n",
            "Read a new frame:  True\n",
            "Read a new frame:  True\n",
            "Read a new frame:  True\n",
            "Read a new frame:  True\n",
            "Read a new frame:  True\n",
            "Read a new frame:  True\n",
            "Read a new frame:  True\n",
            "Read a new frame:  True\n",
            "Read a new frame:  True\n",
            "Read a new frame:  True\n",
            "Read a new frame:  True\n",
            "Read a new frame:  True\n",
            "Read a new frame:  True\n",
            "Read a new frame:  True\n",
            "Read a new frame:  True\n",
            "Read a new frame:  True\n",
            "Read a new frame:  True\n",
            "Read a new frame:  True\n",
            "Read a new frame:  True\n",
            "Read a new frame:  True\n",
            "Read a new frame:  True\n",
            "Read a new frame:  True\n",
            "Read a new frame:  True\n",
            "Read a new frame:  True\n",
            "Read a new frame:  True\n",
            "Read a new frame:  True\n",
            "Read a new frame:  True\n",
            "Read a new frame:  True\n",
            "Read a new frame:  True\n",
            "Read a new frame:  True\n",
            "Read a new frame:  True\n",
            "Read a new frame:  True\n",
            "Read a new frame:  True\n",
            "Read a new frame:  True\n",
            "Read a new frame:  True\n",
            "Read a new frame:  True\n",
            "Read a new frame:  True\n",
            "Read a new frame:  True\n",
            "Read a new frame:  True\n",
            "Read a new frame:  True\n",
            "Read a new frame:  True\n",
            "Read a new frame:  True\n",
            "Read a new frame:  True\n",
            "Read a new frame:  True\n",
            "Read a new frame:  True\n",
            "Read a new frame:  False\n"
          ]
        }
      ],
      "source": [
        "import cv2\n",
        "vidcap = cv2.VideoCapture('D:/FootballAnalysis/FootballAnalysis/08fd33_4.mp4')\n",
        "success,image = vidcap.read()\n",
        "count = 0\n",
        "while success:\n",
        "  cv2.imwrite(\"testFrames/frame%d.jpg\" % count, image)     # save frame as JPEG file      \n",
        "  success,image = vidcap.read()\n",
        "  print('Read a new frame: ', success)\n",
        "  count += 1"
      ]
    },
    {
      "cell_type": "code",
      "execution_count": 3,
      "metadata": {},
      "outputs": [
        {
          "name": "stdout",
          "output_type": "stream",
          "text": [
            "There are 750 listed files in folder: testFrames/\n"
          ]
        },
        {
          "name": "stderr",
          "output_type": "stream",
          "text": [
            "Performing inference on images:   0%|          | 0/750 [00:00<?, ?it/s]"
          ]
        },
        {
          "name": "stdout",
          "output_type": "stream",
          "text": [
            "Performing prediction on 60 slices.\n"
          ]
        },
        {
          "name": "stderr",
          "output_type": "stream",
          "text": [
            "Performing inference on images:   0%|          | 1/750 [00:04<58:49,  4.71s/it]"
          ]
        },
        {
          "name": "stdout",
          "output_type": "stream",
          "text": [
            "Prediction time is: 4586.41 ms\n",
            "Performing prediction on 60 slices.\n"
          ]
        },
        {
          "name": "stderr",
          "output_type": "stream",
          "text": [
            "Performing inference on images:   0%|          | 2/750 [00:08<50:41,  4.07s/it]"
          ]
        },
        {
          "name": "stdout",
          "output_type": "stream",
          "text": [
            "Prediction time is: 3496.29 ms\n"
          ]
        },
        {
          "name": "stderr",
          "output_type": "stream",
          "text": [
            "Performing inference on images:   0%|          | 2/750 [00:08<50:41,  4.07s/it]"
          ]
        },
        {
          "name": "stdout",
          "output_type": "stream",
          "text": [
            "Performing prediction on 60 slices.\n"
          ]
        },
        {
          "name": "stderr",
          "output_type": "stream",
          "text": [
            "Performing inference on images:   0%|          | 3/750 [00:12<48:38,  3.91s/it]"
          ]
        },
        {
          "name": "stdout",
          "output_type": "stream",
          "text": [
            "Prediction time is: 3495.62 ms\n"
          ]
        },
        {
          "name": "stderr",
          "output_type": "stream",
          "text": [
            "Performing inference on images:   0%|          | 3/750 [00:12<48:38,  3.91s/it]"
          ]
        },
        {
          "name": "stdout",
          "output_type": "stream",
          "text": [
            "Performing prediction on 60 slices.\n"
          ]
        },
        {
          "name": "stderr",
          "output_type": "stream",
          "text": [
            "Performing inference on images:   1%|          | 4/750 [00:15<47:54,  3.85s/it]"
          ]
        },
        {
          "name": "stdout",
          "output_type": "stream",
          "text": [
            "Prediction time is: 3523.20 ms\n",
            "Performing prediction on 60 slices.\n"
          ]
        },
        {
          "name": "stderr",
          "output_type": "stream",
          "text": [
            "Performing inference on images:   1%|          | 5/750 [00:19<47:02,  3.79s/it]"
          ]
        },
        {
          "name": "stdout",
          "output_type": "stream",
          "text": [
            "Prediction time is: 3537.89 ms\n"
          ]
        },
        {
          "name": "stderr",
          "output_type": "stream",
          "text": [
            "Performing inference on images:   1%|          | 5/750 [00:19<47:02,  3.79s/it]"
          ]
        },
        {
          "name": "stdout",
          "output_type": "stream",
          "text": [
            "Performing prediction on 60 slices.\n"
          ]
        },
        {
          "name": "stderr",
          "output_type": "stream",
          "text": [
            "Performing inference on images:   1%|          | 6/750 [00:23<46:30,  3.75s/it]"
          ]
        },
        {
          "name": "stdout",
          "output_type": "stream",
          "text": [
            "Prediction time is: 3445.67 ms\n"
          ]
        },
        {
          "name": "stderr",
          "output_type": "stream",
          "text": [
            "Performing inference on images:   1%|          | 6/750 [00:23<46:30,  3.75s/it]"
          ]
        },
        {
          "name": "stdout",
          "output_type": "stream",
          "text": [
            "Performing prediction on 60 slices.\n"
          ]
        },
        {
          "name": "stderr",
          "output_type": "stream",
          "text": [
            "Performing inference on images:   1%|          | 7/750 [00:26<45:50,  3.70s/it]"
          ]
        },
        {
          "name": "stdout",
          "output_type": "stream",
          "text": [
            "Prediction time is: 3365.10 ms\n"
          ]
        },
        {
          "name": "stderr",
          "output_type": "stream",
          "text": [
            "Performing inference on images:   1%|          | 7/750 [00:26<45:50,  3.70s/it]"
          ]
        },
        {
          "name": "stdout",
          "output_type": "stream",
          "text": [
            "Performing prediction on 60 slices.\n"
          ]
        },
        {
          "name": "stderr",
          "output_type": "stream",
          "text": [
            "Performing inference on images:   1%|          | 8/750 [00:30<45:41,  3.69s/it]"
          ]
        },
        {
          "name": "stdout",
          "output_type": "stream",
          "text": [
            "Prediction time is: 3402.82 ms\n"
          ]
        },
        {
          "name": "stderr",
          "output_type": "stream",
          "text": [
            "Performing inference on images:   1%|          | 8/750 [00:30<45:41,  3.69s/it]"
          ]
        },
        {
          "name": "stdout",
          "output_type": "stream",
          "text": [
            "Performing prediction on 60 slices.\n"
          ]
        },
        {
          "name": "stderr",
          "output_type": "stream",
          "text": [
            "Performing inference on images:   1%|          | 9/750 [00:34<45:24,  3.68s/it]"
          ]
        },
        {
          "name": "stdout",
          "output_type": "stream",
          "text": [
            "Prediction time is: 3393.95 ms\n"
          ]
        },
        {
          "name": "stderr",
          "output_type": "stream",
          "text": [
            "Performing inference on images:   1%|          | 9/750 [00:34<45:24,  3.68s/it]"
          ]
        },
        {
          "name": "stdout",
          "output_type": "stream",
          "text": [
            "Performing prediction on 60 slices.\n"
          ]
        },
        {
          "name": "stderr",
          "output_type": "stream",
          "text": [
            "Performing inference on images:   1%|▏         | 10/750 [00:37<45:04,  3.65s/it]"
          ]
        },
        {
          "name": "stdout",
          "output_type": "stream",
          "text": [
            "Prediction time is: 3367.04 ms\n",
            "Performing prediction on 60 slices.\n"
          ]
        },
        {
          "name": "stderr",
          "output_type": "stream",
          "text": [
            "Performing inference on images:   1%|▏         | 11/750 [00:41<44:42,  3.63s/it]"
          ]
        },
        {
          "name": "stdout",
          "output_type": "stream",
          "text": [
            "Prediction time is: 3408.72 ms\n"
          ]
        },
        {
          "name": "stderr",
          "output_type": "stream",
          "text": [
            "Performing inference on images:   1%|▏         | 11/750 [00:41<44:42,  3.63s/it]"
          ]
        },
        {
          "name": "stdout",
          "output_type": "stream",
          "text": [
            "Performing prediction on 60 slices.\n"
          ]
        },
        {
          "name": "stderr",
          "output_type": "stream",
          "text": [
            "Performing inference on images:   2%|▏         | 12/750 [00:44<45:01,  3.66s/it]"
          ]
        },
        {
          "name": "stdout",
          "output_type": "stream",
          "text": [
            "Prediction time is: 3521.43 ms\n"
          ]
        },
        {
          "name": "stderr",
          "output_type": "stream",
          "text": [
            "Performing inference on images:   2%|▏         | 12/750 [00:45<45:01,  3.66s/it]"
          ]
        },
        {
          "name": "stdout",
          "output_type": "stream",
          "text": [
            "Performing prediction on 60 slices.\n"
          ]
        },
        {
          "name": "stderr",
          "output_type": "stream",
          "text": [
            "Performing inference on images:   2%|▏         | 13/750 [00:48<45:32,  3.71s/it]"
          ]
        },
        {
          "name": "stdout",
          "output_type": "stream",
          "text": [
            "Prediction time is: 3512.21 ms\n"
          ]
        },
        {
          "name": "stderr",
          "output_type": "stream",
          "text": [
            "Performing inference on images:   2%|▏         | 13/750 [00:48<45:32,  3.71s/it]"
          ]
        },
        {
          "name": "stdout",
          "output_type": "stream",
          "text": [
            "Performing prediction on 60 slices.\n"
          ]
        },
        {
          "name": "stderr",
          "output_type": "stream",
          "text": [
            "Performing inference on images:   2%|▏         | 14/750 [00:52<45:33,  3.71s/it]"
          ]
        },
        {
          "name": "stdout",
          "output_type": "stream",
          "text": [
            "Prediction time is: 3581.81 ms\n"
          ]
        },
        {
          "name": "stderr",
          "output_type": "stream",
          "text": [
            "Performing inference on images:   2%|▏         | 14/750 [00:52<45:33,  3.71s/it]"
          ]
        },
        {
          "name": "stdout",
          "output_type": "stream",
          "text": [
            "Performing prediction on 60 slices.\n"
          ]
        },
        {
          "name": "stderr",
          "output_type": "stream",
          "text": [
            "Performing inference on images:   2%|▏         | 15/750 [00:56<45:38,  3.73s/it]"
          ]
        },
        {
          "name": "stdout",
          "output_type": "stream",
          "text": [
            "Prediction time is: 3544.18 ms\n"
          ]
        },
        {
          "name": "stderr",
          "output_type": "stream",
          "text": [
            "Performing inference on images:   2%|▏         | 15/750 [00:56<45:38,  3.73s/it]"
          ]
        },
        {
          "name": "stdout",
          "output_type": "stream",
          "text": [
            "Performing prediction on 60 slices.\n"
          ]
        },
        {
          "name": "stderr",
          "output_type": "stream",
          "text": [
            "                                                                                \r"
          ]
        },
        {
          "name": "stdout",
          "output_type": "stream",
          "text": [
            "Prediction time is: 3619.73 ms\n"
          ]
        },
        {
          "name": "stderr",
          "output_type": "stream",
          "text": [
            "Performing inference on images:   2%|▏         | 16/750 [01:00<45:58,  3.76s/it]"
          ]
        },
        {
          "name": "stdout",
          "output_type": "stream",
          "text": [
            "Performing prediction on 60 slices.\n"
          ]
        },
        {
          "name": "stderr",
          "output_type": "stream",
          "text": [
            "Performing inference on images:   2%|▏         | 17/750 [01:03<46:09,  3.78s/it]"
          ]
        },
        {
          "name": "stdout",
          "output_type": "stream",
          "text": [
            "Prediction time is: 3694.65 ms\n"
          ]
        },
        {
          "name": "stderr",
          "output_type": "stream",
          "text": [
            "Performing inference on images:   2%|▏         | 17/750 [01:04<46:09,  3.78s/it]"
          ]
        },
        {
          "name": "stdout",
          "output_type": "stream",
          "text": [
            "Performing prediction on 60 slices.\n"
          ]
        },
        {
          "name": "stderr",
          "output_type": "stream",
          "text": [
            "Performing inference on images:   2%|▏         | 18/750 [01:07<45:36,  3.74s/it]"
          ]
        },
        {
          "name": "stdout",
          "output_type": "stream",
          "text": [
            "Prediction time is: 3426.74 ms\n",
            "Performing prediction on 60 slices.\n"
          ]
        },
        {
          "name": "stderr",
          "output_type": "stream",
          "text": [
            "Performing inference on images:   3%|▎         | 19/750 [01:11<44:46,  3.67s/it]"
          ]
        },
        {
          "name": "stdout",
          "output_type": "stream",
          "text": [
            "Prediction time is: 3389.60 ms\n",
            "Performing prediction on 60 slices.\n"
          ]
        },
        {
          "name": "stderr",
          "output_type": "stream",
          "text": [
            "Performing inference on images:   3%|▎         | 20/750 [01:14<44:25,  3.65s/it]"
          ]
        },
        {
          "name": "stdout",
          "output_type": "stream",
          "text": [
            "Prediction time is: 3441.40 ms\n",
            "Performing prediction on 60 slices.\n"
          ]
        },
        {
          "name": "stderr",
          "output_type": "stream",
          "text": [
            "Performing inference on images:   3%|▎         | 21/750 [01:18<43:48,  3.61s/it]"
          ]
        },
        {
          "name": "stdout",
          "output_type": "stream",
          "text": [
            "Prediction time is: 3379.30 ms\n"
          ]
        },
        {
          "name": "stderr",
          "output_type": "stream",
          "text": [
            "Performing inference on images:   3%|▎         | 21/750 [01:18<43:48,  3.61s/it]"
          ]
        },
        {
          "name": "stdout",
          "output_type": "stream",
          "text": [
            "Performing prediction on 60 slices.\n"
          ]
        },
        {
          "name": "stderr",
          "output_type": "stream",
          "text": [
            "Performing inference on images:   3%|▎         | 22/750 [01:21<43:38,  3.60s/it]"
          ]
        },
        {
          "name": "stdout",
          "output_type": "stream",
          "text": [
            "Prediction time is: 3353.94 ms\n",
            "Performing prediction on 60 slices.\n"
          ]
        },
        {
          "name": "stderr",
          "output_type": "stream",
          "text": [
            "Performing inference on images:   3%|▎         | 23/750 [01:25<43:28,  3.59s/it]"
          ]
        },
        {
          "name": "stdout",
          "output_type": "stream",
          "text": [
            "Prediction time is: 3437.33 ms\n"
          ]
        },
        {
          "name": "stderr",
          "output_type": "stream",
          "text": [
            "Performing inference on images:   3%|▎         | 23/750 [01:25<43:28,  3.59s/it]"
          ]
        },
        {
          "name": "stdout",
          "output_type": "stream",
          "text": [
            "Performing prediction on 60 slices.\n"
          ]
        }
      ],
      "source": [
        "from sahi.predict import get_sliced_prediction\n",
        "from sahi import AutoDetectionModel\n",
        "from sahi.predict import get_prediction, get_sliced_prediction, predict\n",
        "\n",
        "# init any model\n",
        "\n",
        "\n",
        "detection_model = AutoDetectionModel.from_pretrained(\n",
        "    model_type='yolov8',\n",
        "    model_path=\"bestBallSoFar_0409.pt\",\n",
        "    confidence_threshold=0.3,\n",
        "    device=\"cuda:0\", # or 'cuda:0'\n",
        ")\n",
        "    \n",
        "predict(\n",
        "    model_type='yolov8',\n",
        "    model_path=\"bestBallSoFar_0409.pt\",\n",
        "    model_device=\"cuda:0\",\n",
        "    model_confidence_threshold=0.4,\n",
        "    source=\"testFrames\",\n",
        "    slice_height=256,\n",
        "    slice_width=256,\n",
        "    overlap_height_ratio=0.2,\n",
        "    overlap_width_ratio=0.2,\n",
        ")\n",
        "\n",
        "\n",
        "# get sliced prediction result\n",
        "result = get_sliced_prediction(\n",
        "    \"oldFirmTestImage.png\",\n",
        "    detection_model,\n",
        "    slice_height = 256,\n",
        "    slice_width = 256,\n",
        "    overlap_height_ratio = 0.2,\n",
        "    overlap_width_ratio = 0.2\n",
        ")\n",
        "result.export_visuals(export_dir=\"demo_data/\")"
      ]
    },
    {
      "cell_type": "code",
      "execution_count": 4,
      "metadata": {
        "colab": {
          "base_uri": "https://localhost:8080/"
        },
        "id": "Ua9c4euSRd_K",
        "outputId": "101c33a0-35b4-4a9d-fb72-786cb753d9d4"
      },
      "outputs": [
        {
          "ename": "ModuleNotFoundError",
          "evalue": "No module named 'sahi'",
          "output_type": "error",
          "traceback": [
            "\u001b[1;31m---------------------------------------------------------------------------\u001b[0m",
            "\u001b[1;31mModuleNotFoundError\u001b[0m                       Traceback (most recent call last)",
            "Cell \u001b[1;32mIn[4], line 1\u001b[0m\n\u001b[1;32m----> 1\u001b[0m \u001b[38;5;28;01mfrom\u001b[39;00m \u001b[38;5;21;01msahi\u001b[39;00m\u001b[38;5;21;01m.\u001b[39;00m\u001b[38;5;21;01mslicing\u001b[39;00m \u001b[38;5;28;01mimport\u001b[39;00m slice_coco\n\u001b[0;32m      3\u001b[0m coco_dict, coco_path \u001b[38;5;241m=\u001b[39m slice_coco(\n\u001b[0;32m      4\u001b[0m     output_coco_annotation_file_name\u001b[38;5;241m=\u001b[39m\u001b[38;5;124m\"\u001b[39m\u001b[38;5;124mD:/FootballAnalysis/FootballAnalysis/ballDetect4Coco/splitImages/test/labels.json\u001b[39m\u001b[38;5;124m\"\u001b[39m,\n\u001b[0;32m      5\u001b[0m     coco_annotation_file_path\u001b[38;5;241m=\u001b[39m\u001b[38;5;124m\"\u001b[39m\u001b[38;5;124mD:/FootballAnalysis/FootballAnalysis/ballDetect4Coco/test/labels.json\u001b[39m\u001b[38;5;124m\"\u001b[39m,\n\u001b[1;32m   (...)\u001b[0m\n\u001b[0;32m     11\u001b[0m     overlap_width_ratio\u001b[38;5;241m=\u001b[39m\u001b[38;5;241m0.2\u001b[39m,\n\u001b[0;32m     12\u001b[0m )\n",
            "\u001b[1;31mModuleNotFoundError\u001b[0m: No module named 'sahi'"
          ]
        }
      ],
      "source": [
        "from sahi.slicing import slice_coco\n",
        "\n",
        "coco_dict, coco_path = slice_coco(\n",
        "    output_coco_annotation_file_name=\"D:/FootballAnalysis/FootballAnalysis/ballDetect4Coco/splitImages/test/labels.json\",\n",
        "    coco_annotation_file_path=\"D:/FootballAnalysis/FootballAnalysis/ballDetect4Coco/test/labels.json\",\n",
        "    output_dir = \"D:/FootballAnalysis/FootballAnalysis/ballDetect4Coco/splitImages/test/data\",\n",
        "    image_dir=\"D:/FootballAnalysis/FootballAnalysis/ballDetect4Coco/test/data\",\n",
        "    slice_height=256,\n",
        "    slice_width=256,\n",
        "    overlap_height_ratio=0.2,\n",
        "    overlap_width_ratio=0.2,\n",
        ")"
      ]
    },
    {
      "cell_type": "markdown",
      "metadata": {
        "id": "rxS_VipgRfYi"
      },
      "source": [
        "# Fifty One Dataset Visualisation"
      ]
    },
    {
      "cell_type": "code",
      "execution_count": 5,
      "metadata": {
        "id": "Pq6-Vwg2BbHN"
      },
      "outputs": [],
      "source": [
        "import pandas as pd\n",
        "import numpy as np\n",
        "import plotly.express as px\n",
        "import plotly.graph_objects as go\n",
        "import plotly.io\n",
        "import ast\n",
        "from plotly.subplots import make_subplots"
      ]
    },
    {
      "cell_type": "markdown",
      "metadata": {
        "id": "4D2IkGNfX2io"
      },
      "source": [
        "## Install FiftyOne\n"
      ]
    },
    {
      "cell_type": "markdown",
      "metadata": {
        "id": "Bb2MrNxqX2ip"
      },
      "source": [
        "## Load a dataset"
      ]
    },
    {
      "cell_type": "markdown",
      "metadata": {
        "id": "my6pYOdeX2iq"
      },
      "source": [
        "Let's get started by importing the FiftyOne library:"
      ]
    },
    {
      "cell_type": "code",
      "execution_count": 6,
      "metadata": {
        "id": "3ICENJB4X2iq"
      },
      "outputs": [],
      "source": [
        "import fiftyone as fo"
      ]
    },
    {
      "cell_type": "code",
      "execution_count": 11,
      "metadata": {
        "id": "o9-oOg2OX2iq",
        "scrolled": false
      },
      "outputs": [
        {
          "name": "stdout",
          "output_type": "stream",
          "text": [
            " 100% |█████████████| 35604/35604 [13.1s elapsed, 0s remaining, 2.7K samples/s]      \n"
          ]
        },
        {
          "name": "stderr",
          "output_type": "stream",
          "text": [
            "08/27/2024 21:06:23 - INFO - eta.core.utils -    100% |█████████████| 35604/35604 [13.1s elapsed, 0s remaining, 2.7K samples/s]      \n"
          ]
        },
        {
          "name": "stdout",
          "output_type": "stream",
          "text": [
            "Dataset:     ballDataset2\n",
            "Media type:  image\n",
            "Num samples: 35604\n",
            "Sample fields:\n",
            "    id:            fiftyone.core.fields.ObjectIdField\n",
            "    filepath:      fiftyone.core.fields.StringField\n",
            "    tags:          fiftyone.core.fields.ListField(fiftyone.core.fields.StringField)\n",
            "    metadata:      fiftyone.core.fields.EmbeddedDocumentField(fiftyone.core.metadata.ImageMetadata)\n",
            "    detections:    fiftyone.core.fields.EmbeddedDocumentField(fiftyone.core.labels.Detections)\n",
            "    segmentations: fiftyone.core.fields.EmbeddedDocumentField(fiftyone.core.labels.Detections)\n",
            "View stages:\n",
            "    ---\n"
          ]
        }
      ],
      "source": [
        "import fiftyone.zoo as foz\n",
        "\n",
        "dataset = fo.Dataset.from_dir(\n",
        "    dataset_dir = \"C:/VSCodeProjects/FootballAnalysis/ballDetect4Coco/splitImages/train\",\n",
        "    dataset_type=fo.types.COCODetectionDataset,\n",
        "    name=\"ballDataset2\",\n",
        ")\n",
        "view = dataset.view()\n",
        "\n",
        "print(view)"
      ]
    },
    {
      "cell_type": "code",
      "execution_count": null,
      "metadata": {
        "id": "TJf0d-a1X2ir"
      },
      "outputs": [],
      "source": [
        "print(dataset)"
      ]
    },
    {
      "cell_type": "markdown",
      "metadata": {
        "id": "S1vYn8xEX2ir"
      },
      "source": [
        "Now let's launch the [FiftyOne App](https://voxel51.com/docs/fiftyone/user_guide/app.html) so we can explore the dataset visually. Right away you will see that because we are in a notebook, an embedded instance of the App with our dataset loaded has been rendered in the cell's output.\n",
        "\n",
        "The [Session](https://voxel51.com/docs/fiftyone/api/fiftyone.core.session.html#fiftyone.core.session.Session) object created below is a bi-directional connection between your Python kernel and the FiftyOne App, as we'll see later."
      ]
    },
    {
      "cell_type": "code",
      "execution_count": 13,
      "metadata": {
        "id": "DeNN4HaiX2ir"
      },
      "outputs": [
        {
          "data": {
            "text/html": [
              "\n",
              "        <iframe\n",
              "            width=\"100%\"\n",
              "            height=\"800\"\n",
              "            src=\"http://localhost:5151/?notebook=True&subscription=952278c7-06f2-4f01-84ce-98aefa48fc3e\"\n",
              "            frameborder=\"0\"\n",
              "            allowfullscreen\n",
              "            \n",
              "        ></iframe>\n",
              "        "
            ],
            "text/plain": [
              "<IPython.lib.display.IFrame at 0x17d2bc5b410>"
            ]
          },
          "metadata": {},
          "output_type": "display_data"
        },
        {
          "name": "stdout",
          "output_type": "stream",
          "text": [
            "\n",
            "Welcome to\n",
            "\n",
            "███████╗██╗███████╗████████╗██╗   ██╗ ██████╗ ███╗   ██╗███████╗\n",
            "██╔════╝██║██╔════╝╚══██╔══╝╚██╗ ██╔╝██╔═══██╗████╗  ██║██╔════╝\n",
            "█████╗  ██║█████╗     ██║    ╚████╔╝ ██║   ██║██╔██╗ ██║█████╗\n",
            "██╔══╝  ██║██╔══╝     ██║     ╚██╔╝  ██║   ██║██║╚██╗██║██╔══╝\n",
            "██║     ██║██║        ██║      ██║   ╚██████╔╝██║ ╚████║███████╗\n",
            "╚═╝     ╚═╝╚═╝        ╚═╝      ╚═╝    ╚═════╝ ╚═╝  ╚═══╝╚══════╝ v0.25.0\n",
            "\n",
            "If you're finding FiftyOne helpful, here's how you can get involved:\n",
            "\n",
            "|\n",
            "|  ⭐⭐⭐ Give the project a star on GitHub ⭐⭐⭐\n",
            "|  https://github.com/voxel51/fiftyone\n",
            "|\n",
            "|  🚀🚀🚀 Join the FiftyOne Slack community 🚀🚀🚀\n",
            "|  https://slack.voxel51.com\n",
            "|\n",
            "\n"
          ]
        },
        {
          "name": "stderr",
          "output_type": "stream",
          "text": [
            "08/27/2024 21:07:00 - INFO - fiftyone.core.session.session -   \n",
            "Welcome to\n",
            "\n",
            "███████╗██╗███████╗████████╗██╗   ██╗ ██████╗ ███╗   ██╗███████╗\n",
            "██╔════╝██║██╔════╝╚══██╔══╝╚██╗ ██╔╝██╔═══██╗████╗  ██║██╔════╝\n",
            "█████╗  ██║█████╗     ██║    ╚████╔╝ ██║   ██║██╔██╗ ██║█████╗\n",
            "██╔══╝  ██║██╔══╝     ██║     ╚██╔╝  ██║   ██║██║╚██╗██║██╔══╝\n",
            "██║     ██║██║        ██║      ██║   ╚██████╔╝██║ ╚████║███████╗\n",
            "╚═╝     ╚═╝╚═╝        ╚═╝      ╚═╝    ╚═════╝ ╚═╝  ╚═══╝╚══════╝ v0.25.0\n",
            "\n",
            "If you're finding FiftyOne helpful, here's how you can get involved:\n",
            "\n",
            "|\n",
            "|  ⭐⭐⭐ Give the project a star on GitHub ⭐⭐⭐\n",
            "|  https://github.com/voxel51/fiftyone\n",
            "|\n",
            "|  🚀🚀🚀 Join the FiftyOne Slack community 🚀🚀🚀\n",
            "|  https://slack.voxel51.com\n",
            "|\n",
            "\n"
          ]
        }
      ],
      "source": [
        "session = fo.launch_app(dataset)"
      ]
    }
  ],
  "metadata": {
    "colab": {
      "authorship_tag": "ABX9TyNfne7XhqZu/6arRgNvbofR",
      "include_colab_link": true,
      "provenance": [],
      "toc_visible": true
    },
    "kernelspec": {
      "display_name": "Python 3",
      "name": "python3"
    },
    "language_info": {
      "codemirror_mode": {
        "name": "ipython",
        "version": 3
      },
      "file_extension": ".py",
      "mimetype": "text/x-python",
      "name": "python",
      "nbconvert_exporter": "python",
      "pygments_lexer": "ipython3",
      "version": "3.11.3"
    }
  },
  "nbformat": 4,
  "nbformat_minor": 0
}
