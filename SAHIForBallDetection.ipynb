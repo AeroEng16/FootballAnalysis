{
  "cells": [
    {
      "cell_type": "markdown",
      "metadata": {
        "colab_type": "text",
        "id": "view-in-github"
      },
      "source": [
        "<a href=\"https://colab.research.google.com/github/AeroEng16/FootballAnalysis/blob/main/SAHIForBallDetection.ipynb\" target=\"_parent\"><img src=\"https://colab.research.google.com/assets/colab-badge.svg\" alt=\"Open In Colab\"/></a>"
      ]
    },
    {
      "cell_type": "markdown",
      "metadata": {
        "id": "T7JlKSKPRjwE"
      },
      "source": [
        "# SAHI"
      ]
    },
    {
      "cell_type": "code",
      "execution_count": 4,
      "metadata": {
        "colab": {
          "base_uri": "https://localhost:8080/"
        },
        "id": "Ua9c4euSRd_K",
        "outputId": "101c33a0-35b4-4a9d-fb72-786cb753d9d4"
      },
      "outputs": [
        {
          "name": "stdout",
          "output_type": "stream",
          "text": [
            "indexing coco dataset annotations...\n"
          ]
        },
        {
          "name": "stderr",
          "output_type": "stream",
          "text": [
            "Loading coco annotations:   0%|          | 0/3956 [00:00<?, ?it/s]"
          ]
        },
        {
          "name": "stderr",
          "output_type": "stream",
          "text": [
            "Loading coco annotations: 100%|██████████| 3956/3956 [00:00<00:00, 52843.73it/s]\n",
            "100%|██████████| 3956/3956 [02:20<00:00, 28.21it/s]\n"
          ]
        }
      ],
      "source": [
        "from sahi.slicing import slice_coco\n",
        "\n",
        "coco_dict, coco_path = slice_coco(\n",
        "    output_coco_annotation_file_name=\"C:/VSCodeProjects/FootballAnalysis/ballDetect4Coco/splitImages/train/labels.json\",\n",
        "    coco_annotation_file_path=\"C:/VSCodeProjects/FootballAnalysis/ballDetect4Coco/train/labels.json\",\n",
        "    output_dir = \"C:/VSCodeProjects/FootballAnalysis/ballDetect4Coco/splitImages/train/data\",\n",
        "    image_dir=\"C:/VSCodeProjects/FootballAnalysis/ballDetect4Coco/train/data\",\n",
        "    slice_height=256,\n",
        "    slice_width=256,\n",
        "    overlap_height_ratio=0.2,\n",
        "    overlap_width_ratio=0.2,\n",
        ")"
      ]
    },
    {
      "cell_type": "markdown",
      "metadata": {
        "id": "rxS_VipgRfYi"
      },
      "source": [
        "# Fifty One Dataset Visualisation"
      ]
    },
    {
      "cell_type": "code",
      "execution_count": 5,
      "metadata": {
        "id": "Pq6-Vwg2BbHN"
      },
      "outputs": [],
      "source": [
        "import pandas as pd\n",
        "import numpy as np\n",
        "import plotly.express as px\n",
        "import plotly.graph_objects as go\n",
        "import plotly.io\n",
        "import ast\n",
        "from plotly.subplots import make_subplots"
      ]
    },
    {
      "cell_type": "markdown",
      "metadata": {
        "id": "4D2IkGNfX2io"
      },
      "source": [
        "## Install FiftyOne\n"
      ]
    },
    {
      "cell_type": "markdown",
      "metadata": {
        "id": "Bb2MrNxqX2ip"
      },
      "source": [
        "## Load a dataset"
      ]
    },
    {
      "cell_type": "markdown",
      "metadata": {
        "id": "my6pYOdeX2iq"
      },
      "source": [
        "Let's get started by importing the FiftyOne library:"
      ]
    },
    {
      "cell_type": "code",
      "execution_count": 6,
      "metadata": {
        "id": "3ICENJB4X2iq"
      },
      "outputs": [],
      "source": [
        "import fiftyone as fo"
      ]
    },
    {
      "cell_type": "code",
      "execution_count": 11,
      "metadata": {
        "id": "o9-oOg2OX2iq",
        "scrolled": false
      },
      "outputs": [
        {
          "name": "stdout",
          "output_type": "stream",
          "text": [
            " 100% |█████████████| 35604/35604 [13.1s elapsed, 0s remaining, 2.7K samples/s]      \n"
          ]
        },
        {
          "name": "stderr",
          "output_type": "stream",
          "text": [
            "08/27/2024 21:06:23 - INFO - eta.core.utils -    100% |█████████████| 35604/35604 [13.1s elapsed, 0s remaining, 2.7K samples/s]      \n"
          ]
        },
        {
          "name": "stdout",
          "output_type": "stream",
          "text": [
            "Dataset:     ballDataset2\n",
            "Media type:  image\n",
            "Num samples: 35604\n",
            "Sample fields:\n",
            "    id:            fiftyone.core.fields.ObjectIdField\n",
            "    filepath:      fiftyone.core.fields.StringField\n",
            "    tags:          fiftyone.core.fields.ListField(fiftyone.core.fields.StringField)\n",
            "    metadata:      fiftyone.core.fields.EmbeddedDocumentField(fiftyone.core.metadata.ImageMetadata)\n",
            "    detections:    fiftyone.core.fields.EmbeddedDocumentField(fiftyone.core.labels.Detections)\n",
            "    segmentations: fiftyone.core.fields.EmbeddedDocumentField(fiftyone.core.labels.Detections)\n",
            "View stages:\n",
            "    ---\n"
          ]
        }
      ],
      "source": [
        "import fiftyone.zoo as foz\n",
        "\n",
        "dataset = fo.Dataset.from_dir(\n",
        "    dataset_dir = \"C:/VSCodeProjects/FootballAnalysis/ballDetect4Coco/splitImages/train\",\n",
        "    dataset_type=fo.types.COCODetectionDataset,\n",
        "    name=\"ballDataset2\",\n",
        ")\n",
        "view = dataset.view()\n",
        "\n",
        "print(view)"
      ]
    },
    {
      "cell_type": "code",
      "execution_count": null,
      "metadata": {
        "id": "TJf0d-a1X2ir"
      },
      "outputs": [],
      "source": [
        "print(dataset)"
      ]
    },
    {
      "cell_type": "markdown",
      "metadata": {
        "id": "S1vYn8xEX2ir"
      },
      "source": [
        "Now let's launch the [FiftyOne App](https://voxel51.com/docs/fiftyone/user_guide/app.html) so we can explore the dataset visually. Right away you will see that because we are in a notebook, an embedded instance of the App with our dataset loaded has been rendered in the cell's output.\n",
        "\n",
        "The [Session](https://voxel51.com/docs/fiftyone/api/fiftyone.core.session.html#fiftyone.core.session.Session) object created below is a bi-directional connection between your Python kernel and the FiftyOne App, as we'll see later."
      ]
    },
    {
      "cell_type": "code",
      "execution_count": 13,
      "metadata": {
        "id": "DeNN4HaiX2ir"
      },
      "outputs": [
        {
          "data": {
            "text/html": [
              "\n",
              "        <iframe\n",
              "            width=\"100%\"\n",
              "            height=\"800\"\n",
              "            src=\"http://localhost:5151/?notebook=True&subscription=952278c7-06f2-4f01-84ce-98aefa48fc3e\"\n",
              "            frameborder=\"0\"\n",
              "            allowfullscreen\n",
              "            \n",
              "        ></iframe>\n",
              "        "
            ],
            "text/plain": [
              "<IPython.lib.display.IFrame at 0x17d2bc5b410>"
            ]
          },
          "metadata": {},
          "output_type": "display_data"
        },
        {
          "name": "stdout",
          "output_type": "stream",
          "text": [
            "\n",
            "Welcome to\n",
            "\n",
            "███████╗██╗███████╗████████╗██╗   ██╗ ██████╗ ███╗   ██╗███████╗\n",
            "██╔════╝██║██╔════╝╚══██╔══╝╚██╗ ██╔╝██╔═══██╗████╗  ██║██╔════╝\n",
            "█████╗  ██║█████╗     ██║    ╚████╔╝ ██║   ██║██╔██╗ ██║█████╗\n",
            "██╔══╝  ██║██╔══╝     ██║     ╚██╔╝  ██║   ██║██║╚██╗██║██╔══╝\n",
            "██║     ██║██║        ██║      ██║   ╚██████╔╝██║ ╚████║███████╗\n",
            "╚═╝     ╚═╝╚═╝        ╚═╝      ╚═╝    ╚═════╝ ╚═╝  ╚═══╝╚══════╝ v0.25.0\n",
            "\n",
            "If you're finding FiftyOne helpful, here's how you can get involved:\n",
            "\n",
            "|\n",
            "|  ⭐⭐⭐ Give the project a star on GitHub ⭐⭐⭐\n",
            "|  https://github.com/voxel51/fiftyone\n",
            "|\n",
            "|  🚀🚀🚀 Join the FiftyOne Slack community 🚀🚀🚀\n",
            "|  https://slack.voxel51.com\n",
            "|\n",
            "\n"
          ]
        },
        {
          "name": "stderr",
          "output_type": "stream",
          "text": [
            "08/27/2024 21:07:00 - INFO - fiftyone.core.session.session -   \n",
            "Welcome to\n",
            "\n",
            "███████╗██╗███████╗████████╗██╗   ██╗ ██████╗ ███╗   ██╗███████╗\n",
            "██╔════╝██║██╔════╝╚══██╔══╝╚██╗ ██╔╝██╔═══██╗████╗  ██║██╔════╝\n",
            "█████╗  ██║█████╗     ██║    ╚████╔╝ ██║   ██║██╔██╗ ██║█████╗\n",
            "██╔══╝  ██║██╔══╝     ██║     ╚██╔╝  ██║   ██║██║╚██╗██║██╔══╝\n",
            "██║     ██║██║        ██║      ██║   ╚██████╔╝██║ ╚████║███████╗\n",
            "╚═╝     ╚═╝╚═╝        ╚═╝      ╚═╝    ╚═════╝ ╚═╝  ╚═══╝╚══════╝ v0.25.0\n",
            "\n",
            "If you're finding FiftyOne helpful, here's how you can get involved:\n",
            "\n",
            "|\n",
            "|  ⭐⭐⭐ Give the project a star on GitHub ⭐⭐⭐\n",
            "|  https://github.com/voxel51/fiftyone\n",
            "|\n",
            "|  🚀🚀🚀 Join the FiftyOne Slack community 🚀🚀🚀\n",
            "|  https://slack.voxel51.com\n",
            "|\n",
            "\n"
          ]
        }
      ],
      "source": [
        "session = fo.launch_app(dataset)"
      ]
    }
  ],
  "metadata": {
    "colab": {
      "authorship_tag": "ABX9TyNfne7XhqZu/6arRgNvbofR",
      "include_colab_link": true,
      "provenance": [],
      "toc_visible": true
    },
    "kernelspec": {
      "display_name": "Python 3",
      "name": "python3"
    },
    "language_info": {
      "codemirror_mode": {
        "name": "ipython",
        "version": 3
      },
      "file_extension": ".py",
      "mimetype": "text/x-python",
      "name": "python",
      "nbconvert_exporter": "python",
      "pygments_lexer": "ipython3",
      "version": "3.11.3"
    }
  },
  "nbformat": 4,
  "nbformat_minor": 0
}
