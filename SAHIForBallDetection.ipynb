{
  "cells": [
    {
      "cell_type": "markdown",
      "metadata": {
        "colab_type": "text",
        "id": "view-in-github"
      },
      "source": [
        "<a href=\"https://colab.research.google.com/github/AeroEng16/FootballAnalysis/blob/main/SAHIForBallDetection.ipynb\" target=\"_parent\"><img src=\"https://colab.research.google.com/assets/colab-badge.svg\" alt=\"Open In Colab\"/></a>"
      ]
    },
    {
      "cell_type": "markdown",
      "metadata": {
        "id": "T7JlKSKPRjwE"
      },
      "source": [
        "# SAHI"
      ]
    },
    {
      "cell_type": "code",
      "execution_count": 4,
      "metadata": {},
      "outputs": [],
      "source": [
        "import cv2\n",
        "import os\n",
        "\n",
        "image_folder = 'D:/FootballAnalysis/FootballAnalysis/runs/predict/exp/visuals'\n",
        "video_name = 'D:/FootballAnalysis/FootballAnalysis/annotatedTestvid.mp4'\n",
        "\n",
        "images = [img for img in os.listdir(image_folder) if img.endswith(\".png\")]\n",
        "frame = cv2.imread(os.path.join(image_folder, images[0]))\n",
        "height, width, layers = frame.shape\n",
        "\n",
        "video = cv2.VideoWriter(video_name, 0, 1, (width,height))\n",
        "\n",
        "for image in images:\n",
        "    video.write(cv2.imread(os.path.join(image_folder, image)))\n",
        "\n",
        "cv2.destroyAllWindows()\n",
        "video.release()"
      ]
    },
    {
      "cell_type": "code",
      "execution_count": null,
      "metadata": {},
      "outputs": [],
      "source": [
        "from sahi.predict import get_sliced_prediction\n",
        "from sahi import AutoDetectionModel\n",
        "from sahi.predict import get_prediction, get_sliced_prediction, predict\n",
        "\n",
        "# init any model\n",
        "\n",
        "\n",
        "detection_model = AutoDetectionModel.from_pretrained(\n",
        "    model_type='yolov8',\n",
        "    model_path=\"bestBallSoFar_0409.pt\",\n",
        "    confidence_threshold=0.01,\n",
        "    device=\"cuda:0\", # or 'cuda:0'\n",
        ")\n",
        "    \n",
        "prediction = predict(\n",
        "    model_type='yolov8',\n",
        "    model_path=\"bestBallSoFar_0409.pt\",\n",
        "    model_device=\"cuda:0\",\n",
        "    model_confidence_threshold=0.01,\n",
        "    source=\"testFrames\",\n",
        "    slice_height=256,\n",
        "    slice_width=256,\n",
        "    overlap_height_ratio=0.2,\n",
        "    overlap_width_ratio=0.2,\n",
        "    project = \"ballPrediction\",\n",
        "    name=\"firstTesting\",\n",
        "    export_pickle=True\n",
        ")\n",
        "\n",
        "# get sliced prediction resul\n",
        "# result = get_sliced_prediction(\n",
        "#    \"D:/FootballAnalysis/FootballAnalysis/testFrames/frame323.jpg\",\n",
        "#    detection_model,\n",
        "#    slice_height = 256,\n",
        "#    slice_width = 256,\n",
        "#    overlap_height_ratio = 0.2,\n",
        "#    overlap_width_ratio = 0.2\n",
        "#)\n",
        "#result.export_visuals(export_dir=\"demo_data/\")"
      ]
    },
    {
      "cell_type": "code",
      "execution_count": 22,
      "metadata": {},
      "outputs": [
        {
          "name": "stdout",
          "output_type": "stream",
          "text": [
            "ObjectPrediction<\n",
            "    bbox: BoundingBox: <(1198.849105834961, 858.1821098327637, 1215.5352172851562, 877.3453941345215), w: 16.686111450195312, h: 19.163284301757812>,\n",
            "    mask: None,\n",
            "    score: PredictionScore: <value: 0.6864193081855774>,\n",
            "    category: Category: <id: 0, name: ball>>\n",
            "ObjectPrediction<\n",
            "    bbox: BoundingBox: <(372.96112, 304.73773, 403.05533, 360.78998), w: 30.094207763671875, h: 56.05224609375>,\n",
            "    mask: None,\n",
            "    score: PredictionScore: <value: 0.37592369318008423>,\n",
            "    category: Category: <id: 0, name: ball>>\n",
            "ObjectPrediction<\n",
            "    bbox: BoundingBox: <(1237.6412, 434.16074, 1266.781, 482.4332), w: 29.1397705078125, h: 48.2724609375>,\n",
            "    mask: None,\n",
            "    score: PredictionScore: <value: 0.3421994149684906>,\n",
            "    category: Category: <id: 0, name: ball>>\n",
            "ObjectPrediction<\n",
            "    bbox: BoundingBox: <(783.570556640625, 369.6738739013672, 792.2418975830078, 383.21124267578125), w: 8.671340942382812, h: 13.537368774414062>,\n",
            "    mask: None,\n",
            "    score: PredictionScore: <value: 0.04258996248245239>,\n",
            "    category: Category: <id: 0, name: ball>>\n",
            "ObjectPrediction<\n",
            "    bbox: BoundingBox: <(1012.6653900146484, 456.8017120361328, 1022.83056640625, 461.0), w: 10.165176391601562, h: 4.1982879638671875>,\n",
            "    mask: None,\n",
            "    score: PredictionScore: <value: 0.04158325120806694>,\n",
            "    category: Category: <id: 0, name: ball>>\n",
            "ObjectPrediction<\n",
            "    bbox: BoundingBox: <(1195.896, 848.0495, 1219.3823, 885.9776), w: 23.486328125, h: 37.9281005859375>,\n",
            "    mask: None,\n",
            "    score: PredictionScore: <value: 0.036178864538669586>,\n",
            "    category: Category: <id: 0, name: ball>>\n",
            "ObjectPrediction<\n",
            "    bbox: BoundingBox: <(359.04004, 729.35016, 391.52344, 787.52124), w: 32.4833984375, h: 58.17108154296875>,\n",
            "    mask: None,\n",
            "    score: PredictionScore: <value: 0.03310262784361839>,\n",
            "    category: Category: <id: 0, name: ball>>\n",
            "ObjectPrediction<\n",
            "    bbox: BoundingBox: <(602.4575, 594.48895, 636.1797, 643.4699), w: 33.72216796875, h: 48.98095703125>,\n",
            "    mask: None,\n",
            "    score: PredictionScore: <value: 0.028217613697052002>,\n",
            "    category: Category: <id: 0, name: ball>>\n",
            "ObjectPrediction<\n",
            "    bbox: BoundingBox: <(1284.0771, 390.9173, 1312.8821, 447.25183), w: 28.804931640625, h: 56.33453369140625>,\n",
            "    mask: None,\n",
            "    score: PredictionScore: <value: 0.02751818485558033>,\n",
            "    category: Category: <id: 0, name: ball>>\n",
            "ObjectPrediction<\n",
            "    bbox: BoundingBox: <(1169.109, 353.16138, 1196.4207, 410.26373), w: 27.3116455078125, h: 57.10235595703125>,\n",
            "    mask: None,\n",
            "    score: PredictionScore: <value: 0.01358096208423376>,\n",
            "    category: Category: <id: 0, name: ball>>\n"
          ]
        }
      ],
      "source": [
        "import pickle\n",
        "\n",
        "dbfile = open(r\"D:\\FootballAnalysis\\FootballAnalysis\\ballPrediction\\firstTesting4\\pickles\\frame3.pickle\".replace(\"\\\\\",\"/\"),'rb')\n",
        "db = pickle.load(dbfile)\n",
        "\n",
        "for keys in db:\n",
        "    print(keys)"
      ]
    },
    {
      "cell_type": "code",
      "execution_count": 4,
      "metadata": {
        "colab": {
          "base_uri": "https://localhost:8080/"
        },
        "id": "Ua9c4euSRd_K",
        "outputId": "101c33a0-35b4-4a9d-fb72-786cb753d9d4"
      },
      "outputs": [
        {
          "ename": "ModuleNotFoundError",
          "evalue": "No module named 'sahi'",
          "output_type": "error",
          "traceback": [
            "\u001b[1;31m---------------------------------------------------------------------------\u001b[0m",
            "\u001b[1;31mModuleNotFoundError\u001b[0m                       Traceback (most recent call last)",
            "Cell \u001b[1;32mIn[4], line 1\u001b[0m\n\u001b[1;32m----> 1\u001b[0m \u001b[38;5;28;01mfrom\u001b[39;00m \u001b[38;5;21;01msahi\u001b[39;00m\u001b[38;5;21;01m.\u001b[39;00m\u001b[38;5;21;01mslicing\u001b[39;00m \u001b[38;5;28;01mimport\u001b[39;00m slice_coco\n\u001b[0;32m      3\u001b[0m coco_dict, coco_path \u001b[38;5;241m=\u001b[39m slice_coco(\n\u001b[0;32m      4\u001b[0m     output_coco_annotation_file_name\u001b[38;5;241m=\u001b[39m\u001b[38;5;124m\"\u001b[39m\u001b[38;5;124mD:/FootballAnalysis/FootballAnalysis/ballDetect4Coco/splitImages/test/labels.json\u001b[39m\u001b[38;5;124m\"\u001b[39m,\n\u001b[0;32m      5\u001b[0m     coco_annotation_file_path\u001b[38;5;241m=\u001b[39m\u001b[38;5;124m\"\u001b[39m\u001b[38;5;124mD:/FootballAnalysis/FootballAnalysis/ballDetect4Coco/test/labels.json\u001b[39m\u001b[38;5;124m\"\u001b[39m,\n\u001b[1;32m   (...)\u001b[0m\n\u001b[0;32m     11\u001b[0m     overlap_width_ratio\u001b[38;5;241m=\u001b[39m\u001b[38;5;241m0.2\u001b[39m,\n\u001b[0;32m     12\u001b[0m )\n",
            "\u001b[1;31mModuleNotFoundError\u001b[0m: No module named 'sahi'"
          ]
        }
      ],
      "source": [
        "from sahi.slicing import slice_coco\n",
        "\n",
        "coco_dict, coco_path = slice_coco(\n",
        "    output_coco_annotation_file_name=\"D:/FootballAnalysis/FootballAnalysis/ballDetect4Coco/splitImages/test/labels.json\",\n",
        "    coco_annotation_file_path=\"D:/FootballAnalysis/FootballAnalysis/ballDetect4Coco/test/labels.json\",\n",
        "    output_dir = \"D:/FootballAnalysis/FootballAnalysis/ballDetect4Coco/splitImages/test/data\",\n",
        "    image_dir=\"D:/FootballAnalysis/FootballAnalysis/ballDetect4Coco/test/data\",\n",
        "    slice_height=256,\n",
        "    slice_width=256,\n",
        "    overlap_height_ratio=0.2,\n",
        "    overlap_width_ratio=0.2,\n",
        ")"
      ]
    },
    {
      "cell_type": "markdown",
      "metadata": {
        "id": "rxS_VipgRfYi"
      },
      "source": [
        "# Fifty One Dataset Visualisation"
      ]
    },
    {
      "cell_type": "code",
      "execution_count": 5,
      "metadata": {
        "id": "Pq6-Vwg2BbHN"
      },
      "outputs": [],
      "source": [
        "import pandas as pd\n",
        "import numpy as np\n",
        "import plotly.express as px\n",
        "import plotly.graph_objects as go\n",
        "import plotly.io\n",
        "import ast\n",
        "from plotly.subplots import make_subplots"
      ]
    },
    {
      "cell_type": "markdown",
      "metadata": {
        "id": "4D2IkGNfX2io"
      },
      "source": [
        "## Install FiftyOne\n"
      ]
    },
    {
      "cell_type": "markdown",
      "metadata": {
        "id": "Bb2MrNxqX2ip"
      },
      "source": [
        "## Load a dataset"
      ]
    },
    {
      "cell_type": "markdown",
      "metadata": {
        "id": "my6pYOdeX2iq"
      },
      "source": [
        "Let's get started by importing the FiftyOne library:"
      ]
    },
    {
      "cell_type": "code",
      "execution_count": 6,
      "metadata": {
        "id": "3ICENJB4X2iq"
      },
      "outputs": [],
      "source": [
        "import fiftyone as fo"
      ]
    },
    {
      "cell_type": "code",
      "execution_count": 11,
      "metadata": {
        "id": "o9-oOg2OX2iq",
        "scrolled": false
      },
      "outputs": [
        {
          "name": "stdout",
          "output_type": "stream",
          "text": [
            " 100% |█████████████| 35604/35604 [13.1s elapsed, 0s remaining, 2.7K samples/s]      \n"
          ]
        },
        {
          "name": "stderr",
          "output_type": "stream",
          "text": [
            "08/27/2024 21:06:23 - INFO - eta.core.utils -    100% |█████████████| 35604/35604 [13.1s elapsed, 0s remaining, 2.7K samples/s]      \n"
          ]
        },
        {
          "name": "stdout",
          "output_type": "stream",
          "text": [
            "Dataset:     ballDataset2\n",
            "Media type:  image\n",
            "Num samples: 35604\n",
            "Sample fields:\n",
            "    id:            fiftyone.core.fields.ObjectIdField\n",
            "    filepath:      fiftyone.core.fields.StringField\n",
            "    tags:          fiftyone.core.fields.ListField(fiftyone.core.fields.StringField)\n",
            "    metadata:      fiftyone.core.fields.EmbeddedDocumentField(fiftyone.core.metadata.ImageMetadata)\n",
            "    detections:    fiftyone.core.fields.EmbeddedDocumentField(fiftyone.core.labels.Detections)\n",
            "    segmentations: fiftyone.core.fields.EmbeddedDocumentField(fiftyone.core.labels.Detections)\n",
            "View stages:\n",
            "    ---\n"
          ]
        }
      ],
      "source": [
        "import fiftyone.zoo as foz\n",
        "\n",
        "dataset = fo.Dataset.from_dir(\n",
        "    dataset_dir = \"C:/VSCodeProjects/FootballAnalysis/ballDetect4Coco/splitImages/train\",\n",
        "    dataset_type=fo.types.COCODetectionDataset,\n",
        "    name=\"ballDataset2\",\n",
        ")\n",
        "view = dataset.view()\n",
        "\n",
        "print(view)"
      ]
    },
    {
      "cell_type": "code",
      "execution_count": null,
      "metadata": {
        "id": "TJf0d-a1X2ir"
      },
      "outputs": [],
      "source": [
        "print(dataset)"
      ]
    },
    {
      "cell_type": "markdown",
      "metadata": {
        "id": "S1vYn8xEX2ir"
      },
      "source": [
        "Now let's launch the [FiftyOne App](https://voxel51.com/docs/fiftyone/user_guide/app.html) so we can explore the dataset visually. Right away you will see that because we are in a notebook, an embedded instance of the App with our dataset loaded has been rendered in the cell's output.\n",
        "\n",
        "The [Session](https://voxel51.com/docs/fiftyone/api/fiftyone.core.session.html#fiftyone.core.session.Session) object created below is a bi-directional connection between your Python kernel and the FiftyOne App, as we'll see later."
      ]
    },
    {
      "cell_type": "code",
      "execution_count": 13,
      "metadata": {
        "id": "DeNN4HaiX2ir"
      },
      "outputs": [
        {
          "data": {
            "text/html": [
              "\n",
              "        <iframe\n",
              "            width=\"100%\"\n",
              "            height=\"800\"\n",
              "            src=\"http://localhost:5151/?notebook=True&subscription=952278c7-06f2-4f01-84ce-98aefa48fc3e\"\n",
              "            frameborder=\"0\"\n",
              "            allowfullscreen\n",
              "            \n",
              "        ></iframe>\n",
              "        "
            ],
            "text/plain": [
              "<IPython.lib.display.IFrame at 0x17d2bc5b410>"
            ]
          },
          "metadata": {},
          "output_type": "display_data"
        },
        {
          "name": "stdout",
          "output_type": "stream",
          "text": [
            "\n",
            "Welcome to\n",
            "\n",
            "███████╗██╗███████╗████████╗██╗   ██╗ ██████╗ ███╗   ██╗███████╗\n",
            "██╔════╝██║██╔════╝╚══██╔══╝╚██╗ ██╔╝██╔═══██╗████╗  ██║██╔════╝\n",
            "█████╗  ██║█████╗     ██║    ╚████╔╝ ██║   ██║██╔██╗ ██║█████╗\n",
            "██╔══╝  ██║██╔══╝     ██║     ╚██╔╝  ██║   ██║██║╚██╗██║██╔══╝\n",
            "██║     ██║██║        ██║      ██║   ╚██████╔╝██║ ╚████║███████╗\n",
            "╚═╝     ╚═╝╚═╝        ╚═╝      ╚═╝    ╚═════╝ ╚═╝  ╚═══╝╚══════╝ v0.25.0\n",
            "\n",
            "If you're finding FiftyOne helpful, here's how you can get involved:\n",
            "\n",
            "|\n",
            "|  ⭐⭐⭐ Give the project a star on GitHub ⭐⭐⭐\n",
            "|  https://github.com/voxel51/fiftyone\n",
            "|\n",
            "|  🚀🚀🚀 Join the FiftyOne Slack community 🚀🚀🚀\n",
            "|  https://slack.voxel51.com\n",
            "|\n",
            "\n"
          ]
        },
        {
          "name": "stderr",
          "output_type": "stream",
          "text": [
            "08/27/2024 21:07:00 - INFO - fiftyone.core.session.session -   \n",
            "Welcome to\n",
            "\n",
            "███████╗██╗███████╗████████╗██╗   ██╗ ██████╗ ███╗   ██╗███████╗\n",
            "██╔════╝██║██╔════╝╚══██╔══╝╚██╗ ██╔╝██╔═══██╗████╗  ██║██╔════╝\n",
            "█████╗  ██║█████╗     ██║    ╚████╔╝ ██║   ██║██╔██╗ ██║█████╗\n",
            "██╔══╝  ██║██╔══╝     ██║     ╚██╔╝  ██║   ██║██║╚██╗██║██╔══╝\n",
            "██║     ██║██║        ██║      ██║   ╚██████╔╝██║ ╚████║███████╗\n",
            "╚═╝     ╚═╝╚═╝        ╚═╝      ╚═╝    ╚═════╝ ╚═╝  ╚═══╝╚══════╝ v0.25.0\n",
            "\n",
            "If you're finding FiftyOne helpful, here's how you can get involved:\n",
            "\n",
            "|\n",
            "|  ⭐⭐⭐ Give the project a star on GitHub ⭐⭐⭐\n",
            "|  https://github.com/voxel51/fiftyone\n",
            "|\n",
            "|  🚀🚀🚀 Join the FiftyOne Slack community 🚀🚀🚀\n",
            "|  https://slack.voxel51.com\n",
            "|\n",
            "\n"
          ]
        }
      ],
      "source": [
        "session = fo.launch_app(dataset)"
      ]
    }
  ],
  "metadata": {
    "colab": {
      "authorship_tag": "ABX9TyNfne7XhqZu/6arRgNvbofR",
      "include_colab_link": true,
      "provenance": [],
      "toc_visible": true
    },
    "kernelspec": {
      "display_name": "Python 3",
      "name": "python3"
    },
    "language_info": {
      "codemirror_mode": {
        "name": "ipython",
        "version": 3
      },
      "file_extension": ".py",
      "mimetype": "text/x-python",
      "name": "python",
      "nbconvert_exporter": "python",
      "pygments_lexer": "ipython3",
      "version": "3.11.3"
    }
  },
  "nbformat": 4,
  "nbformat_minor": 0
}
