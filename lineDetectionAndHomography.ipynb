{
  "nbformat": 4,
  "nbformat_minor": 0,
  "metadata": {
    "colab": {
      "provenance": [],
      "gpuType": "T4",
      "authorship_tag": "ABX9TyN6wBID0OgBM2xBrmKtUv5D",
      "include_colab_link": true
    },
    "kernelspec": {
      "name": "python3",
      "display_name": "Python 3"
    },
    "language_info": {
      "name": "python"
    },
    "accelerator": "GPU"
  },
  "cells": [
    {
      "cell_type": "markdown",
      "metadata": {
        "id": "view-in-github",
        "colab_type": "text"
      },
      "source": [
        "<a href=\"https://colab.research.google.com/github/AeroEng16/FootballAnalysis/blob/main/lineDetectionAndHomography.ipynb\" target=\"_parent\"><img src=\"https://colab.research.google.com/assets/colab-badge.svg\" alt=\"Open In Colab\"/></a>"
      ]
    },
    {
      "cell_type": "code",
      "execution_count": 2,
      "metadata": {
        "colab": {
          "base_uri": "https://localhost:8080/"
        },
        "id": "OwxfF6GHfFgG",
        "outputId": "28a6ac76-0efd-4756-d013-0351f9966311"
      },
      "outputs": [
        {
          "output_type": "stream",
          "name": "stdout",
          "text": [
            "Mounted at /content/drive\n"
          ]
        }
      ],
      "source": [
        "from google.colab import drive\n",
        "drive.mount('/content/drive',force_remount=True)\n"
      ]
    },
    {
      "cell_type": "code",
      "source": [
        "\n",
        "import math\n",
        "import plotly.express as px\n",
        "import pandas as pd\n",
        "from google.colab.patches import cv2_imshow\n",
        "try:\n",
        "  import supervision as sv\n",
        "  from inference import get_model\n",
        "except ImportError:\n",
        "  #!pip install inference\n",
        "  !pip install supervision\n",
        "  !pip install inference-gpu\n",
        "  import supervision as sv\n",
        "  from inference import get_model\n",
        "import cv2\n",
        "import numpy as np\n",
        "from PIL import Image\n",
        "import os\n",
        "import collections\n",
        "#LOOK AT CHANGING TO INFERENCE ON GPU\n"
      ],
      "metadata": {
        "id": "DX1V6eIKfHCE"
      },
      "execution_count": 1,
      "outputs": []
    },
    {
      "cell_type": "markdown",
      "source": [
        "## Pitch Vertex Labels\n",
        "\n",
        "Figure out how pitch config works and recreate alongside template image"
      ],
      "metadata": {
        "id": "UdE76XysVPF2"
      }
    },
    {
      "cell_type": "code",
      "source": [
        "\n",
        "\n",
        "!pip install -q git+https://github.com/roboflow/sports.git\n",
        "\n",
        "\n",
        "from dataclasses import dataclass, field\n",
        "from typing import List, Tuple\n",
        "\n",
        "\n",
        "@dataclass\n",
        "class SoccerPitchConfiguration:\n",
        "    width: int = 7000  # [cm]\n",
        "    length: int = 12000  # [cm]\n",
        "    penalty_box_width: int = 4100  # [cm]\n",
        "    penalty_box_length: int = 2015  # [cm]\n",
        "    goal_box_width: int = 1832  # [cm]\n",
        "    goal_box_length: int = 550  # [cm]\n",
        "    centre_circle_radius: int = 915  # [cm]\n",
        "    penalty_spot_distance: int = 1100  # [cm]\n",
        "\n",
        "    @property\n",
        "    def vertices(self) -> List[Tuple[int, int]]:\n",
        "        return [\n",
        "            (0, 0),  # 1\n",
        "            (0, (self.width - self.penalty_box_width) / 2),  # 2\n",
        "            (0, (self.width - self.goal_box_width) / 2),  # 3\n",
        "            (0, (self.width + self.goal_box_width) / 2),  # 4\n",
        "            (0, (self.width + self.penalty_box_width) / 2),  # 5\n",
        "            (0, self.width),  # 6\n",
        "            (self.goal_box_length, (self.width - self.goal_box_width) / 2),  # 7\n",
        "            (self.goal_box_length, (self.width + self.goal_box_width) / 2),  # 8\n",
        "            (self.penalty_spot_distance, self.width / 2),  # 9\n",
        "            (self.penalty_box_length, (self.width - self.penalty_box_width) / 2),  # 10\n",
        "            (self.penalty_box_length, (self.width - self.goal_box_width) / 2),  # 11\n",
        "            (self.penalty_box_length, (self.width + self.goal_box_width) / 2),  # 12\n",
        "            (self.penalty_box_length, (self.width + self.penalty_box_width) / 2),  # 13\n",
        "            (self.length / 2, 0),  # 14\n",
        "            (self.length / 2, self.width / 2 - self.centre_circle_radius),  # 15\n",
        "            (self.length / 2, self.width / 2 + self.centre_circle_radius),  # 16\n",
        "            (self.length / 2, self.width),  # 17\n",
        "            (\n",
        "                self.length - self.penalty_box_length,\n",
        "                (self.width - self.penalty_box_width) / 2\n",
        "            ),  # 18\n",
        "            (\n",
        "                self.length - self.penalty_box_length,\n",
        "                (self.width - self.goal_box_width) / 2\n",
        "            ),  # 19\n",
        "            (\n",
        "                self.length - self.penalty_box_length,\n",
        "                (self.width + self.goal_box_width) / 2\n",
        "            ),  # 20\n",
        "            (\n",
        "                self.length - self.penalty_box_length,\n",
        "                (self.width + self.penalty_box_width) / 2\n",
        "            ),  # 21\n",
        "            (self.length - self.penalty_spot_distance, self.width / 2),  # 22\n",
        "            (\n",
        "                self.length - self.goal_box_length,\n",
        "                (self.width - self.goal_box_width) / 2\n",
        "            ),  # 23\n",
        "            (\n",
        "                self.length - self.goal_box_length,\n",
        "                (self.width + self.goal_box_width) / 2\n",
        "            ),  # 24\n",
        "            (self.length, 0),  # 25\n",
        "            (self.length, (self.width - self.penalty_box_width) / 2),  # 26\n",
        "            (self.length, (self.width - self.goal_box_width) / 2),  # 27\n",
        "            (self.length, (self.width + self.goal_box_width) / 2),  # 28\n",
        "            (self.length, (self.width + self.penalty_box_width) / 2),  # 29\n",
        "            (self.length, self.width),  # 30\n",
        "            (self.length / 2 - self.centre_circle_radius, self.width / 2),  # 31\n",
        "            (self.length / 2 + self.centre_circle_radius, self.width / 2),  # 32\n",
        "        ]\n",
        "\n",
        "    edges: List[Tuple[int, int]] = field(default_factory=lambda: [\n",
        "        (1, 2), (2, 3), (3, 4), (4, 5), (5, 6), (7, 8),\n",
        "        (10, 11), (11, 12), (12, 13), (14, 15), (15, 16),\n",
        "        (16, 17), (18, 19), (19, 20), (20, 21), (23, 24),\n",
        "        (25, 26), (26, 27), (27, 28), (28, 29), (29, 30),\n",
        "        (1, 14), (2, 10), (3, 7), (4, 8), (5, 13), (6, 17),\n",
        "        (14, 25), (18, 26), (23, 27), (24, 28), (21, 29), (17, 30)\n",
        "    ])\n",
        "\n",
        "    labels: List[str] = field(default_factory=lambda: [\n",
        "        \"01\", \"02\", \"03\", \"04\", \"05\", \"06\", \"07\", \"08\", \"09\", \"10\",\n",
        "        \"11\", \"12\", \"13\", \"15\", \"16\", \"17\", \"18\", \"20\", \"21\", \"22\",\n",
        "        \"23\", \"24\", \"25\", \"26\", \"27\", \"28\", \"29\", \"30\", \"31\", \"32\",\n",
        "        \"14\", \"19\"\n",
        "    ])\n",
        "\n",
        "    colors: List[str] = field(default_factory=lambda: [\n",
        "        \"#FF1493\", \"#FF1493\", \"#FF1493\", \"#FF1493\", \"#FF1493\", \"#FF1493\",\n",
        "        \"#FF1493\", \"#FF1493\", \"#FF1493\", \"#FF1493\", \"#FF1493\", \"#FF1493\",\n",
        "        \"#FF1493\", \"#00BFFF\", \"#00BFFF\", \"#00BFFF\", \"#00BFFF\", \"#FF6347\",\n",
        "        \"#FF6347\", \"#FF6347\", \"#FF6347\", \"#FF6347\", \"#FF6347\", \"#FF6347\",\n",
        "        \"#FF6347\", \"#FF6347\", \"#FF6347\", \"#FF6347\", \"#FF6347\", \"#FF6347\",\n",
        "        \"#00BFFF\", \"#00BFFF\"\n",
        "    ])"
      ],
      "metadata": {
        "id": "8CUWn7GIUeVO",
        "outputId": "8955740b-6ed1-4aa3-be0a-af548b61a7bb",
        "colab": {
          "base_uri": "https://localhost:8080/"
        }
      },
      "execution_count": 2,
      "outputs": [
        {
          "output_type": "stream",
          "name": "stdout",
          "text": [
            "  Preparing metadata (setup.py) ... \u001b[?25l\u001b[?25hdone\n",
            "\u001b[2K   \u001b[90m━━━━━━━━━━━━━━━━━━━━━━━━━━━━━━━━━━━━━━━━\u001b[0m \u001b[32m88.8/88.8 kB\u001b[0m \u001b[31m5.2 MB/s\u001b[0m eta \u001b[36m0:00:00\u001b[0m\n",
            "\u001b[2K   \u001b[90m━━━━━━━━━━━━━━━━━━━━━━━━━━━━━━━━━━━━━━━━\u001b[0m \u001b[32m56.9/56.9 kB\u001b[0m \u001b[31m5.0 MB/s\u001b[0m eta \u001b[36m0:00:00\u001b[0m\n",
            "\u001b[?25h  Building wheel for sports (setup.py) ... \u001b[?25l\u001b[?25hdone\n"
          ]
        }
      ]
    },
    {
      "cell_type": "code",
      "source": [
        "CONFIG = SoccerPitchConfiguration()\n",
        "CONFIG.vertices"
      ],
      "metadata": {
        "id": "gtnoYIuVVBxq",
        "outputId": "79a3227c-e421-4bb8-df95-2b1c2d6431c5",
        "colab": {
          "base_uri": "https://localhost:8080/"
        },
        "collapsed": true
      },
      "execution_count": 56,
      "outputs": [
        {
          "output_type": "execute_result",
          "data": {
            "text/plain": [
              "[(0, 0),\n",
              " (0, 1450.0),\n",
              " (0, 2584.0),\n",
              " (0, 4416.0),\n",
              " (0, 5550.0),\n",
              " (0, 7000),\n",
              " (550, 2584.0),\n",
              " (550, 4416.0),\n",
              " (1100, 3500.0),\n",
              " (2015, 1450.0),\n",
              " (2015, 2584.0),\n",
              " (2015, 4416.0),\n",
              " (2015, 5550.0),\n",
              " (6000.0, 0),\n",
              " (6000.0, 2585.0),\n",
              " (6000.0, 4415.0),\n",
              " (6000.0, 7000),\n",
              " (9985, 1450.0),\n",
              " (9985, 2584.0),\n",
              " (9985, 4416.0),\n",
              " (9985, 5550.0),\n",
              " (10900, 3500.0),\n",
              " (11450, 2584.0),\n",
              " (11450, 4416.0),\n",
              " (12000, 0),\n",
              " (12000, 1450.0),\n",
              " (12000, 2584.0),\n",
              " (12000, 4416.0),\n",
              " (12000, 5550.0),\n",
              " (12000, 7000),\n",
              " (5085.0, 3500.0),\n",
              " (6915.0, 3500.0)]"
            ]
          },
          "metadata": {},
          "execution_count": 56
        }
      ]
    },
    {
      "cell_type": "markdown",
      "source": [
        "## Detect Players and Ball and Use detected keypoints to transform"
      ],
      "metadata": {
        "id": "4HszPyDjVP-f"
      }
    },
    {
      "cell_type": "code",
      "source": [
        "## Initiliase dataframe to store detections\n",
        "\n",
        "df = pd.DataFrame(data=None,columns=[\"Frame\",\"Ball Location\",\"Team1 Player Locations\",\"Team2 Player Locations\"])\n",
        "\n",
        "#Setup class to conduct the homography transformation\n",
        "\n",
        "class ViewTransformer:\n",
        "    def __init__(self, source: np.ndarray, target: np.ndarray) -> None:\n",
        "        if source.shape != target.shape:\n",
        "            raise ValueError(\n",
        "                \"Source and target must have the same shape.\")\n",
        "        if source.shape[1] != 2:\n",
        "            raise ValueError(\n",
        "                \"Source and target points must be 2D coordinates.\")\n",
        "\n",
        "        source = source.astype(np.float32)\n",
        "        target = target.astype(np.float32)\n",
        "\n",
        "        self.m, _ = cv2.findHomography(source, target)\n",
        "        if self.m is None:\n",
        "            raise ValueError(\n",
        "                \"Homography matrix could not be calculated.\")\n",
        "\n",
        "    def transform_points(self, points: np.ndarray) -> np.ndarray:\n",
        "        if points.size == 0:\n",
        "            return points\n",
        "\n",
        "        if points.shape[1] != 2:\n",
        "            raise ValueError(\"Points must be 2D coordinates.\")\n",
        "\n",
        "        points = points.reshape(-1, 1, 2).astype(np.float32)\n",
        "        points = cv2.perspectiveTransform(points, self.m)\n",
        "        return points.reshape(-1, 2).astype(np.float32)\n"
      ],
      "metadata": {
        "id": "8mcktWMP4GEl"
      },
      "execution_count": 4,
      "outputs": []
    },
    {
      "cell_type": "markdown",
      "source": [
        "### Initiliase the three models used"
      ],
      "metadata": {
        "id": "9RFRu3jKp7hw"
      }
    },
    {
      "cell_type": "code",
      "source": [
        "\n",
        "model = get_model(\n",
        "    model_id=\"football-field-detection-f07vi/14\",\n",
        "    api_key=\"Sjv2KA46fn0Ksxphg6NV\"\n",
        ")\n",
        "\n",
        "ballModel = get_model(\n",
        "    model_id=\"football-ball-detection-rejhg/4\",\n",
        "    api_key=\"Sjv2KA46fn0Ksxphg6NV\"\n",
        ")\n",
        "\n",
        "playerModel = get_model(\n",
        "    model_id=\"football-players-detection-3zvbc/12\",\n",
        "    api_key=\"Sjv2KA46fn0Ksxphg6NV\"\n",
        ")\n",
        "\n"
      ],
      "metadata": {
        "id": "v8N13wuGhSuv",
        "outputId": "a48c39c5-0321-490e-abae-a85da5971493",
        "colab": {
          "base_uri": "https://localhost:8080/"
        }
      },
      "execution_count": 5,
      "outputs": [
        {
          "output_type": "stream",
          "name": "stderr",
          "text": [
            "UserWarning: Specified provider 'OpenVINOExecutionProvider' is not in available provider names.Available providers: 'TensorrtExecutionProvider, CUDAExecutionProvider, CPUExecutionProvider'\n",
            "UserWarning: Specified provider 'CoreMLExecutionProvider' is not in available provider names.Available providers: 'TensorrtExecutionProvider, CUDAExecutionProvider, CPUExecutionProvider'\n"
          ]
        }
      ]
    },
    {
      "cell_type": "markdown",
      "source": [
        "### Calculate the detections for the first frame"
      ],
      "metadata": {
        "id": "Q4ozzWBxp-f8"
      }
    },
    {
      "cell_type": "code",
      "source": [
        "# Loop through frames, identifying objects and moving to flat pitch view view\n",
        "#homography transform and saving in df\n",
        "vid = cv2.VideoCapture(\"/content/drive/MyDrive/ML/FootballAnalysis/08fd33_4.mp4\")\n",
        "#ADD HOMOGRAPHY TRANSFORM AND DF STORING OF DATA\n",
        "for i in range(1):\n",
        "\n",
        "  ret, frame = vid.read()\n",
        "\n",
        "\n",
        "  #image = cv2.imread(\"test.png\")\n",
        "  image = frame\n",
        "  # KeyPointDetections\n",
        "  result = model.infer(image, confidence=0.3)[0]\n",
        "\n",
        "  keypoints = sv.KeyPoints.from_inference(result)\n",
        "\n",
        "  filter = keypoints.confidence[0] > 0.5\n",
        "\n",
        "  keypoints.xy = keypoints.xy[0][filter][np.newaxis]\n",
        "  keypoints.confidence = keypoints.confidence[0][filter][np.newaxis]\n",
        "\n",
        "  vertex_annotator = sv.VertexAnnotator(radius=12)\n",
        "  annotated_image = vertex_annotator.annotate(image.copy(), keypoints)\n",
        "\n",
        "  transformer = ViewTransformer(\n",
        "      source=np.array(CONFIG.vertices)[filter].astype(np.float32),\n",
        "      target=np.array(keypoints.xy[0].astype(np.float32),)\n",
        "  )\n",
        "\n",
        "  #Ball Detection\n",
        "\n",
        "  resultBall = ballModel.infer(image, confidence=0.5)[0]\n",
        "\n",
        "  detectionsBall = sv.Detections.from_inference(resultBall)\n",
        "\n",
        "  EllipseAnnotator_annotatorBall = sv.EllipseAnnotator(thickness=2)\n",
        "  annotated_imageBall = EllipseAnnotator_annotatorBall.annotate(annotated_image.copy(), detectionsBall)\n",
        "\n",
        "  xyBall = detectionsBall.get_anchors_coordinates(anchor=sv.Position.BOTTOM_CENTER)\n",
        "\n",
        "  xyBall = transformer.transform_points(points=xyBall)\n",
        "\n",
        "\n",
        "  #Player Detection\n",
        "\n",
        "  resultPlayer = playerModel.infer(image, confidence=0.7)[0]\n",
        "\n",
        "  detectionsPlayer = sv.Detections.from_inference(resultPlayer)\n",
        "\n",
        "  filter = detectionsPlayer.class_id == 2;\n",
        "\n",
        "  xyPlayers = detectionsPlayer.get_anchors_coordinates(anchor=sv.Position.BOTTOM_CENTER)\n",
        "\n",
        "  xyPlayers = xyPlayers[filter]\n",
        "  print(xyPlayers)\n",
        "  xyPlayers = transformer.transform_points(points=xyPlayers)\n",
        "\n",
        "  EllipseAnnotator_annotatorPlayer = sv.EllipseAnnotator(thickness=2)\n",
        "  annotated_imagePlayer = EllipseAnnotator_annotatorPlayer.annotate(annotated_imageBall.copy(), detectionsPlayer)\n",
        "  im = Image.fromarray(annotated_imagePlayer)\n",
        "  im.save(\"annotatedImage\" + str(i) +\".png\")"
      ],
      "metadata": {
        "id": "JLQVrXBIzAEf",
        "colab": {
          "base_uri": "https://localhost:8080/"
        },
        "outputId": "49ec3ce0-04dd-4fdf-dcc2-e328171cd4a3"
      },
      "execution_count": 53,
      "outputs": [
        {
          "output_type": "stream",
          "name": "stdout",
          "text": [
            "[[1011.   526. ]\n",
            " [ 239.5  595. ]\n",
            " [1329.5  517. ]\n",
            " [ 348.5  569. ]\n",
            " [1292.5  463. ]\n",
            " [1592.   696. ]\n",
            " [1246.   502. ]\n",
            " [ 889.5  424. ]\n",
            " [ 387.   366. ]\n",
            " [1406.   904. ]\n",
            " [ 608.   673. ]\n",
            " [ 555.5  786. ]\n",
            " [ 789.   491. ]\n",
            " [ 376.5  826. ]\n",
            " [ 868.   721. ]\n",
            " [1174.5  413. ]\n",
            " [1104.   360. ]\n",
            " [ 959.5  275. ]\n",
            " [1150.   793. ]]\n"
          ]
        }
      ]
    },
    {
      "cell_type": "code",
      "source": [
        "xyPlayers"
      ],
      "metadata": {
        "id": "DNcMaBZw6NUa",
        "outputId": "6dec66b9-6132-478b-8822-f67b724e8100",
        "colab": {
          "base_uri": "https://localhost:8080/"
        }
      },
      "execution_count": 54,
      "outputs": [
        {
          "output_type": "execute_result",
          "data": {
            "text/plain": [
              "array([[-1302.3484 ,   361.7503 ],\n",
              "       [-1673.2936 ,   377.6638 ],\n",
              "       [-1162.7994 ,   356.78735],\n",
              "       [-1614.7212 ,   374.24677],\n",
              "       [-1169.0212 ,   354.05182],\n",
              "       [-1082.0115 ,   364.0392 ],\n",
              "       [-1195.784  ,   357.0216 ],\n",
              "       [-1335.771  ,   357.1831 ],\n",
              "       [-1549.3485 ,   360.6467 ],\n",
              "       [-1199.7946 ,   379.96573],\n",
              "       [-1516.5656 ,   377.10464],\n",
              "       [-1567.8314 ,   385.52322],\n",
              "       [-1393.9587 ,   362.72586],\n",
              "       [-1664.6595 ,   391.23657],\n",
              "       [-1406.4545 ,   376.25644],\n",
              "       [-1210.2914 ,   352.6526 ],\n",
              "       [-1230.7322 ,   350.44543],\n",
              "       [-1276.738  ,   347.33618],\n",
              "       [-1293.0027 ,   376.64633]], dtype=float32)"
            ]
          },
          "metadata": {},
          "execution_count": 54
        }
      ]
    },
    {
      "cell_type": "markdown",
      "source": [
        "## Use First Image to Create a K-means clustering to determine what team each player detection belongs to"
      ],
      "metadata": {
        "id": "68oqEcGpo7g6"
      }
    },
    {
      "cell_type": "markdown",
      "source": [
        "### First work out the color of the grass"
      ],
      "metadata": {
        "id": "UO30vu8JpKAI"
      }
    },
    {
      "cell_type": "code",
      "source": [
        "### First calculate the color of the grass\n",
        "\n",
        "# Convert image to HSV color space\n",
        "img = frame.copy()\n",
        "hsv = cv2.cvtColor(img, cv2.COLOR_BGR2HSV)\n",
        "\n",
        "# Define a large range of green color in HSV\n",
        "lower_green = np.array([30, 40, 40])\n",
        "upper_green = np.array([80, 255, 255])\n",
        "\n",
        "# Threshold the HSV image to get only green colors\n",
        "mask = cv2.inRange(hsv, lower_green, upper_green)\n",
        "\n",
        "# Calculate the mean value of the pixels that are not masked\n",
        "masked_img = cv2.bitwise_and(img, img, mask=mask)\n",
        "grass_color = cv2.mean(img, mask=mask)\n",
        "grass_color = grass_color[:3]\n",
        "print(\"Grass BGR color: \", grass_color)"
      ],
      "metadata": {
        "colab": {
          "base_uri": "https://localhost:8080/"
        },
        "id": "jtGrFA78oNaw",
        "outputId": "af3c7a21-650c-46f7-e44e-bc4d275660da"
      },
      "execution_count": 8,
      "outputs": [
        {
          "output_type": "stream",
          "name": "stdout",
          "text": [
            "Grass BGR color:  (73.97075865841568, 129.6420335737974, 92.07328318916886)\n"
          ]
        }
      ]
    },
    {
      "cell_type": "markdown",
      "source": [
        "### Next mask each image of a player detection and by removing the grass color store the kit colours for each image"
      ],
      "metadata": {
        "id": "q2l03NowpPfD"
      }
    },
    {
      "cell_type": "code",
      "source": [
        "\n",
        "#ADD A CHECK THAT IF ALL OF IMAGE IS MASKED THEN SET KIT COLOUR TO GREEN (or better way of dealing with this)\n",
        "\n",
        "filterPlayer = detectionsPlayer.data[\"class_name\"]  == \"player\"\n",
        "filterGk = detectionsPlayer.data[\"class_name\"]  == \"goalkeeper\"\n",
        "\n",
        "playerBoxes = detectionsPlayer.xyxy[filterPlayer]\n",
        "gkBoxes = detectionsPlayer.xyxy[filterGk]\n",
        "\n",
        "x1, y1, x2, y2 = map(int, detectionsPlayer.xyxy[5])\n",
        "player_img = frame[y1: y2, x1: x2]\n",
        "cv2_imshow(player_img)\n",
        "\n",
        "kits_colors = []\n",
        "grass_hsv = cv2.cvtColor(np.uint8([[list(grass_color)]]), cv2.COLOR_BGR2HSV)\n",
        "\n",
        "for counter,box in enumerate(playerBoxes):\n",
        "\n",
        "    x1, y1, x2, y2 = map(int, box)\n",
        "    player_img = frame[y1: y2, x1: x2]\n",
        "    if counter <4:\n",
        "      cv2_imshow(player_img)\n",
        "\n",
        "    # Convert image to HSV color space\n",
        "    hsv = cv2.cvtColor(player_img, cv2.COLOR_BGR2HSV)\n",
        "\n",
        "    # Define range of green color in HSV\n",
        "    lower_green = np.array([grass_hsv[0, 0, 0] - 10, 40, 40])\n",
        "    upper_green = np.array([grass_hsv[0, 0, 0] + 10, 255, 255])\n",
        "\n",
        "    # Threshold the HSV image to get only green colors\n",
        "    mask = cv2.inRange(hsv, lower_green, upper_green)\n",
        "    # Bitwise-AND mask and original image\n",
        "    mask = cv2.bitwise_not(mask)\n",
        "\n",
        "    upper_mask = np.zeros(player_img.shape[:2], np.uint8)\n",
        "    upper_mask[0:player_img.shape[0]//2, 0:player_img.shape[1]] = 255\n",
        "    mask = cv2.bitwise_and(mask, upper_mask)\n",
        "\n",
        "    masked_img = cv2.bitwise_and(player_img, player_img, mask=mask)\n",
        "    if counter <4:\n",
        "      cv2_imshow(masked_img)\n",
        "\n",
        "    # Check for mask where over 90% of bounding box is detected as green\n",
        "    greenKitTest = collections.Counter(mask.flatten())\n",
        "    if greenKitTest[255]/(greenKitTest[255]+greenKitTest[0]) > 0.9:\n",
        "      player_kit_color = np.array(grass_hsv[0,0])\n",
        "    else:\n",
        "      player_kit_color = np.array(cv2.mean(player_img, mask=mask)[:3])\n",
        "\n",
        "    kits_colors.append(player_kit_color)\n",
        "\n",
        "    if counter <4:\n",
        "      print(\"Player Kit Color: \")\n",
        "    demo_color = np.repeat(player_kit_color[np.newaxis, ...], 50, axis=0)\n",
        "    demo_color = np.repeat(demo_color[np.newaxis, ...], 50, axis=0)\n",
        "    if counter <4:\n",
        "      cv2_imshow(demo_color)\n",
        "      print('#' * 100)\n",
        "\n"
      ],
      "metadata": {
        "colab": {
          "base_uri": "https://localhost:8080/",
          "height": 1000
        },
        "id": "Z7OCVilrl38N",
        "outputId": "bc08740f-298f-46a4-f3c2-8f9645ada41d"
      },
      "execution_count": 37,
      "outputs": [
        {
          "output_type": "display_data",
          "data": {
            "text/plain": [
              "<PIL.Image.Image image mode=RGB size=42x84>"
            ],
            "image/png": "[encoded data removed]",
            "image/jpeg": "[encoded data removed]"
          },
          "metadata": {}
        },
        {
          "output_type": "display_data",
          "data": {
            "text/plain": [
              "<PIL.Image.Image image mode=RGB size=30x72>"
            ],
            "image/png": "[encoded data removed]",
            "image/jpeg": "[encoded data removed]"
          },
          "metadata": {}
        },
        {
          "output_type": "display_data",
          "data": {
            "text/plain": [
              "<PIL.Image.Image image mode=RGB size=30x72>"
            ],
            "image/png": "[encoded data removed]",
            "image/jpeg": "[encoded data removed]"
          },
          "metadata": {}
        },
        {
          "output_type": "stream",
          "name": "stdout",
          "text": [
            "Player Kit Color: \n"
          ]
        },
        {
          "output_type": "display_data",
          "data": {
            "text/plain": [
              "<PIL.Image.Image image mode=RGB size=50x50>"
            ],
            "image/png": "[encoded data removed]",
            "image/jpeg": "[encoded data removed]"
          },
          "metadata": {}
        },
        {
          "output_type": "stream",
          "name": "stdout",
          "text": [
            "####################################################################################################\n"
          ]
        },
        {
          "output_type": "display_data",
          "data": {
            "text/plain": [
              "<PIL.Image.Image image mode=RGB size=33x81>"
            ],
            "image/png": "[encoded data removed]",
            "image/jpeg": "[encoded data removed]"
          },
          "metadata": {}
        },
        {
          "output_type": "display_data",
          "data": {
            "text/plain": [
              "<PIL.Image.Image image mode=RGB size=33x81>"
            ],
            "image/png": "[encoded data removed]",
            "image/jpeg": "[encoded data removed]"
          },
          "metadata": {}
        },
        {
          "output_type": "stream",
          "name": "stdout",
          "text": [
            "Player Kit Color: \n"
          ]
        },
        {
          "output_type": "display_data",
          "data": {
            "text/plain": [
              "<PIL.Image.Image image mode=RGB size=50x50>"
            ],
            "image/png": "[encoded data removed]",
            "image/jpeg": "[encoded data removed]"
          },
          "metadata": {}
        },
        {
          "output_type": "stream",
          "name": "stdout",
          "text": [
            "####################################################################################################\n"
          ]
        },
        {
          "output_type": "display_data",
          "data": {
            "text/plain": [
              "<PIL.Image.Image image mode=RGB size=41x70>"
            ],
            "image/png": "[encoded data removed]",
            "image/jpeg": "[encoded data removed]"
          },
          "metadata": {}
        },
        {
          "output_type": "display_data",
          "data": {
            "text/plain": [
              "<PIL.Image.Image image mode=RGB size=41x70>"
            ],
            "image/png": "[encoded data removed]",
            "image/jpeg": "[encoded data removed]"
          },
          "metadata": {}
        },
        {
          "output_type": "stream",
          "name": "stdout",
          "text": [
            "Player Kit Color: \n"
          ]
        },
        {
          "output_type": "display_data",
          "data": {
            "text/plain": [
              "<PIL.Image.Image image mode=RGB size=50x50>"
            ],
            "image/png": "[encoded data removed]",
            "image/jpeg": "[encoded data removed]"
          },
          "metadata": {}
        },
        {
          "output_type": "stream",
          "name": "stdout",
          "text": [
            "####################################################################################################\n"
          ]
        },
        {
          "output_type": "display_data",
          "data": {
            "text/plain": [
              "<PIL.Image.Image image mode=RGB size=39x74>"
            ],
            "image/png": "[encoded data removed]",
            "image/jpeg": "[encoded data removed]"
          },
          "metadata": {}
        },
        {
          "output_type": "display_data",
          "data": {
            "text/plain": [
              "<PIL.Image.Image image mode=RGB size=39x74>"
            ],
            "image/png": "[encoded data removed]",
            "image/jpeg": "[encoded data removed]"
          },
          "metadata": {}
        },
        {
          "output_type": "stream",
          "name": "stdout",
          "text": [
            "Player Kit Color: \n"
          ]
        },
        {
          "output_type": "display_data",
          "data": {
            "text/plain": [
              "<PIL.Image.Image image mode=RGB size=50x50>"
            ],
            "image/png": "[encoded data removed]",
            "image/jpeg": "[encoded data removed]"
          },
          "metadata": {}
        },
        {
          "output_type": "stream",
          "name": "stdout",
          "text": [
            "####################################################################################################\n"
          ]
        }
      ]
    },
    {
      "cell_type": "markdown",
      "source": [
        "### Finally, based on the kit colors, calculate a k-means clustering to place the player detections in the relevant team"
      ],
      "metadata": {
        "id": "pvZAPC96pbHu"
      }
    },
    {
      "cell_type": "code",
      "source": [
        "from sklearn.cluster import KMeans\n",
        "import warnings\n",
        "warnings.filterwarnings(\"ignore\")\n",
        "\n",
        "kits_kmeans = KMeans(n_clusters=2)\n",
        "kits_kmeans.fit(kits_colors);\n",
        "\n",
        "\n",
        "kits_colors = np.array(kits_colors)\n",
        "\n",
        "import plotly.express as px\n",
        "\n",
        "fig = px.scatter_3d(\n",
        "    x=kits_colors[:, 2],\n",
        "    y=kits_colors[:, 1],\n",
        "    z=kits_colors[:, 0],\n",
        "    range_x=[0, 255],\n",
        "    range_y=[0, 255],\n",
        "    range_z=[0, 255],\n",
        "    title=\"Kits Colors\"\n",
        "    )\n",
        "fig.update_traces(marker_size = 10)\n",
        "fig.update_traces(marker_color = list(map(lambda e: (e[2], e[1], e[0]), kits_colors)))\n",
        "\n",
        "fig.add_scatter3d(\n",
        "    x=[kits_kmeans.cluster_centers_[0, 2]],\n",
        "    y=[kits_kmeans.cluster_centers_[0, 1]],\n",
        "    z=[kits_kmeans.cluster_centers_[0, 0]],\n",
        ")\n",
        "\n",
        "fig.add_scatter3d(\n",
        "    x=[kits_kmeans.cluster_centers_[1, 2]],\n",
        "    y=[kits_kmeans.cluster_centers_[1, 1]],\n",
        "    z=[kits_kmeans.cluster_centers_[1, 0]],\n",
        ")\n",
        "\n",
        "for i, d in enumerate(fig.data[-2:]):\n",
        "  d.marker.symbol='cross'\n",
        "  d.marker.color=kits_kmeans.cluster_centers_[i, ::-1]\n",
        "\n",
        "fig.show()\n",
        "\n"
      ],
      "metadata": {
        "id": "G-lqVC2y0zzI",
        "outputId": "894bd8c7-eda0-485b-ad35-c412e69a4f5a",
        "colab": {
          "base_uri": "https://localhost:8080/",
          "height": 542
        }
      },
      "execution_count": 38,
      "outputs": [
        {
          "output_type": "display_data",
          "data": {
            "text/html": [
              "<html>\n",
              "<head><meta charset=\"utf-8\" /></head>\n",
              "<body>\n",
              "    <div>            <script src=\"https://cdnjs.cloudflare.com/ajax/libs/mathjax/2.7.5/MathJax.js?config=TeX-AMS-MML_SVG\"></script><script type=\"text/javascript\">if (window.MathJax && window.MathJax.Hub && window.MathJax.Hub.Config) {window.MathJax.Hub.Config({SVG: {font: \"STIX-Web\"}});}</script>                <script type=\"text/javascript\">window.PlotlyConfig = {MathJaxConfig: 'local'};</script>\n",
              "        <script charset=\"utf-8\" src=\"https://cdn.plot.ly/plotly-2.35.2.min.js\"></script>                <div id=\"8622f0a4-15bf-4ec8-a976-68fcd7d7593f\" class=\"plotly-graph-div\" style=\"height:525px; width:100%;\"></div>            <script type=\"text/javascript\">                                    window.PLOTLYENV=window.PLOTLYENV || {};                                    if (document.getElementById(\"8622f0a4-15bf-4ec8-a976-68fcd7d7593f\")) {                    Plotly.newPlot(                        \"8622f0a4-15bf-4ec8-a976-68fcd7d7593f\",                        [{\"hovertemplate\":\"x=%{x}\\u003cbr\\u003ey=%{y}\\u003cbr\\u003ez=%{z}\\u003cextra\\u003e\\u003c\\u002fextra\\u003e\",\"legendgroup\":\"\",\"marker\":{\"color\":[[175.875,177.79166666666666,142.95833333333331],[199.10022522522522,202.90427927927928,197.58108108108107],[0.0,0.0,0.0],[175.0625,182.97916666666666,131.0625],[142.95000000000002,147.95000000000002,107.75],[128.88362068965517,137.0905172413793,91.57327586206897],[186.88720538720537,203.45117845117844,205.27441077441077],[142.35,145.95000000000002,104.35000000000001],[202.68281938325993,210.068281938326,204.47797356828195],[161.9179104477612,171.8049040511727,167.46055437100213],[188.32752179327522,200.55541718555418,196.63013698630138],[115.94059405940594,117.97029702970298,85.84158415841584],[190.6180981595092,200.19478527607362,197.5567484662577],[173.46673095467696,174.23625843780135,169.67888138862102],[233.0,255.0,218.0],[180.61708860759492,188.21835443037975,187.7278481012658],[0.0,0.0,0.0],[166.64024390243904,161.9268292682927,165.87195121951223],[162.86866359447004,185.2926267281106,175.27073732718895]],\"symbol\":\"circle\",\"size\":10},\"mode\":\"markers\",\"name\":\"\",\"scene\":\"scene\",\"showlegend\":false,\"x\":[175.875,199.10022522522522,0.0,175.0625,142.95000000000002,128.88362068965517,186.88720538720537,142.35,202.68281938325993,161.9179104477612,188.32752179327522,115.94059405940594,190.6180981595092,173.46673095467696,233.0,180.61708860759492,0.0,166.64024390243904,162.86866359447004],\"y\":[177.79166666666666,202.90427927927928,0.0,182.97916666666666,147.95000000000002,137.0905172413793,203.45117845117844,145.95000000000002,210.068281938326,171.8049040511727,200.55541718555418,117.97029702970298,200.19478527607362,174.23625843780135,255.0,188.21835443037975,0.0,161.9268292682927,185.2926267281106],\"z\":[142.95833333333331,197.58108108108107,0.0,131.0625,107.75,91.57327586206897,205.27441077441077,104.35000000000001,204.47797356828195,167.46055437100213,196.63013698630138,85.84158415841584,197.5567484662577,169.67888138862102,218.0,187.7278481012658,0.0,165.87195121951223,175.27073732718895],\"type\":\"scatter3d\"},{\"x\":[88.35403579151019],\"y\":[91.49346904518038],\"z\":[64.91914333674748],\"type\":\"scatter3d\",\"marker\":{\"symbol\":\"cross\",\"color\":[88.35403579151019,91.49346904518038,64.91914333674748]}},{\"x\":[184.38953903503207],\"y\":[193.41721141380785],\"z\":[181.50393512440434],\"type\":\"scatter3d\",\"marker\":{\"symbol\":\"cross\",\"color\":[184.38953903503207,193.41721141380785,181.50393512440434]}}],                        {\"template\":{\"data\":{\"histogram2dcontour\":[{\"type\":\"histogram2dcontour\",\"colorbar\":{\"outlinewidth\":0,\"ticks\":\"\"},\"colorscale\":[[0.0,\"#0d0887\"],[0.1111111111111111,\"#46039f\"],[0.2222222222222222,\"#7201a8\"],[0.3333333333333333,\"#9c179e\"],[0.4444444444444444,\"#bd3786\"],[0.5555555555555556,\"#d8576b\"],[0.6666666666666666,\"#ed7953\"],[0.7777777777777778,\"#fb9f3a\"],[0.8888888888888888,\"#fdca26\"],[1.0,\"#f0f921\"]]}],\"choropleth\":[{\"type\":\"choropleth\",\"colorbar\":{\"outlinewidth\":0,\"ticks\":\"\"}}],\"histogram2d\":[{\"type\":\"histogram2d\",\"colorbar\":{\"outlinewidth\":0,\"ticks\":\"\"},\"colorscale\":[[0.0,\"#0d0887\"],[0.1111111111111111,\"#46039f\"],[0.2222222222222222,\"#7201a8\"],[0.3333333333333333,\"#9c179e\"],[0.4444444444444444,\"#bd3786\"],[0.5555555555555556,\"#d8576b\"],[0.6666666666666666,\"#ed7953\"],[0.7777777777777778,\"#fb9f3a\"],[0.8888888888888888,\"#fdca26\"],[1.0,\"#f0f921\"]]}],\"heatmap\":[{\"type\":\"heatmap\",\"colorbar\":{\"outlinewidth\":0,\"ticks\":\"\"},\"colorscale\":[[0.0,\"#0d0887\"],[0.1111111111111111,\"#46039f\"],[0.2222222222222222,\"#7201a8\"],[0.3333333333333333,\"#9c179e\"],[0.4444444444444444,\"#bd3786\"],[0.5555555555555556,\"#d8576b\"],[0.6666666666666666,\"#ed7953\"],[0.7777777777777778,\"#fb9f3a\"],[0.8888888888888888,\"#fdca26\"],[1.0,\"#f0f921\"]]}],\"heatmapgl\":[{\"type\":\"heatmapgl\",\"colorbar\":{\"outlinewidth\":0,\"ticks\":\"\"},\"colorscale\":[[0.0,\"#0d0887\"],[0.1111111111111111,\"#46039f\"],[0.2222222222222222,\"#7201a8\"],[0.3333333333333333,\"#9c179e\"],[0.4444444444444444,\"#bd3786\"],[0.5555555555555556,\"#d8576b\"],[0.6666666666666666,\"#ed7953\"],[0.7777777777777778,\"#fb9f3a\"],[0.8888888888888888,\"#fdca26\"],[1.0,\"#f0f921\"]]}],\"contourcarpet\":[{\"type\":\"contourcarpet\",\"colorbar\":{\"outlinewidth\":0,\"ticks\":\"\"}}],\"contour\":[{\"type\":\"contour\",\"colorbar\":{\"outlinewidth\":0,\"ticks\":\"\"},\"colorscale\":[[0.0,\"#0d0887\"],[0.1111111111111111,\"#46039f\"],[0.2222222222222222,\"#7201a8\"],[0.3333333333333333,\"#9c179e\"],[0.4444444444444444,\"#bd3786\"],[0.5555555555555556,\"#d8576b\"],[0.6666666666666666,\"#ed7953\"],[0.7777777777777778,\"#fb9f3a\"],[0.8888888888888888,\"#fdca26\"],[1.0,\"#f0f921\"]]}],\"surface\":[{\"type\":\"surface\",\"colorbar\":{\"outlinewidth\":0,\"ticks\":\"\"},\"colorscale\":[[0.0,\"#0d0887\"],[0.1111111111111111,\"#46039f\"],[0.2222222222222222,\"#7201a8\"],[0.3333333333333333,\"#9c179e\"],[0.4444444444444444,\"#bd3786\"],[0.5555555555555556,\"#d8576b\"],[0.6666666666666666,\"#ed7953\"],[0.7777777777777778,\"#fb9f3a\"],[0.8888888888888888,\"#fdca26\"],[1.0,\"#f0f921\"]]}],\"mesh3d\":[{\"type\":\"mesh3d\",\"colorbar\":{\"outlinewidth\":0,\"ticks\":\"\"}}],\"scatter\":[{\"fillpattern\":{\"fillmode\":\"overlay\",\"size\":10,\"solidity\":0.2},\"type\":\"scatter\"}],\"parcoords\":[{\"type\":\"parcoords\",\"line\":{\"colorbar\":{\"outlinewidth\":0,\"ticks\":\"\"}}}],\"scatterpolargl\":[{\"type\":\"scatterpolargl\",\"marker\":{\"colorbar\":{\"outlinewidth\":0,\"ticks\":\"\"}}}],\"bar\":[{\"error_x\":{\"color\":\"#2a3f5f\"},\"error_y\":{\"color\":\"#2a3f5f\"},\"marker\":{\"line\":{\"color\":\"#E5ECF6\",\"width\":0.5},\"pattern\":{\"fillmode\":\"overlay\",\"size\":10,\"solidity\":0.2}},\"type\":\"bar\"}],\"scattergeo\":[{\"type\":\"scattergeo\",\"marker\":{\"colorbar\":{\"outlinewidth\":0,\"ticks\":\"\"}}}],\"scatterpolar\":[{\"type\":\"scatterpolar\",\"marker\":{\"colorbar\":{\"outlinewidth\":0,\"ticks\":\"\"}}}],\"histogram\":[{\"marker\":{\"pattern\":{\"fillmode\":\"overlay\",\"size\":10,\"solidity\":0.2}},\"type\":\"histogram\"}],\"scattergl\":[{\"type\":\"scattergl\",\"marker\":{\"colorbar\":{\"outlinewidth\":0,\"ticks\":\"\"}}}],\"scatter3d\":[{\"type\":\"scatter3d\",\"line\":{\"colorbar\":{\"outlinewidth\":0,\"ticks\":\"\"}},\"marker\":{\"colorbar\":{\"outlinewidth\":0,\"ticks\":\"\"}}}],\"scattermapbox\":[{\"type\":\"scattermapbox\",\"marker\":{\"colorbar\":{\"outlinewidth\":0,\"ticks\":\"\"}}}],\"scatterternary\":[{\"type\":\"scatterternary\",\"marker\":{\"colorbar\":{\"outlinewidth\":0,\"ticks\":\"\"}}}],\"scattercarpet\":[{\"type\":\"scattercarpet\",\"marker\":{\"colorbar\":{\"outlinewidth\":0,\"ticks\":\"\"}}}],\"carpet\":[{\"aaxis\":{\"endlinecolor\":\"#2a3f5f\",\"gridcolor\":\"white\",\"linecolor\":\"white\",\"minorgridcolor\":\"white\",\"startlinecolor\":\"#2a3f5f\"},\"baxis\":{\"endlinecolor\":\"#2a3f5f\",\"gridcolor\":\"white\",\"linecolor\":\"white\",\"minorgridcolor\":\"white\",\"startlinecolor\":\"#2a3f5f\"},\"type\":\"carpet\"}],\"table\":[{\"cells\":{\"fill\":{\"color\":\"#EBF0F8\"},\"line\":{\"color\":\"white\"}},\"header\":{\"fill\":{\"color\":\"#C8D4E3\"},\"line\":{\"color\":\"white\"}},\"type\":\"table\"}],\"barpolar\":[{\"marker\":{\"line\":{\"color\":\"#E5ECF6\",\"width\":0.5},\"pattern\":{\"fillmode\":\"overlay\",\"size\":10,\"solidity\":0.2}},\"type\":\"barpolar\"}],\"pie\":[{\"automargin\":true,\"type\":\"pie\"}]},\"layout\":{\"autotypenumbers\":\"strict\",\"colorway\":[\"#636efa\",\"#EF553B\",\"#00cc96\",\"#ab63fa\",\"#FFA15A\",\"#19d3f3\",\"#FF6692\",\"#B6E880\",\"#FF97FF\",\"#FECB52\"],\"font\":{\"color\":\"#2a3f5f\"},\"hovermode\":\"closest\",\"hoverlabel\":{\"align\":\"left\"},\"paper_bgcolor\":\"white\",\"plot_bgcolor\":\"#E5ECF6\",\"polar\":{\"bgcolor\":\"#E5ECF6\",\"angularaxis\":{\"gridcolor\":\"white\",\"linecolor\":\"white\",\"ticks\":\"\"},\"radialaxis\":{\"gridcolor\":\"white\",\"linecolor\":\"white\",\"ticks\":\"\"}},\"ternary\":{\"bgcolor\":\"#E5ECF6\",\"aaxis\":{\"gridcolor\":\"white\",\"linecolor\":\"white\",\"ticks\":\"\"},\"baxis\":{\"gridcolor\":\"white\",\"linecolor\":\"white\",\"ticks\":\"\"},\"caxis\":{\"gridcolor\":\"white\",\"linecolor\":\"white\",\"ticks\":\"\"}},\"coloraxis\":{\"colorbar\":{\"outlinewidth\":0,\"ticks\":\"\"}},\"colorscale\":{\"sequential\":[[0.0,\"#0d0887\"],[0.1111111111111111,\"#46039f\"],[0.2222222222222222,\"#7201a8\"],[0.3333333333333333,\"#9c179e\"],[0.4444444444444444,\"#bd3786\"],[0.5555555555555556,\"#d8576b\"],[0.6666666666666666,\"#ed7953\"],[0.7777777777777778,\"#fb9f3a\"],[0.8888888888888888,\"#fdca26\"],[1.0,\"#f0f921\"]],\"sequentialminus\":[[0.0,\"#0d0887\"],[0.1111111111111111,\"#46039f\"],[0.2222222222222222,\"#7201a8\"],[0.3333333333333333,\"#9c179e\"],[0.4444444444444444,\"#bd3786\"],[0.5555555555555556,\"#d8576b\"],[0.6666666666666666,\"#ed7953\"],[0.7777777777777778,\"#fb9f3a\"],[0.8888888888888888,\"#fdca26\"],[1.0,\"#f0f921\"]],\"diverging\":[[0,\"#8e0152\"],[0.1,\"#c51b7d\"],[0.2,\"#de77ae\"],[0.3,\"#f1b6da\"],[0.4,\"#fde0ef\"],[0.5,\"#f7f7f7\"],[0.6,\"#e6f5d0\"],[0.7,\"#b8e186\"],[0.8,\"#7fbc41\"],[0.9,\"#4d9221\"],[1,\"#276419\"]]},\"xaxis\":{\"gridcolor\":\"white\",\"linecolor\":\"white\",\"ticks\":\"\",\"title\":{\"standoff\":15},\"zerolinecolor\":\"white\",\"automargin\":true,\"zerolinewidth\":2},\"yaxis\":{\"gridcolor\":\"white\",\"linecolor\":\"white\",\"ticks\":\"\",\"title\":{\"standoff\":15},\"zerolinecolor\":\"white\",\"automargin\":true,\"zerolinewidth\":2},\"scene\":{\"xaxis\":{\"backgroundcolor\":\"#E5ECF6\",\"gridcolor\":\"white\",\"linecolor\":\"white\",\"showbackground\":true,\"ticks\":\"\",\"zerolinecolor\":\"white\",\"gridwidth\":2},\"yaxis\":{\"backgroundcolor\":\"#E5ECF6\",\"gridcolor\":\"white\",\"linecolor\":\"white\",\"showbackground\":true,\"ticks\":\"\",\"zerolinecolor\":\"white\",\"gridwidth\":2},\"zaxis\":{\"backgroundcolor\":\"#E5ECF6\",\"gridcolor\":\"white\",\"linecolor\":\"white\",\"showbackground\":true,\"ticks\":\"\",\"zerolinecolor\":\"white\",\"gridwidth\":2}},\"shapedefaults\":{\"line\":{\"color\":\"#2a3f5f\"}},\"annotationdefaults\":{\"arrowcolor\":\"#2a3f5f\",\"arrowhead\":0,\"arrowwidth\":1},\"geo\":{\"bgcolor\":\"white\",\"landcolor\":\"#E5ECF6\",\"subunitcolor\":\"white\",\"showland\":true,\"showlakes\":true,\"lakecolor\":\"white\"},\"title\":{\"x\":0.05},\"mapbox\":{\"style\":\"light\"}}},\"scene\":{\"domain\":{\"x\":[0.0,1.0],\"y\":[0.0,1.0]},\"xaxis\":{\"title\":{\"text\":\"x\"},\"range\":[0,255]},\"yaxis\":{\"title\":{\"text\":\"y\"},\"range\":[0,255]},\"zaxis\":{\"title\":{\"text\":\"z\"},\"range\":[0,255]}},\"legend\":{\"tracegroupgap\":0},\"title\":{\"text\":\"Kits Colors\"}},                        {\"responsive\": true}                    ).then(function(){\n",
              "                            \n",
              "var gd = document.getElementById('8622f0a4-15bf-4ec8-a976-68fcd7d7593f');\n",
              "var x = new MutationObserver(function (mutations, observer) {{\n",
              "        var display = window.getComputedStyle(gd).display;\n",
              "        if (!display || display === 'none') {{\n",
              "            console.log([gd, 'removed!']);\n",
              "            Plotly.purge(gd);\n",
              "            observer.disconnect();\n",
              "        }}\n",
              "}});\n",
              "\n",
              "// Listen for the removal of the full notebook cells\n",
              "var notebookContainer = gd.closest('#notebook-container');\n",
              "if (notebookContainer) {{\n",
              "    x.observe(notebookContainer, {childList: true});\n",
              "}}\n",
              "\n",
              "// Listen for the clearing of the current output cell\n",
              "var outputEl = gd.closest('.output');\n",
              "if (outputEl) {{\n",
              "    x.observe(outputEl, {childList: true});\n",
              "}}\n",
              "\n",
              "                        })                };                            </script>        </div>\n",
              "</body>\n",
              "</html>"
            ]
          },
          "metadata": {}
        }
      ]
    },
    {
      "cell_type": "markdown",
      "source": [
        "### Assign players from first frame to each frame and store in associated dataframe"
      ],
      "metadata": {
        "id": "d2mvyIb70Voa"
      }
    },
    {
      "cell_type": "code",
      "source": [
        "kits_kmeans.labels_\n",
        "xyPlayers\n",
        "\n",
        "team1Player = [x for index,x in enumerate(xyPlayers) if kits_kmeans.labels_[index] == 1 ]\n",
        "team2Player = [x for index,x in enumerate(xyPlayers) if kits_kmeans.labels_[index] == 0 ]\n",
        "\n",
        "team1Player,team2Player"
      ],
      "metadata": {
        "id": "wZHVT1_V4ujE",
        "outputId": "41621746-310b-463a-d890-6556a6692b75",
        "colab": {
          "base_uri": "https://localhost:8080/"
        }
      },
      "execution_count": 48,
      "outputs": [
        {
          "output_type": "execute_result",
          "data": {
            "text/plain": [
              "array([[234.5409 , 344.3809 ],\n",
              "       [272.83154, 341.00662],\n",
              "       [368.46564, 344.6856 ],\n",
              "       [280.7268 , 347.09085],\n",
              "       [274.23682, 338.0487 ],\n",
              "       [264.7089 , 338.46307],\n",
              "       [309.18808, 339.1388 ],\n",
              "       [397.826  , 338.21353],\n",
              "       [369.28937, 339.07953],\n",
              "       [331.3946 , 334.92148],\n",
              "       [355.68793, 335.5456 ],\n",
              "       [321.54337, 336.07874],\n",
              "       [393.92072, 334.1648 ],\n",
              "       [304.18906, 333.7851 ],\n",
              "       [227.08725, 338.8356 ],\n",
              "       [339.09692, 340.17484],\n",
              "       [338.096  , 336.7286 ],\n",
              "       [397.6997 , 337.13107],\n",
              "       [398.21127, 339.77658],\n",
              "       [310.3659 , 332.4331 ],\n",
              "       [413.1401 , 349.49963],\n",
              "       [401.4465 , 336.74487],\n",
              "       [390.64914, 332.63736]], dtype=float32)"
            ]
          },
          "metadata": {},
          "execution_count": 48
        }
      ]
    },
    {
      "cell_type": "markdown",
      "source": [
        "## Loop through rest of frames and assign bounding boxes to each team"
      ],
      "metadata": {
        "id": "_Sd458v7pocd"
      }
    },
    {
      "cell_type": "code",
      "source": [
        "for counter,box in enumerate(playerBoxes):\n",
        "\n",
        "  x1, y1, x2, y2 = map(int, box)\n",
        "  player_img = frame[y1: y2, x1: x2]\n",
        "\n",
        "  # Convert image to HSV color space\n",
        "  hsv = cv2.cvtColor(player_img, cv2.COLOR_BGR2HSV)\n",
        "\n",
        "  # Define range of green color in HSV\n",
        "  lower_green = np.array([grass_hsv[0, 0, 0] - 10, 40, 40])\n",
        "  upper_green = np.array([grass_hsv[0, 0, 0] + 10, 255, 255])\n",
        "\n",
        "  # Threshold the HSV image to get only green colors\n",
        "  mask = cv2.inRange(hsv, lower_green, upper_green)\n",
        "  # Bitwise-AND mask and original image\n",
        "  mask = cv2.bitwise_not(mask)\n",
        "\n",
        "  upper_mask = np.zeros(player_img.shape[:2], np.uint8)\n",
        "  upper_mask[0:player_img.shape[0]//2, 0:player_img.shape[1]] = 255\n",
        "  mask = cv2.bitwise_and(mask, upper_mask)\n",
        "\n",
        "  masked_img = cv2.bitwise_and(player_img, player_img, mask=mask)\n",
        "\n",
        "  # Check for mask where over 90% of bounding box is detected as green\n",
        "  greenKitTest = collections.Counter(mask.flatten())\n",
        "  if greenKitTest[255]/(greenKitTest[255]+greenKitTest[0]) > 0.9:\n",
        "    player_kit_color = np.array(grass_hsv[0,0])\n",
        "  else:\n",
        "    player_kit_color = np.array(cv2.mean(player_img, mask=mask)[:3])\n",
        "\n",
        "\n"
      ],
      "metadata": {
        "id": "YTwXkTr10axC"
      },
      "execution_count": null,
      "outputs": []
    },
    {
      "cell_type": "code",
      "source": [
        "import os\n",
        "def save():\n",
        "    os.system(\"ffmpeg -r 30 -i annotatedImage%01d.png -vcodec mpeg4 -y movie.mp4\")\n",
        "\n",
        "save()"
      ],
      "metadata": {
        "id": "3W1QiNfI-lwm"
      },
      "execution_count": 40,
      "outputs": []
    },
    {
      "cell_type": "markdown",
      "source": [
        "## Own trained model via transfer learning"
      ],
      "metadata": {
        "id": "cfb3dNA-WPal"
      }
    },
    {
      "cell_type": "code",
      "source": [
        "try:\n",
        "  from ultralytics import YOLO\n",
        "except ModuleNotFoundError:\n",
        "  !pip install ultralytics\n",
        "  from ultralytics import YOLO\n",
        "\n",
        "# Load a pretrained YOLO11n model\n",
        "modelPlayers = YOLO(\"/content/drive/MyDrive/ML/FootballAnalysis/Models/bestFootballYoloSoFar.pt\")\n",
        "\n",
        "# Run inference on 'bus.jpg' with arguments\n",
        "modelPlayers.predict(\"test.png\", save=True, conf=0.5)\n",
        "\n",
        "modelBall = YOLO(\"/content/drive/MyDrive/ML/FootballAnalysis/Models/bestBallSoFar_0409.pt\")\n",
        "\n",
        "modelBall.predict(\"test.png\", save=True, conf=0.1)"
      ],
      "metadata": {
        "colab": {
          "base_uri": "https://localhost:8080/"
        },
        "id": "O84AKTDN8BDm",
        "outputId": "aaaab209-fbb3-426b-af6d-1a6af131dee5"
      },
      "execution_count": null,
      "outputs": [
        {
          "output_type": "stream",
          "name": "stdout",
          "text": [
            "\n",
            "image 1/1 /content/test.png: 384x640 23 players, 1 referee, 315.0ms\n",
            "Speed: 4.0ms preprocess, 315.0ms inference, 0.5ms postprocess per image at shape (1, 3, 384, 640)\n",
            "Results saved to \u001b[1mruns/detect/predict\u001b[0m\n",
            "\n",
            "image 1/1 /content/test.png: 384x640 2 balls, 5236.3ms\n",
            "Speed: 8.5ms preprocess, 5236.3ms inference, 4.0ms postprocess per image at shape (1, 3, 384, 640)\n",
            "Results saved to \u001b[1mruns/detect/predict3\u001b[0m\n"
          ]
        },
        {
          "output_type": "execute_result",
          "data": {
            "text/plain": [
              "[ultralytics.engine.results.Results object with attributes:\n",
              " \n",
              " boxes: ultralytics.engine.results.Boxes object\n",
              " keypoints: None\n",
              " masks: None\n",
              " names: {0: 'ball'}\n",
              " obb: None\n",
              " orig_img: array([[[105, 146, 100],\n",
              "         [ 98, 139,  93],\n",
              "         [101, 150,  97],\n",
              "         ...,\n",
              "         [ 82,  92, 100],\n",
              "         [ 85,  95, 103],\n",
              "         [ 87,  97, 105]],\n",
              " \n",
              "        [[104, 145,  99],\n",
              "         [105, 146, 100],\n",
              "         [114, 163, 110],\n",
              "         ...,\n",
              "         [ 87,  97, 105],\n",
              "         [ 89,  99, 107],\n",
              "         [ 90, 100, 108]],\n",
              " \n",
              "        [[101, 150,  97],\n",
              "         [110, 159, 106],\n",
              "         [115, 172, 114],\n",
              "         ...,\n",
              "         [ 88,  98, 106],\n",
              "         [ 90, 100, 108],\n",
              "         [ 92, 102, 110]],\n",
              " \n",
              "        ...,\n",
              " \n",
              "        [[ 78, 103,  74],\n",
              "         [ 78, 103,  74],\n",
              "         [ 78, 103,  74],\n",
              "         ...,\n",
              "         [ 43,  47,  30],\n",
              "         [ 44,  48,  31],\n",
              "         [ 44,  48,  31]],\n",
              " \n",
              "        [[ 78, 103,  74],\n",
              "         [ 78, 103,  74],\n",
              "         [ 78, 103,  74],\n",
              "         ...,\n",
              "         [ 55,  56,  44],\n",
              "         [ 57,  58,  46],\n",
              "         [ 57,  58,  46]],\n",
              " \n",
              "        [[ 78, 103,  74],\n",
              "         [ 78, 103,  74],\n",
              "         [ 78, 103,  74],\n",
              "         ...,\n",
              "         [ 59,  60,  48],\n",
              "         [ 60,  61,  49],\n",
              "         [ 60,  61,  49]]], dtype=uint8)\n",
              " orig_shape: (1080, 1920)\n",
              " path: '/content/test.png'\n",
              " probs: None\n",
              " save_dir: 'runs/detect/predict3'\n",
              " speed: {'preprocess': 8.528470993041992, 'inference': 5236.308574676514, 'postprocess': 4.044771194458008}]"
            ]
          },
          "metadata": {},
          "execution_count": 36
        }
      ]
    }
  ]
}