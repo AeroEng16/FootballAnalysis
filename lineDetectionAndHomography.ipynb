{
  "nbformat": 4,
  "nbformat_minor": 0,
  "metadata": {
    "colab": {
      "provenance": [],
      "gpuType": "T4",
      "authorship_tag": "ABX9TyMb2oK34zPCNEoqEm8TCAtb",
      "include_colab_link": true
    },
    "kernelspec": {
      "name": "python3",
      "display_name": "Python 3"
    },
    "language_info": {
      "name": "python"
    },
    "accelerator": "GPU"
  },
  "cells": [
    {
      "cell_type": "markdown",
      "metadata": {
        "id": "view-in-github",
        "colab_type": "text"
      },
      "source": [
        "<a href=\"https://colab.research.google.com/github/AeroEng16/FootballAnalysis/blob/main/lineDetectionAndHomography.ipynb\" target=\"_parent\"><img src=\"https://colab.research.google.com/assets/colab-badge.svg\" alt=\"Open In Colab\"/></a>"
      ]
    },
    {
      "cell_type": "code",
      "execution_count": 3,
      "metadata": {
        "colab": {
          "base_uri": "https://localhost:8080/"
        },
        "id": "OwxfF6GHfFgG",
        "outputId": "fb4a82f5-87cb-47d4-916d-965fa350c719"
      },
      "outputs": [
        {
          "output_type": "stream",
          "name": "stdout",
          "text": [
            "Mounted at /content/drive\n"
          ]
        }
      ],
      "source": [
        "from google.colab import drive\n",
        "drive.mount('/content/drive',force_remount=True)\n"
      ]
    },
    {
      "cell_type": "code",
      "source": [
        "import math\n",
        "import plotly.express as px\n",
        "import pandas as pd\n",
        "from google.colab.patches import cv2_imshow\n",
        "try:\n",
        "  import supervision as sv\n",
        "  from inference import get_model\n",
        "except ImportError:\n",
        "  !pip install inference supervision\n",
        "  import supervision as sv\n",
        "  from inference import get_model\n",
        "import cv2\n",
        "import numpy as np\n",
        "from PIL import Image\n",
        "import os\n",
        "LOOK AT CHANGING TO INFERENCE ON GPU\n",
        "\n",
        "try:\n",
        "  import inference-gpu\n",
        "except ImportError:\n",
        "  !pip install inference-gpu\n",
        "  import inference-gpu"
      ],
      "metadata": {
        "id": "DX1V6eIKfHCE"
      },
      "execution_count": 4,
      "outputs": []
    },
    {
      "cell_type": "code",
      "source": [
        "vid = cv2.VideoCapture(\"/content/drive/MyDrive/ML/FootballAnalysis/08fd33_4.mp4\")"
      ],
      "metadata": {
        "id": "xpFxbq2QhRdy"
      },
      "execution_count": 3,
      "outputs": []
    },
    {
      "cell_type": "code",
      "source": [
        "ret, frame = vid.read()\n"
      ],
      "metadata": {
        "id": "S4DCpOGB5suJ"
      },
      "execution_count": 6,
      "outputs": []
    },
    {
      "cell_type": "code",
      "source": [
        "#drawn_img = lsd.drawSegments(frame,lines_lsd)\n",
        "#cv2_imshow(drawn_img)"
      ],
      "metadata": {
        "id": "dLCBwAU266oe"
      },
      "execution_count": 8,
      "outputs": []
    },
    {
      "cell_type": "code",
      "source": [
        "\n",
        "im = Image.fromarray(frame)\n",
        "im.save(\"test.png\")"
      ],
      "metadata": {
        "id": "WHy_EsT4g-Uj"
      },
      "execution_count": 5,
      "outputs": []
    },
    {
      "cell_type": "code",
      "source": [
        "\n",
        "model = get_model(\n",
        "    model_id=\"football-field-detection-f07vi/14\",\n",
        "    api_key=\"Sjv2KA46fn0Ksxphg6NV\"\n",
        ")\n",
        "\n",
        "ballModel = get_model(\n",
        "    model_id=\"football-ball-detection-rejhg/4\",\n",
        "    api_key=\"Sjv2KA46fn0Ksxphg6NV\"\n",
        ")\n",
        "\n",
        "playerModel = get_model(\n",
        "    model_id=\"football-players-detection-3zvbc/12\",\n",
        "    api_key=\"Sjv2KA46fn0Ksxphg6NV\"\n",
        ")\n",
        "\n"
      ],
      "metadata": {
        "id": "v8N13wuGhSuv",
        "outputId": "65d650fb-f6b5-4347-8c24-06a04938e536",
        "colab": {
          "base_uri": "https://localhost:8080/"
        }
      },
      "execution_count": 1,
      "outputs": [
        {
          "output_type": "stream",
          "name": "stderr",
          "text": [
            "UserWarning: Specified provider 'CUDAExecutionProvider' is not in available provider names.Available providers: 'AzureExecutionProvider, CPUExecutionProvider'\n",
            "UserWarning: Specified provider 'OpenVINOExecutionProvider' is not in available provider names.Available providers: 'AzureExecutionProvider, CPUExecutionProvider'\n",
            "UserWarning: Specified provider 'CoreMLExecutionProvider' is not in available provider names.Available providers: 'AzureExecutionProvider, CPUExecutionProvider'\n"
          ]
        }
      ]
    },
    {
      "cell_type": "code",
      "source": [
        "\n",
        "for i in range(100):\n",
        "  ret, frame = vid.read()\n",
        "\n",
        "\n",
        "  #image = cv2.imread(\"test.png\")\n",
        "  image = frame\n",
        "  # KeyPointDetections\n",
        "  result = model.infer(image, confidence=0.3)[0]\n",
        "\n",
        "  keypoints = sv.KeyPoints.from_inference(result)\n",
        "\n",
        "  filter = keypoints.confidence > 0.5\n",
        "  keypoints.xy = keypoints.xy[filter][np.newaxis]\n",
        "  keypoints.confidence = keypoints.confidence[filter][np.newaxis]\n",
        "\n",
        "  vertex_annotator = sv.VertexAnnotator(radius=12)\n",
        "  annotated_image = vertex_annotator.annotate(image.copy(), keypoints)\n",
        "\n",
        "  #Ball Detection\n",
        "\n",
        "  resultBall = ballModel.infer(image, confidence=0.5)[0]\n",
        "\n",
        "  detectionsBall = sv.Detections.from_inference(resultBall)\n",
        "\n",
        "  EllipseAnnotator_annotatorBall = sv.EllipseAnnotator(thickness=2)\n",
        "  annotated_imageBall = EllipseAnnotator_annotatorBall.annotate(annotated_image.copy(), detectionsBall)\n",
        "\n",
        "  #Player Detection\n",
        "\n",
        "  resultPlayer = playerModel.infer(image, confidence=0.7)[0]\n",
        "\n",
        "  detectionsPlayer = sv.Detections.from_inference(resultPlayer)\n",
        "\n",
        "  EllipseAnnotator_annotatorPlayer = sv.EllipseAnnotator(thickness=2)\n",
        "  annotated_imagePlayer = EllipseAnnotator_annotatorPlayer.annotate(annotated_imageBall.copy(), detectionsPlayer)\n",
        "  im = Image.fromarray(annotated_imagePlayer)\n",
        "  im.save(\"annotatedImage\" + str(i) +\".png\")"
      ],
      "metadata": {
        "id": "JLQVrXBIzAEf"
      },
      "execution_count": 6,
      "outputs": []
    },
    {
      "cell_type": "code",
      "source": [
        "import os\n",
        "def save():\n",
        "    os.system(\"ffmpeg -r 30 -i annotatedImage%01d.png -vcodec mpeg4 -y movie.mp4\")\n",
        "\n",
        "save()"
      ],
      "metadata": {
        "id": "3W1QiNfI-lwm"
      },
      "execution_count": 9,
      "outputs": []
    },
    {
      "cell_type": "markdown",
      "source": [
        "## Pitch Vertex Labels\n",
        "\n",
        "Figure out how pitch config works and recreate alongside template image"
      ],
      "metadata": {
        "id": "UdE76XysVPF2"
      }
    },
    {
      "cell_type": "code",
      "source": [
        "\n",
        "\n",
        "!pip install -q git+https://github.com/roboflow/sports.git\n",
        "\n",
        "\n",
        "from dataclasses import dataclass, field\n",
        "from typing import List, Tuple\n",
        "\n",
        "\n",
        "@dataclass\n",
        "class SoccerPitchConfiguration:\n",
        "    width: int = 7000  # [cm]\n",
        "    length: int = 12000  # [cm]\n",
        "    penalty_box_width: int = 4100  # [cm]\n",
        "    penalty_box_length: int = 2015  # [cm]\n",
        "    goal_box_width: int = 1832  # [cm]\n",
        "    goal_box_length: int = 550  # [cm]\n",
        "    centre_circle_radius: int = 915  # [cm]\n",
        "    penalty_spot_distance: int = 1100  # [cm]\n",
        "\n",
        "    @property\n",
        "    def vertices(self) -> List[Tuple[int, int]]:\n",
        "        return [\n",
        "            (0, 0),  # 1\n",
        "            (0, (self.width - self.penalty_box_width) / 2),  # 2\n",
        "            (0, (self.width - self.goal_box_width) / 2),  # 3\n",
        "            (0, (self.width + self.goal_box_width) / 2),  # 4\n",
        "            (0, (self.width + self.penalty_box_width) / 2),  # 5\n",
        "            (0, self.width),  # 6\n",
        "            (self.goal_box_length, (self.width - self.goal_box_width) / 2),  # 7\n",
        "            (self.goal_box_length, (self.width + self.goal_box_width) / 2),  # 8\n",
        "            (self.penalty_spot_distance, self.width / 2),  # 9\n",
        "            (self.penalty_box_length, (self.width - self.penalty_box_width) / 2),  # 10\n",
        "            (self.penalty_box_length, (self.width - self.goal_box_width) / 2),  # 11\n",
        "            (self.penalty_box_length, (self.width + self.goal_box_width) / 2),  # 12\n",
        "            (self.penalty_box_length, (self.width + self.penalty_box_width) / 2),  # 13\n",
        "            (self.length / 2, 0),  # 14\n",
        "            (self.length / 2, self.width / 2 - self.centre_circle_radius),  # 15\n",
        "            (self.length / 2, self.width / 2 + self.centre_circle_radius),  # 16\n",
        "            (self.length / 2, self.width),  # 17\n",
        "            (\n",
        "                self.length - self.penalty_box_length,\n",
        "                (self.width - self.penalty_box_width) / 2\n",
        "            ),  # 18\n",
        "            (\n",
        "                self.length - self.penalty_box_length,\n",
        "                (self.width - self.goal_box_width) / 2\n",
        "            ),  # 19\n",
        "            (\n",
        "                self.length - self.penalty_box_length,\n",
        "                (self.width + self.goal_box_width) / 2\n",
        "            ),  # 20\n",
        "            (\n",
        "                self.length - self.penalty_box_length,\n",
        "                (self.width + self.penalty_box_width) / 2\n",
        "            ),  # 21\n",
        "            (self.length - self.penalty_spot_distance, self.width / 2),  # 22\n",
        "            (\n",
        "                self.length - self.goal_box_length,\n",
        "                (self.width - self.goal_box_width) / 2\n",
        "            ),  # 23\n",
        "            (\n",
        "                self.length - self.goal_box_length,\n",
        "                (self.width + self.goal_box_width) / 2\n",
        "            ),  # 24\n",
        "            (self.length, 0),  # 25\n",
        "            (self.length, (self.width - self.penalty_box_width) / 2),  # 26\n",
        "            (self.length, (self.width - self.goal_box_width) / 2),  # 27\n",
        "            (self.length, (self.width + self.goal_box_width) / 2),  # 28\n",
        "            (self.length, (self.width + self.penalty_box_width) / 2),  # 29\n",
        "            (self.length, self.width),  # 30\n",
        "            (self.length / 2 - self.centre_circle_radius, self.width / 2),  # 31\n",
        "            (self.length / 2 + self.centre_circle_radius, self.width / 2),  # 32\n",
        "        ]\n",
        "\n",
        "    edges: List[Tuple[int, int]] = field(default_factory=lambda: [\n",
        "        (1, 2), (2, 3), (3, 4), (4, 5), (5, 6), (7, 8),\n",
        "        (10, 11), (11, 12), (12, 13), (14, 15), (15, 16),\n",
        "        (16, 17), (18, 19), (19, 20), (20, 21), (23, 24),\n",
        "        (25, 26), (26, 27), (27, 28), (28, 29), (29, 30),\n",
        "        (1, 14), (2, 10), (3, 7), (4, 8), (5, 13), (6, 17),\n",
        "        (14, 25), (18, 26), (23, 27), (24, 28), (21, 29), (17, 30)\n",
        "    ])\n",
        "\n",
        "    labels: List[str] = field(default_factory=lambda: [\n",
        "        \"01\", \"02\", \"03\", \"04\", \"05\", \"06\", \"07\", \"08\", \"09\", \"10\",\n",
        "        \"11\", \"12\", \"13\", \"15\", \"16\", \"17\", \"18\", \"20\", \"21\", \"22\",\n",
        "        \"23\", \"24\", \"25\", \"26\", \"27\", \"28\", \"29\", \"30\", \"31\", \"32\",\n",
        "        \"14\", \"19\"\n",
        "    ])\n",
        "\n",
        "    colors: List[str] = field(default_factory=lambda: [\n",
        "        \"#FF1493\", \"#FF1493\", \"#FF1493\", \"#FF1493\", \"#FF1493\", \"#FF1493\",\n",
        "        \"#FF1493\", \"#FF1493\", \"#FF1493\", \"#FF1493\", \"#FF1493\", \"#FF1493\",\n",
        "        \"#FF1493\", \"#00BFFF\", \"#00BFFF\", \"#00BFFF\", \"#00BFFF\", \"#FF6347\",\n",
        "        \"#FF6347\", \"#FF6347\", \"#FF6347\", \"#FF6347\", \"#FF6347\", \"#FF6347\",\n",
        "        \"#FF6347\", \"#FF6347\", \"#FF6347\", \"#FF6347\", \"#FF6347\", \"#FF6347\",\n",
        "        \"#00BFFF\", \"#00BFFF\"\n",
        "    ])"
      ],
      "metadata": {
        "id": "8CUWn7GIUeVO"
      },
      "execution_count": null,
      "outputs": []
    },
    {
      "cell_type": "code",
      "source": [
        "CONFIG = SoccerPitchConfiguration()\n",
        "CONFIG.vertices"
      ],
      "metadata": {
        "id": "gtnoYIuVVBxq",
        "outputId": "c1f773af-e9c2-4e44-a708-4c42955c6a3d",
        "colab": {
          "base_uri": "https://localhost:8080/"
        },
        "collapsed": true
      },
      "execution_count": null,
      "outputs": [
        {
          "output_type": "execute_result",
          "data": {
            "text/plain": [
              "[(0, 0),\n",
              " (0, 1450.0),\n",
              " (0, 2584.0),\n",
              " (0, 4416.0),\n",
              " (0, 5550.0),\n",
              " (0, 7000),\n",
              " (550, 2584.0),\n",
              " (550, 4416.0),\n",
              " (1100, 3500.0),\n",
              " (2015, 1450.0),\n",
              " (2015, 2584.0),\n",
              " (2015, 4416.0),\n",
              " (2015, 5550.0),\n",
              " (6000.0, 0),\n",
              " (6000.0, 2585.0),\n",
              " (6000.0, 4415.0),\n",
              " (6000.0, 7000),\n",
              " (9985, 1450.0),\n",
              " (9985, 2584.0),\n",
              " (9985, 4416.0),\n",
              " (9985, 5550.0),\n",
              " (10900, 3500.0),\n",
              " (11450, 2584.0),\n",
              " (11450, 4416.0),\n",
              " (12000, 0),\n",
              " (12000, 1450.0),\n",
              " (12000, 2584.0),\n",
              " (12000, 4416.0),\n",
              " (12000, 5550.0),\n",
              " (12000, 7000),\n",
              " (5085.0, 3500.0),\n",
              " (6915.0, 3500.0)]"
            ]
          },
          "metadata": {},
          "execution_count": 6
        }
      ]
    },
    {
      "cell_type": "code",
      "source": [
        "try:\n",
        "  from ultralytics import YOLO\n",
        "except ModuleNotFoundError:\n",
        "  !pip install ultralytics\n",
        "  from ultralytics import YOLO\n",
        "\n",
        "# Load a pretrained YOLO11n model\n",
        "modelPlayers = YOLO(\"/content/drive/MyDrive/ML/FootballAnalysis/Models/bestFootballYoloSoFar.pt\")\n",
        "\n",
        "# Run inference on 'bus.jpg' with arguments\n",
        "modelPlayers.predict(\"test.png\", save=True, conf=0.5)\n",
        "\n",
        "modelBall = YOLO(\"/content/drive/MyDrive/ML/FootballAnalysis/Models/bestBallSoFar_0409.pt\")\n",
        "\n",
        "modelBall.predict(\"test.png\", save=True, conf=0.1)"
      ],
      "metadata": {
        "colab": {
          "base_uri": "https://localhost:8080/"
        },
        "id": "O84AKTDN8BDm",
        "outputId": "aaaab209-fbb3-426b-af6d-1a6af131dee5"
      },
      "execution_count": null,
      "outputs": [
        {
          "output_type": "stream",
          "name": "stdout",
          "text": [
            "\n",
            "image 1/1 /content/test.png: 384x640 23 players, 1 referee, 315.0ms\n",
            "Speed: 4.0ms preprocess, 315.0ms inference, 0.5ms postprocess per image at shape (1, 3, 384, 640)\n",
            "Results saved to \u001b[1mruns/detect/predict\u001b[0m\n",
            "\n",
            "image 1/1 /content/test.png: 384x640 2 balls, 5236.3ms\n",
            "Speed: 8.5ms preprocess, 5236.3ms inference, 4.0ms postprocess per image at shape (1, 3, 384, 640)\n",
            "Results saved to \u001b[1mruns/detect/predict3\u001b[0m\n"
          ]
        },
        {
          "output_type": "execute_result",
          "data": {
            "text/plain": [
              "[ultralytics.engine.results.Results object with attributes:\n",
              " \n",
              " boxes: ultralytics.engine.results.Boxes object\n",
              " keypoints: None\n",
              " masks: None\n",
              " names: {0: 'ball'}\n",
              " obb: None\n",
              " orig_img: array([[[105, 146, 100],\n",
              "         [ 98, 139,  93],\n",
              "         [101, 150,  97],\n",
              "         ...,\n",
              "         [ 82,  92, 100],\n",
              "         [ 85,  95, 103],\n",
              "         [ 87,  97, 105]],\n",
              " \n",
              "        [[104, 145,  99],\n",
              "         [105, 146, 100],\n",
              "         [114, 163, 110],\n",
              "         ...,\n",
              "         [ 87,  97, 105],\n",
              "         [ 89,  99, 107],\n",
              "         [ 90, 100, 108]],\n",
              " \n",
              "        [[101, 150,  97],\n",
              "         [110, 159, 106],\n",
              "         [115, 172, 114],\n",
              "         ...,\n",
              "         [ 88,  98, 106],\n",
              "         [ 90, 100, 108],\n",
              "         [ 92, 102, 110]],\n",
              " \n",
              "        ...,\n",
              " \n",
              "        [[ 78, 103,  74],\n",
              "         [ 78, 103,  74],\n",
              "         [ 78, 103,  74],\n",
              "         ...,\n",
              "         [ 43,  47,  30],\n",
              "         [ 44,  48,  31],\n",
              "         [ 44,  48,  31]],\n",
              " \n",
              "        [[ 78, 103,  74],\n",
              "         [ 78, 103,  74],\n",
              "         [ 78, 103,  74],\n",
              "         ...,\n",
              "         [ 55,  56,  44],\n",
              "         [ 57,  58,  46],\n",
              "         [ 57,  58,  46]],\n",
              " \n",
              "        [[ 78, 103,  74],\n",
              "         [ 78, 103,  74],\n",
              "         [ 78, 103,  74],\n",
              "         ...,\n",
              "         [ 59,  60,  48],\n",
              "         [ 60,  61,  49],\n",
              "         [ 60,  61,  49]]], dtype=uint8)\n",
              " orig_shape: (1080, 1920)\n",
              " path: '/content/test.png'\n",
              " probs: None\n",
              " save_dir: 'runs/detect/predict3'\n",
              " speed: {'preprocess': 8.528470993041992, 'inference': 5236.308574676514, 'postprocess': 4.044771194458008}]"
            ]
          },
          "metadata": {},
          "execution_count": 36
        }
      ]
    },
    {
      "cell_type": "code",
      "source": [
        "!pip install -q git+https://github.com/roboflow/sports.git"
      ],
      "metadata": {
        "colab": {
          "base_uri": "https://localhost:8080/"
        },
        "id": "_1jVz3VT9RL9",
        "outputId": "fe1d08c4-8074-47c9-d806-0835cc91df9e"
      },
      "execution_count": null,
      "outputs": [
        {
          "output_type": "execute_result",
          "data": {
            "text/plain": [
              "KeypointsDetectionInferenceResponse(visualization=None, inference_id=None, frame_id=None, time=None, image=InferenceResponseImage(width=1920, height=1080), predictions=[KeypointsPrediction(x=960.0, y=640.5, width=1918.0, height=837.0, confidence=0.9837862253189087, class_name='pitch', class_confidence=None, class_id=0, tracker_id=None, detection_id='5c237439-aed3-4c7f-865a-f383d61c21a0', parent_id=None, keypoints=[Keypoint(x=0.0, y=312.0, confidence=1.2248754501342773e-05, class_id=0, class_name='01'), Keypoint(x=0.0, y=362.0, confidence=6.258487701416016e-07, class_id=1, class_name='02'), Keypoint(x=0.0, y=427.0, confidence=8.940696716308594e-08, class_id=2, class_name='03'), Keypoint(x=0.0, y=588.0, confidence=0.0, class_id=3, class_name='04'), Keypoint(x=0.0, y=640.0, confidence=0.0, class_id=4, class_name='05'), Keypoint(x=936.0, y=643.0, confidence=5.960464477539063e-08, class_id=5, class_name='06'), Keypoint(x=0.0, y=433.0, confidence=3.5762786865234375e-07, class_id=6, class_name='07'), Keypoint(x=0.0, y=537.0, confidence=0.0, class_id=7, class_name='08'), Keypoint(x=0.0, y=504.0, confidence=4.76837158203125e-07, class_id=8, class_name='09'), Keypoint(x=0.0, y=373.0, confidence=9.363889694213867e-05, class_id=9, class_name='10'), Keypoint(x=0.0, y=461.0, confidence=1.0251998901367188e-05, class_id=10, class_name='11'), Keypoint(x=0.0, y=589.0, confidence=5.364418029785156e-07, class_id=11, class_name='12'), Keypoint(x=0.0, y=699.0, confidence=0.0, class_id=12, class_name='13'), Keypoint(x=435.0, y=276.0, confidence=0.9968881607055664, class_id=13, class_name='15'), Keypoint(x=449.0, y=406.0, confidence=0.9993013143539429, class_id=14, class_name='16'), Keypoint(x=462.0, y=568.0, confidence=0.9994451403617859, class_id=15, class_name='17'), Keypoint(x=517.0, y=1004.0, confidence=0.8512970209121704, class_id=16, class_name='18'), Keypoint(x=1472.0, y=304.0, confidence=0.9966362714767456, class_id=17, class_name='20'), Keypoint(x=1622.0, y=372.0, confidence=0.9858411550521851, class_id=18, class_name='21'), Keypoint(x=1840.0, y=476.0, confidence=0.7319768071174622, class_id=19, class_name='22'), Keypoint(x=1920.0, y=617.0, confidence=0.05500331521034241, class_id=20, class_name='23'), Keypoint(x=1889.0, y=412.0, confidence=0.5823200345039368, class_id=21, class_name='24'), Keypoint(x=1909.0, y=351.0, confidence=0.5296596884727478, class_id=22, class_name='25'), Keypoint(x=1920.0, y=481.0, confidence=0.008774638175964355, class_id=23, class_name='26'), Keypoint(x=1722.0, y=237.0, confidence=0.9188712239265442, class_id=24, class_name='27'), Keypoint(x=1886.0, y=288.0, confidence=0.599237859249115, class_id=25, class_name='28'), Keypoint(x=1920.0, y=346.0, confidence=0.11356815695762634, class_id=26, class_name='29'), Keypoint(x=1920.0, y=465.0, confidence=0.0005984604358673096, class_id=27, class_name='30'), Keypoint(x=1920.0, y=567.0, confidence=6.198883056640625e-05, class_id=28, class_name='31'), Keypoint(x=1920.0, y=749.0, confidence=0.00023755431175231934, class_id=29, class_name='32'), Keypoint(x=78.0, y=496.0, confidence=0.806099534034729, class_id=30, class_name='14'), Keypoint(x=805.0, y=462.0, confidence=0.9998831152915955, class_id=31, class_name='19')])])"
            ]
          },
          "metadata": {},
          "execution_count": 41
        }
      ]
    }
  ]
}