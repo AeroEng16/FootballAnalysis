{
  "nbformat": 4,
  "nbformat_minor": 0,
  "metadata": {
    "colab": {
      "provenance": [],
      "gpuType": "T4",
      "authorship_tag": "ABX9TyMeKDGNxMuRI2q8tG7UTW0K",
      "include_colab_link": true
    },
    "kernelspec": {
      "name": "python3",
      "display_name": "Python 3"
    },
    "language_info": {
      "name": "python"
    },
    "accelerator": "GPU"
  },
  "cells": [
    {
      "cell_type": "markdown",
      "metadata": {
        "id": "view-in-github",
        "colab_type": "text"
      },
      "source": [
        "<a href=\"https://colab.research.google.com/github/AeroEng16/FootballAnalysis/blob/main/lineDetectionAndHomography.ipynb\" target=\"_parent\"><img src=\"https://colab.research.google.com/assets/colab-badge.svg\" alt=\"Open In Colab\"/></a>"
      ]
    },
    {
      "cell_type": "code",
      "execution_count": 1,
      "metadata": {
        "colab": {
          "base_uri": "https://localhost:8080/"
        },
        "id": "OwxfF6GHfFgG",
        "outputId": "8b2c6776-3bd4-42ff-a545-bcb155acfee3"
      },
      "outputs": [
        {
          "output_type": "stream",
          "name": "stdout",
          "text": [
            "Mounted at /content/drive\n"
          ]
        }
      ],
      "source": [
        "from google.colab import drive\n",
        "drive.mount('/content/drive',force_remount=True)\n"
      ]
    },
    {
      "cell_type": "code",
      "source": [
        "FIGURE OUT CONFLICT\n",
        "\n",
        "import math\n",
        "import plotly.express as px\n",
        "import pandas as pd\n",
        "from google.colab.patches import cv2_imshow\n",
        "try:\n",
        "  import supervision as sv\n",
        "  from inference import get_model\n",
        "except ImportError:\n",
        "  #!pip install inference\n",
        "  !pip install supervision\n",
        "  !pip install inference-gpu\n",
        "  import supervision as sv\n",
        "  from inference import get_model\n",
        "import cv2\n",
        "import numpy as np\n",
        "from PIL import Image\n",
        "import os\n",
        "#LOOK AT CHANGING TO INFERENCE ON GPU\n"
      ],
      "metadata": {
        "id": "DX1V6eIKfHCE"
      },
      "execution_count": 2,
      "outputs": []
    },
    {
      "cell_type": "code",
      "source": [
        "vid = cv2.VideoCapture(\"/content/drive/MyDrive/ML/FootballAnalysis/08fd33_4.mp4\")"
      ],
      "metadata": {
        "id": "xpFxbq2QhRdy"
      },
      "execution_count": 3,
      "outputs": []
    },
    {
      "cell_type": "code",
      "source": [
        "ret, frame = vid.read()\n"
      ],
      "metadata": {
        "id": "S4DCpOGB5suJ"
      },
      "execution_count": null,
      "outputs": []
    },
    {
      "cell_type": "code",
      "source": [
        "#drawn_img = lsd.drawSegments(frame,lines_lsd)\n",
        "#cv2_imshow(drawn_img)"
      ],
      "metadata": {
        "id": "dLCBwAU266oe"
      },
      "execution_count": null,
      "outputs": []
    },
    {
      "cell_type": "code",
      "source": [
        "\n",
        "im = Image.fromarray(frame)\n",
        "im.save(\"test.png\")"
      ],
      "metadata": {
        "id": "WHy_EsT4g-Uj"
      },
      "execution_count": null,
      "outputs": []
    },
    {
      "cell_type": "code",
      "source": [
        "\n",
        "model = get_model(\n",
        "    model_id=\"football-field-detection-f07vi/14\",\n",
        "    api_key=\"Sjv2KA46fn0Ksxphg6NV\"\n",
        ")\n",
        "\n",
        "ballModel = get_model(\n",
        "    model_id=\"football-ball-detection-rejhg/4\",\n",
        "    api_key=\"Sjv2KA46fn0Ksxphg6NV\"\n",
        ")\n",
        "\n",
        "playerModel = get_model(\n",
        "    model_id=\"football-players-detection-3zvbc/12\",\n",
        "    api_key=\"Sjv2KA46fn0Ksxphg6NV\"\n",
        ")\n",
        "\n"
      ],
      "metadata": {
        "id": "v8N13wuGhSuv",
        "outputId": "b15bc96d-f6f1-422a-c23b-1481daaad9f6",
        "colab": {
          "base_uri": "https://localhost:8080/"
        }
      },
      "execution_count": 4,
      "outputs": [
        {
          "output_type": "stream",
          "name": "stderr",
          "text": [
            "UserWarning: Specified provider 'OpenVINOExecutionProvider' is not in available provider names.Available providers: 'TensorrtExecutionProvider, CUDAExecutionProvider, CPUExecutionProvider'\n",
            "UserWarning: Specified provider 'CoreMLExecutionProvider' is not in available provider names.Available providers: 'TensorrtExecutionProvider, CUDAExecutionProvider, CPUExecutionProvider'\n"
          ]
        }
      ]
    },
    {
      "cell_type": "code",
      "source": [
        "## Initiliase dataframe to store detections\n",
        "\n",
        "df = pd.DataFrame(data=None,columns=[\"Frame\",\"Ball Location\",\"Team1 Player Locations\",\"Team2 Player Locations\"])\n",
        "df.head()\n"
      ],
      "metadata": {
        "id": "8mcktWMP4GEl",
        "outputId": "1f16295b-5569-4274-b3fd-6ac0f54a20ce",
        "colab": {
          "base_uri": "https://localhost:8080/",
          "height": 53
        }
      },
      "execution_count": 35,
      "outputs": [
        {
          "output_type": "execute_result",
          "data": {
            "text/plain": [
              "Empty DataFrame\n",
              "Columns: [Frame, Ball Location, Team1 Player Locations, Team2 Player Locations]\n",
              "Index: []"
            ],
            "text/html": [
              "\n",
              "  <div id=\"df-9b01c163-2e9e-4e7e-ab28-372562d8ef4a\" class=\"colab-df-container\">\n",
              "    <div>\n",
              "<style scoped>\n",
              "    .dataframe tbody tr th:only-of-type {\n",
              "        vertical-align: middle;\n",
              "    }\n",
              "\n",
              "    .dataframe tbody tr th {\n",
              "        vertical-align: top;\n",
              "    }\n",
              "\n",
              "    .dataframe thead th {\n",
              "        text-align: right;\n",
              "    }\n",
              "</style>\n",
              "<table border=\"1\" class=\"dataframe\">\n",
              "  <thead>\n",
              "    <tr style=\"text-align: right;\">\n",
              "      <th></th>\n",
              "      <th>Frame</th>\n",
              "      <th>Ball Location</th>\n",
              "      <th>Team1 Player Locations</th>\n",
              "      <th>Team2 Player Locations</th>\n",
              "    </tr>\n",
              "  </thead>\n",
              "  <tbody>\n",
              "  </tbody>\n",
              "</table>\n",
              "</div>\n",
              "    <div class=\"colab-df-buttons\">\n",
              "\n",
              "  <div class=\"colab-df-container\">\n",
              "    <button class=\"colab-df-convert\" onclick=\"convertToInteractive('df-9b01c163-2e9e-4e7e-ab28-372562d8ef4a')\"\n",
              "            title=\"Convert this dataframe to an interactive table.\"\n",
              "            style=\"display:none;\">\n",
              "\n",
              "  <svg xmlns=\"http://www.w3.org/2000/svg\" height=\"24px\" viewBox=\"0 -960 960 960\">\n",
              "    <path d=\"M120-120v-720h720v720H120Zm60-500h600v-160H180v160Zm220 220h160v-160H400v160Zm0 220h160v-160H400v160ZM180-400h160v-160H180v160Zm440 0h160v-160H620v160ZM180-180h160v-160H180v160Zm440 0h160v-160H620v160Z\"/>\n",
              "  </svg>\n",
              "    </button>\n",
              "\n",
              "  <style>\n",
              "    .colab-df-container {\n",
              "      display:flex;\n",
              "      gap: 12px;\n",
              "    }\n",
              "\n",
              "    .colab-df-convert {\n",
              "      background-color: #E8F0FE;\n",
              "      border: none;\n",
              "      border-radius: 50%;\n",
              "      cursor: pointer;\n",
              "      display: none;\n",
              "      fill: #1967D2;\n",
              "      height: 32px;\n",
              "      padding: 0 0 0 0;\n",
              "      width: 32px;\n",
              "    }\n",
              "\n",
              "    .colab-df-convert:hover {\n",
              "      background-color: #E2EBFA;\n",
              "      box-shadow: 0px 1px 2px rgba(60, 64, 67, 0.3), 0px 1px 3px 1px rgba(60, 64, 67, 0.15);\n",
              "      fill: #174EA6;\n",
              "    }\n",
              "\n",
              "    .colab-df-buttons div {\n",
              "      margin-bottom: 4px;\n",
              "    }\n",
              "\n",
              "    [theme=dark] .colab-df-convert {\n",
              "      background-color: #3B4455;\n",
              "      fill: #D2E3FC;\n",
              "    }\n",
              "\n",
              "    [theme=dark] .colab-df-convert:hover {\n",
              "      background-color: #434B5C;\n",
              "      box-shadow: 0px 1px 3px 1px rgba(0, 0, 0, 0.15);\n",
              "      filter: drop-shadow(0px 1px 2px rgba(0, 0, 0, 0.3));\n",
              "      fill: #FFFFFF;\n",
              "    }\n",
              "  </style>\n",
              "\n",
              "    <script>\n",
              "      const buttonEl =\n",
              "        document.querySelector('#df-9b01c163-2e9e-4e7e-ab28-372562d8ef4a button.colab-df-convert');\n",
              "      buttonEl.style.display =\n",
              "        google.colab.kernel.accessAllowed ? 'block' : 'none';\n",
              "\n",
              "      async function convertToInteractive(key) {\n",
              "        const element = document.querySelector('#df-9b01c163-2e9e-4e7e-ab28-372562d8ef4a');\n",
              "        const dataTable =\n",
              "          await google.colab.kernel.invokeFunction('convertToInteractive',\n",
              "                                                    [key], {});\n",
              "        if (!dataTable) return;\n",
              "\n",
              "        const docLinkHtml = 'Like what you see? Visit the ' +\n",
              "          '<a target=\"_blank\" href=https://colab.research.google.com/notebooks/data_table.ipynb>data table notebook</a>'\n",
              "          + ' to learn more about interactive tables.';\n",
              "        element.innerHTML = '';\n",
              "        dataTable['output_type'] = 'display_data';\n",
              "        await google.colab.output.renderOutput(dataTable, element);\n",
              "        const docLink = document.createElement('div');\n",
              "        docLink.innerHTML = docLinkHtml;\n",
              "        element.appendChild(docLink);\n",
              "      }\n",
              "    </script>\n",
              "  </div>\n",
              "\n",
              "\n",
              "    </div>\n",
              "  </div>\n"
            ],
            "application/vnd.google.colaboratory.intrinsic+json": {
              "type": "dataframe",
              "variable_name": "df",
              "repr_error": "Out of range float values are not JSON compliant: nan"
            }
          },
          "metadata": {},
          "execution_count": 35
        }
      ]
    },
    {
      "cell_type": "code",
      "source": [
        "# Loop through frames, identifying objects and moving to flat pitch view view\n",
        "#homography transform and saving in df\n",
        "\n",
        "ADD HOMOGRAPHY TRANSFORM AND DF STORING OF DATA\n",
        "for i in range(500):\n",
        "\n",
        "  ret, frame = vid.read()\n",
        "\n",
        "\n",
        "  #image = cv2.imread(\"test.png\")\n",
        "  image = frame\n",
        "  # KeyPointDetections\n",
        "  result = model.infer(image, confidence=0.3)[0]\n",
        "\n",
        "  keypoints = sv.KeyPoints.from_inference(result)\n",
        "\n",
        "  filter = keypoints.confidence > 0.5\n",
        "  keypoints.xy = keypoints.xy[filter][np.newaxis]\n",
        "  keypoints.confidence = keypoints.confidence[filter][np.newaxis]\n",
        "\n",
        "  vertex_annotator = sv.VertexAnnotator(radius=12)\n",
        "  annotated_image = vertex_annotator.annotate(image.copy(), keypoints)\n",
        "\n",
        "  #Ball Detection\n",
        "\n",
        "  resultBall = ballModel.infer(image, confidence=0.5)[0]\n",
        "\n",
        "  detectionsBall = sv.Detections.from_inference(resultBall)\n",
        "\n",
        "  EllipseAnnotator_annotatorBall = sv.EllipseAnnotator(thickness=2)\n",
        "  annotated_imageBall = EllipseAnnotator_annotatorBall.annotate(annotated_image.copy(), detectionsBall)\n",
        "\n",
        "  #Player Detection\n",
        "\n",
        "  resultPlayer = playerModel.infer(image, confidence=0.7)[0]\n",
        "\n",
        "  detectionsPlayer = sv.Detections.from_inference(resultPlayer)\n",
        "\n",
        "  EllipseAnnotator_annotatorPlayer = sv.EllipseAnnotator(thickness=2)\n",
        "  annotated_imagePlayer = EllipseAnnotator_annotatorPlayer.annotate(annotated_imageBall.copy(), detectionsPlayer)\n",
        "  im = Image.fromarray(annotated_imagePlayer)\n",
        "  im.save(\"annotatedImage\" + str(i) +\".png\")"
      ],
      "metadata": {
        "id": "JLQVrXBIzAEf"
      },
      "execution_count": 5,
      "outputs": []
    },
    {
      "cell_type": "code",
      "source": [
        "[x for x in result.predictions[0].keypoints if x.confidence > 0.5]"
      ],
      "metadata": {
        "id": "G-lqVC2y0zzI",
        "outputId": "724199ee-b981-4ef2-9f29-4379179032fc",
        "colab": {
          "base_uri": "https://localhost:8080/"
        }
      },
      "execution_count": 34,
      "outputs": [
        {
          "output_type": "execute_result",
          "data": {
            "text/plain": [
              "[Keypoint(x=780.0, y=285.0, confidence=0.9984855055809021, class_id=13, class_name='15'),\n",
              " Keypoint(x=789.0, y=404.0, confidence=0.9998045563697815, class_id=14, class_name='16'),\n",
              " Keypoint(x=797.0, y=552.0, confidence=0.9998382329940796, class_id=15, class_name='17'),\n",
              " Keypoint(x=827.0, y=929.0, confidence=0.9295761585235596, class_id=16, class_name='18'),\n",
              " Keypoint(x=1739.0, y=327.0, confidence=0.863705575466156, class_id=17, class_name='20'),\n",
              " Keypoint(x=1863.0, y=393.0, confidence=0.5148183107376099, class_id=18, class_name='21'),\n",
              " Keypoint(x=468.0, y=480.0, confidence=0.9940021634101868, class_id=30, class_name='14'),\n",
              " Keypoint(x=1109.0, y=463.0, confidence=0.999727189540863, class_id=31, class_name='19')]"
            ]
          },
          "metadata": {},
          "execution_count": 34
        }
      ]
    },
    {
      "cell_type": "code",
      "source": [
        "import os\n",
        "def save():\n",
        "    os.system(\"ffmpeg -r 30 -i annotatedImage%01d.png -vcodec mpeg4 -y movie.mp4\")\n",
        "\n",
        "save()"
      ],
      "metadata": {
        "id": "3W1QiNfI-lwm"
      },
      "execution_count": 6,
      "outputs": []
    },
    {
      "cell_type": "markdown",
      "source": [
        "## Pitch Vertex Labels\n",
        "\n",
        "Figure out how pitch config works and recreate alongside template image"
      ],
      "metadata": {
        "id": "UdE76XysVPF2"
      }
    },
    {
      "cell_type": "code",
      "source": [
        "\n",
        "\n",
        "!pip install -q git+https://github.com/roboflow/sports.git\n",
        "\n",
        "\n",
        "from dataclasses import dataclass, field\n",
        "from typing import List, Tuple\n",
        "\n",
        "\n",
        "@dataclass\n",
        "class SoccerPitchConfiguration:\n",
        "    width: int = 7000  # [cm]\n",
        "    length: int = 12000  # [cm]\n",
        "    penalty_box_width: int = 4100  # [cm]\n",
        "    penalty_box_length: int = 2015  # [cm]\n",
        "    goal_box_width: int = 1832  # [cm]\n",
        "    goal_box_length: int = 550  # [cm]\n",
        "    centre_circle_radius: int = 915  # [cm]\n",
        "    penalty_spot_distance: int = 1100  # [cm]\n",
        "\n",
        "    @property\n",
        "    def vertices(self) -> List[Tuple[int, int]]:\n",
        "        return [\n",
        "            (0, 0),  # 1\n",
        "            (0, (self.width - self.penalty_box_width) / 2),  # 2\n",
        "            (0, (self.width - self.goal_box_width) / 2),  # 3\n",
        "            (0, (self.width + self.goal_box_width) / 2),  # 4\n",
        "            (0, (self.width + self.penalty_box_width) / 2),  # 5\n",
        "            (0, self.width),  # 6\n",
        "            (self.goal_box_length, (self.width - self.goal_box_width) / 2),  # 7\n",
        "            (self.goal_box_length, (self.width + self.goal_box_width) / 2),  # 8\n",
        "            (self.penalty_spot_distance, self.width / 2),  # 9\n",
        "            (self.penalty_box_length, (self.width - self.penalty_box_width) / 2),  # 10\n",
        "            (self.penalty_box_length, (self.width - self.goal_box_width) / 2),  # 11\n",
        "            (self.penalty_box_length, (self.width + self.goal_box_width) / 2),  # 12\n",
        "            (self.penalty_box_length, (self.width + self.penalty_box_width) / 2),  # 13\n",
        "            (self.length / 2, 0),  # 14\n",
        "            (self.length / 2, self.width / 2 - self.centre_circle_radius),  # 15\n",
        "            (self.length / 2, self.width / 2 + self.centre_circle_radius),  # 16\n",
        "            (self.length / 2, self.width),  # 17\n",
        "            (\n",
        "                self.length - self.penalty_box_length,\n",
        "                (self.width - self.penalty_box_width) / 2\n",
        "            ),  # 18\n",
        "            (\n",
        "                self.length - self.penalty_box_length,\n",
        "                (self.width - self.goal_box_width) / 2\n",
        "            ),  # 19\n",
        "            (\n",
        "                self.length - self.penalty_box_length,\n",
        "                (self.width + self.goal_box_width) / 2\n",
        "            ),  # 20\n",
        "            (\n",
        "                self.length - self.penalty_box_length,\n",
        "                (self.width + self.penalty_box_width) / 2\n",
        "            ),  # 21\n",
        "            (self.length - self.penalty_spot_distance, self.width / 2),  # 22\n",
        "            (\n",
        "                self.length - self.goal_box_length,\n",
        "                (self.width - self.goal_box_width) / 2\n",
        "            ),  # 23\n",
        "            (\n",
        "                self.length - self.goal_box_length,\n",
        "                (self.width + self.goal_box_width) / 2\n",
        "            ),  # 24\n",
        "            (self.length, 0),  # 25\n",
        "            (self.length, (self.width - self.penalty_box_width) / 2),  # 26\n",
        "            (self.length, (self.width - self.goal_box_width) / 2),  # 27\n",
        "            (self.length, (self.width + self.goal_box_width) / 2),  # 28\n",
        "            (self.length, (self.width + self.penalty_box_width) / 2),  # 29\n",
        "            (self.length, self.width),  # 30\n",
        "            (self.length / 2 - self.centre_circle_radius, self.width / 2),  # 31\n",
        "            (self.length / 2 + self.centre_circle_radius, self.width / 2),  # 32\n",
        "        ]\n",
        "\n",
        "    edges: List[Tuple[int, int]] = field(default_factory=lambda: [\n",
        "        (1, 2), (2, 3), (3, 4), (4, 5), (5, 6), (7, 8),\n",
        "        (10, 11), (11, 12), (12, 13), (14, 15), (15, 16),\n",
        "        (16, 17), (18, 19), (19, 20), (20, 21), (23, 24),\n",
        "        (25, 26), (26, 27), (27, 28), (28, 29), (29, 30),\n",
        "        (1, 14), (2, 10), (3, 7), (4, 8), (5, 13), (6, 17),\n",
        "        (14, 25), (18, 26), (23, 27), (24, 28), (21, 29), (17, 30)\n",
        "    ])\n",
        "\n",
        "    labels: List[str] = field(default_factory=lambda: [\n",
        "        \"01\", \"02\", \"03\", \"04\", \"05\", \"06\", \"07\", \"08\", \"09\", \"10\",\n",
        "        \"11\", \"12\", \"13\", \"15\", \"16\", \"17\", \"18\", \"20\", \"21\", \"22\",\n",
        "        \"23\", \"24\", \"25\", \"26\", \"27\", \"28\", \"29\", \"30\", \"31\", \"32\",\n",
        "        \"14\", \"19\"\n",
        "    ])\n",
        "\n",
        "    colors: List[str] = field(default_factory=lambda: [\n",
        "        \"#FF1493\", \"#FF1493\", \"#FF1493\", \"#FF1493\", \"#FF1493\", \"#FF1493\",\n",
        "        \"#FF1493\", \"#FF1493\", \"#FF1493\", \"#FF1493\", \"#FF1493\", \"#FF1493\",\n",
        "        \"#FF1493\", \"#00BFFF\", \"#00BFFF\", \"#00BFFF\", \"#00BFFF\", \"#FF6347\",\n",
        "        \"#FF6347\", \"#FF6347\", \"#FF6347\", \"#FF6347\", \"#FF6347\", \"#FF6347\",\n",
        "        \"#FF6347\", \"#FF6347\", \"#FF6347\", \"#FF6347\", \"#FF6347\", \"#FF6347\",\n",
        "        \"#00BFFF\", \"#00BFFF\"\n",
        "    ])"
      ],
      "metadata": {
        "id": "8CUWn7GIUeVO",
        "outputId": "cfbac8ed-09d6-496a-b230-9833884c739f",
        "colab": {
          "base_uri": "https://localhost:8080/"
        }
      },
      "execution_count": 32,
      "outputs": [
        {
          "output_type": "stream",
          "name": "stdout",
          "text": [
            "  Preparing metadata (setup.py) ... \u001b[?25l\u001b[?25hdone\n",
            "\u001b[2K   \u001b[90m━━━━━━━━━━━━━━━━━━━━━━━━━━━━━━━━━━━━━━━━\u001b[0m \u001b[32m88.8/88.8 kB\u001b[0m \u001b[31m9.2 MB/s\u001b[0m eta \u001b[36m0:00:00\u001b[0m\n",
            "\u001b[2K   \u001b[90m━━━━━━━━━━━━━━━━━━━━━━━━━━━━━━━━━━━━━━━━\u001b[0m \u001b[32m56.9/56.9 kB\u001b[0m \u001b[31m5.2 MB/s\u001b[0m eta \u001b[36m0:00:00\u001b[0m\n",
            "\u001b[?25h  Building wheel for sports (setup.py) ... \u001b[?25l\u001b[?25hdone\n"
          ]
        }
      ]
    },
    {
      "cell_type": "code",
      "source": [
        "CONFIG = SoccerPitchConfiguration()\n",
        "CONFIG.vertices"
      ],
      "metadata": {
        "id": "gtnoYIuVVBxq",
        "outputId": "39464061-c75d-45b4-a46c-d7c6faab13ed",
        "colab": {
          "base_uri": "https://localhost:8080/"
        },
        "collapsed": true
      },
      "execution_count": 33,
      "outputs": [
        {
          "output_type": "execute_result",
          "data": {
            "text/plain": [
              "[(0, 0),\n",
              " (0, 1450.0),\n",
              " (0, 2584.0),\n",
              " (0, 4416.0),\n",
              " (0, 5550.0),\n",
              " (0, 7000),\n",
              " (550, 2584.0),\n",
              " (550, 4416.0),\n",
              " (1100, 3500.0),\n",
              " (2015, 1450.0),\n",
              " (2015, 2584.0),\n",
              " (2015, 4416.0),\n",
              " (2015, 5550.0),\n",
              " (6000.0, 0),\n",
              " (6000.0, 2585.0),\n",
              " (6000.0, 4415.0),\n",
              " (6000.0, 7000),\n",
              " (9985, 1450.0),\n",
              " (9985, 2584.0),\n",
              " (9985, 4416.0),\n",
              " (9985, 5550.0),\n",
              " (10900, 3500.0),\n",
              " (11450, 2584.0),\n",
              " (11450, 4416.0),\n",
              " (12000, 0),\n",
              " (12000, 1450.0),\n",
              " (12000, 2584.0),\n",
              " (12000, 4416.0),\n",
              " (12000, 5550.0),\n",
              " (12000, 7000),\n",
              " (5085.0, 3500.0),\n",
              " (6915.0, 3500.0)]"
            ]
          },
          "metadata": {},
          "execution_count": 33
        }
      ]
    },
    {
      "cell_type": "code",
      "source": [
        "try:\n",
        "  from ultralytics import YOLO\n",
        "except ModuleNotFoundError:\n",
        "  !pip install ultralytics\n",
        "  from ultralytics import YOLO\n",
        "\n",
        "# Load a pretrained YOLO11n model\n",
        "modelPlayers = YOLO(\"/content/drive/MyDrive/ML/FootballAnalysis/Models/bestFootballYoloSoFar.pt\")\n",
        "\n",
        "# Run inference on 'bus.jpg' with arguments\n",
        "modelPlayers.predict(\"test.png\", save=True, conf=0.5)\n",
        "\n",
        "modelBall = YOLO(\"/content/drive/MyDrive/ML/FootballAnalysis/Models/bestBallSoFar_0409.pt\")\n",
        "\n",
        "modelBall.predict(\"test.png\", save=True, conf=0.1)"
      ],
      "metadata": {
        "colab": {
          "base_uri": "https://localhost:8080/"
        },
        "id": "O84AKTDN8BDm",
        "outputId": "aaaab209-fbb3-426b-af6d-1a6af131dee5"
      },
      "execution_count": null,
      "outputs": [
        {
          "output_type": "stream",
          "name": "stdout",
          "text": [
            "\n",
            "image 1/1 /content/test.png: 384x640 23 players, 1 referee, 315.0ms\n",
            "Speed: 4.0ms preprocess, 315.0ms inference, 0.5ms postprocess per image at shape (1, 3, 384, 640)\n",
            "Results saved to \u001b[1mruns/detect/predict\u001b[0m\n",
            "\n",
            "image 1/1 /content/test.png: 384x640 2 balls, 5236.3ms\n",
            "Speed: 8.5ms preprocess, 5236.3ms inference, 4.0ms postprocess per image at shape (1, 3, 384, 640)\n",
            "Results saved to \u001b[1mruns/detect/predict3\u001b[0m\n"
          ]
        },
        {
          "output_type": "execute_result",
          "data": {
            "text/plain": [
              "[ultralytics.engine.results.Results object with attributes:\n",
              " \n",
              " boxes: ultralytics.engine.results.Boxes object\n",
              " keypoints: None\n",
              " masks: None\n",
              " names: {0: 'ball'}\n",
              " obb: None\n",
              " orig_img: array([[[105, 146, 100],\n",
              "         [ 98, 139,  93],\n",
              "         [101, 150,  97],\n",
              "         ...,\n",
              "         [ 82,  92, 100],\n",
              "         [ 85,  95, 103],\n",
              "         [ 87,  97, 105]],\n",
              " \n",
              "        [[104, 145,  99],\n",
              "         [105, 146, 100],\n",
              "         [114, 163, 110],\n",
              "         ...,\n",
              "         [ 87,  97, 105],\n",
              "         [ 89,  99, 107],\n",
              "         [ 90, 100, 108]],\n",
              " \n",
              "        [[101, 150,  97],\n",
              "         [110, 159, 106],\n",
              "         [115, 172, 114],\n",
              "         ...,\n",
              "         [ 88,  98, 106],\n",
              "         [ 90, 100, 108],\n",
              "         [ 92, 102, 110]],\n",
              " \n",
              "        ...,\n",
              " \n",
              "        [[ 78, 103,  74],\n",
              "         [ 78, 103,  74],\n",
              "         [ 78, 103,  74],\n",
              "         ...,\n",
              "         [ 43,  47,  30],\n",
              "         [ 44,  48,  31],\n",
              "         [ 44,  48,  31]],\n",
              " \n",
              "        [[ 78, 103,  74],\n",
              "         [ 78, 103,  74],\n",
              "         [ 78, 103,  74],\n",
              "         ...,\n",
              "         [ 55,  56,  44],\n",
              "         [ 57,  58,  46],\n",
              "         [ 57,  58,  46]],\n",
              " \n",
              "        [[ 78, 103,  74],\n",
              "         [ 78, 103,  74],\n",
              "         [ 78, 103,  74],\n",
              "         ...,\n",
              "         [ 59,  60,  48],\n",
              "         [ 60,  61,  49],\n",
              "         [ 60,  61,  49]]], dtype=uint8)\n",
              " orig_shape: (1080, 1920)\n",
              " path: '/content/test.png'\n",
              " probs: None\n",
              " save_dir: 'runs/detect/predict3'\n",
              " speed: {'preprocess': 8.528470993041992, 'inference': 5236.308574676514, 'postprocess': 4.044771194458008}]"
            ]
          },
          "metadata": {},
          "execution_count": 36
        }
      ]
    }
  ]
}